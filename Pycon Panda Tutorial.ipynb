{
 "metadata": {
  "name": "",
  "signature": "sha256:0f71f596efb8c2f45e10ca3c9ac47a3ae1520408d7a61229bb5ea7a5de849278"
 },
 "nbformat": 3,
 "nbformat_minor": 0,
 "worksheets": [
  {
   "cells": [
    {
     "cell_type": "code",
     "collapsed": false,
     "input": [
      "%matplotlib inline \n",
      "import pandas as pd"
     ],
     "language": "python",
     "metadata": {},
     "outputs": [],
     "prompt_number": 80
    },
    {
     "cell_type": "code",
     "collapsed": false,
     "input": [
      "from IPython.core.display import HTML\n",
      "css = open('C:\\\\Users\\\\Home\\\\Documents\\\\Python_Code\\\\pycon-pandas-tutorial-master\\\\style-table.css').read() + open('C:\\\\Users\\\\Home\\\\Documents\\\\Python_Code\\\\pycon-pandas-tutorial-master\\\\style-notebook.css').read()\n",
      "HTML('<style>{}</style>'.format(css))"
     ],
     "language": "python",
     "metadata": {},
     "outputs": [
      {
       "html": [
        "<style>body {\n",
        "    margin: 0;\n",
        "    font-family: Helvetica;\n",
        "}\n",
        "table.dataframe {\n",
        "    border-collapse: collapse;\n",
        "    border: none;\n",
        "}\n",
        "table.dataframe tr {\n",
        "    border: none;\n",
        "}\n",
        "table.dataframe td, table.dataframe th {\n",
        "    margin: 0;\n",
        "    border: 1px solid white;\n",
        "    padding-left: 0.25em;\n",
        "    padding-right: 0.25em;\n",
        "}\n",
        "table.dataframe th:not(:empty) {\n",
        "    background-color: #fec;\n",
        "    text-align: left;\n",
        "    font-weight: normal;\n",
        "}\n",
        "table.dataframe tr:nth-child(2) th:empty {\n",
        "    border-left: none;\n",
        "    border-right: 1px dashed #888;\n",
        "}\n",
        "table.dataframe td {\n",
        "    border: 2px solid #ccf;\n",
        "    background-color: #f4f4ff;\n",
        "}\n",
        "h3 {\n",
        "    color: white;\n",
        "    background-color: black;\n",
        "    padding: 0.5em;\n",
        "}\n",
        "</style>"
       ],
       "metadata": {},
       "output_type": "pyout",
       "prompt_number": 81,
       "text": [
        "<IPython.core.display.HTML at 0x2595cef0>"
       ]
      }
     ],
     "prompt_number": 81
    },
    {
     "cell_type": "code",
     "collapsed": false,
     "input": [
      "titles = pd.DataFrame.from_csv('C:\\\\Users\\\\Home\\\\Documents\\\\Python_Code\\\\pycon-pandas-tutorial-master\\\\data\\\\titles.csv', index_col=None)\n",
      "titles.head()"
     ],
     "language": "python",
     "metadata": {},
     "outputs": [
      {
       "html": [
        "<div style=\"max-width:1500px;overflow:auto;\">\n",
        "<table border=\"1\" class=\"dataframe\">\n",
        "  <thead>\n",
        "    <tr style=\"text-align: right;\">\n",
        "      <th></th>\n",
        "      <th>title</th>\n",
        "      <th>year</th>\n",
        "    </tr>\n",
        "  </thead>\n",
        "  <tbody>\n",
        "    <tr>\n",
        "      <th>0</th>\n",
        "      <td>The Rising Son</td>\n",
        "      <td>1990</td>\n",
        "    </tr>\n",
        "    <tr>\n",
        "      <th>1</th>\n",
        "      <td>The Thousand Plane Raid</td>\n",
        "      <td>1969</td>\n",
        "    </tr>\n",
        "    <tr>\n",
        "      <th>2</th>\n",
        "      <td>Crucea de piatra</td>\n",
        "      <td>1993</td>\n",
        "    </tr>\n",
        "    <tr>\n",
        "      <th>3</th>\n",
        "      <td>The 86</td>\n",
        "      <td>2015</td>\n",
        "    </tr>\n",
        "    <tr>\n",
        "      <th>4</th>\n",
        "      <td>Gaiking II</td>\n",
        "      <td>2011</td>\n",
        "    </tr>\n",
        "  </tbody>\n",
        "</table>\n",
        "</div>"
       ],
       "metadata": {},
       "output_type": "pyout",
       "prompt_number": 82,
       "text": [
        "                     title  year\n",
        "0           The Rising Son  1990\n",
        "1  The Thousand Plane Raid  1969\n",
        "2         Crucea de piatra  1993\n",
        "3                   The 86  2015\n",
        "4               Gaiking II  2011"
       ]
      }
     ],
     "prompt_number": 82
    },
    {
     "cell_type": "code",
     "collapsed": false,
     "input": [
      "cast = pd.DataFrame.from_csv('C:\\\\Users\\\\Home\\\\Documents\\\\Python_Code\\\\pycon-pandas-tutorial-master\\\\data\\\\cast.csv', index_col=None)\n",
      "cast.head()"
     ],
     "language": "python",
     "metadata": {},
     "outputs": [
      {
       "html": [
        "<div style=\"max-width:1500px;overflow:auto;\">\n",
        "<table border=\"1\" class=\"dataframe\">\n",
        "  <thead>\n",
        "    <tr style=\"text-align: right;\">\n",
        "      <th></th>\n",
        "      <th>title</th>\n",
        "      <th>year</th>\n",
        "      <th>name</th>\n",
        "      <th>type</th>\n",
        "      <th>character</th>\n",
        "      <th>n</th>\n",
        "    </tr>\n",
        "  </thead>\n",
        "  <tbody>\n",
        "    <tr>\n",
        "      <th>0</th>\n",
        "      <td>Suuri illusioni</td>\n",
        "      <td>1985</td>\n",
        "      <td>Homo $</td>\n",
        "      <td>actor</td>\n",
        "      <td>Guests</td>\n",
        "      <td>22</td>\n",
        "    </tr>\n",
        "    <tr>\n",
        "      <th>1</th>\n",
        "      <td>Gangsta Rap: The Glockumentary</td>\n",
        "      <td>2007</td>\n",
        "      <td>Too $hort</td>\n",
        "      <td>actor</td>\n",
        "      <td>Himself</td>\n",
        "      <td>NaN</td>\n",
        "    </tr>\n",
        "    <tr>\n",
        "      <th>2</th>\n",
        "      <td>Menace II Society</td>\n",
        "      <td>1993</td>\n",
        "      <td>Too $hort</td>\n",
        "      <td>actor</td>\n",
        "      <td>Lew-Loc</td>\n",
        "      <td>27</td>\n",
        "    </tr>\n",
        "    <tr>\n",
        "      <th>3</th>\n",
        "      <td>Porndogs: The Adventures of Sadie</td>\n",
        "      <td>2009</td>\n",
        "      <td>Too $hort</td>\n",
        "      <td>actor</td>\n",
        "      <td>Bosco</td>\n",
        "      <td>3</td>\n",
        "    </tr>\n",
        "    <tr>\n",
        "      <th>4</th>\n",
        "      <td>Stop Pepper Palmer</td>\n",
        "      <td>2014</td>\n",
        "      <td>Too $hort</td>\n",
        "      <td>actor</td>\n",
        "      <td>Himself</td>\n",
        "      <td>NaN</td>\n",
        "    </tr>\n",
        "  </tbody>\n",
        "</table>\n",
        "</div>"
       ],
       "metadata": {},
       "output_type": "pyout",
       "prompt_number": 83,
       "text": [
        "                               title  year       name   type character   n\n",
        "0                    Suuri illusioni  1985     Homo $  actor    Guests  22\n",
        "1     Gangsta Rap: The Glockumentary  2007  Too $hort  actor   Himself NaN\n",
        "2                  Menace II Society  1993  Too $hort  actor   Lew-Loc  27\n",
        "3  Porndogs: The Adventures of Sadie  2009  Too $hort  actor     Bosco   3\n",
        "4                 Stop Pepper Palmer  2014  Too $hort  actor   Himself NaN"
       ]
      }
     ],
     "prompt_number": 83
    },
    {
     "cell_type": "code",
     "collapsed": false,
     "input": [
      "len(titles)"
     ],
     "language": "python",
     "metadata": {},
     "outputs": [
      {
       "metadata": {},
       "output_type": "pyout",
       "prompt_number": 7,
       "text": [
        "214591"
       ]
      }
     ],
     "prompt_number": 7
    },
    {
     "cell_type": "code",
     "collapsed": false,
     "input": [
      "titles.sort(['year']).head(2)"
     ],
     "language": "python",
     "metadata": {},
     "outputs": [
      {
       "html": [
        "<div style=\"max-width:1500px;overflow:auto;\">\n",
        "<table border=\"1\" class=\"dataframe\">\n",
        "  <thead>\n",
        "    <tr style=\"text-align: right;\">\n",
        "      <th></th>\n",
        "      <th>title</th>\n",
        "      <th>year</th>\n",
        "    </tr>\n",
        "  </thead>\n",
        "  <tbody>\n",
        "    <tr>\n",
        "      <th>164126</th>\n",
        "      <td>Miss Jerry</td>\n",
        "      <td>1894</td>\n",
        "    </tr>\n",
        "    <tr>\n",
        "      <th>85174</th>\n",
        "      <td>Reproduction of the Corbett and Fitzsimmons Fight</td>\n",
        "      <td>1897</td>\n",
        "    </tr>\n",
        "  </tbody>\n",
        "</table>\n",
        "</div>"
       ],
       "metadata": {},
       "output_type": "pyout",
       "prompt_number": 14,
       "text": [
        "                                                    title  year\n",
        "164126                                         Miss Jerry  1894\n",
        "85174   Reproduction of the Corbett and Fitzsimmons Fight  1897"
       ]
      }
     ],
     "prompt_number": 14
    },
    {
     "cell_type": "code",
     "collapsed": false,
     "input": [
      "#titles[titles['title'] == \"Hamlet\"].count()\n",
      "sum(titles.title.str.startswith('Hamlet') == True)"
     ],
     "language": "python",
     "metadata": {},
     "outputs": [
      {
       "metadata": {},
       "output_type": "pyout",
       "prompt_number": 97,
       "text": [
        "title    19\n",
        "year     19\n",
        "dtype: int64"
       ]
      }
     ],
     "prompt_number": 97
    },
    {
     "cell_type": "code",
     "collapsed": false,
     "input": [
      "titles[titles['title'] == \"North by Northwest\"].count()"
     ],
     "language": "python",
     "metadata": {},
     "outputs": [
      {
       "metadata": {},
       "output_type": "pyout",
       "prompt_number": 17,
       "text": [
        "title    1\n",
        "year     1\n",
        "dtype: int64"
       ]
      }
     ],
     "prompt_number": 17
    },
    {
     "cell_type": "code",
     "collapsed": false,
     "input": [
      "titles[titles['title'] == \"Hamlet\"].sort(['year']).head(1)"
     ],
     "language": "python",
     "metadata": {},
     "outputs": [
      {
       "html": [
        "<div style=\"max-width:1500px;overflow:auto;\">\n",
        "<table border=\"1\" class=\"dataframe\">\n",
        "  <thead>\n",
        "    <tr style=\"text-align: right;\">\n",
        "      <th></th>\n",
        "      <th>title</th>\n",
        "      <th>year</th>\n",
        "    </tr>\n",
        "  </thead>\n",
        "  <tbody>\n",
        "    <tr>\n",
        "      <th>43227</th>\n",
        "      <td>Hamlet</td>\n",
        "      <td>1910</td>\n",
        "    </tr>\n",
        "  </tbody>\n",
        "</table>\n",
        "</div>"
       ],
       "metadata": {},
       "output_type": "pyout",
       "prompt_number": 18,
       "text": [
        "        title  year\n",
        "43227  Hamlet  1910"
       ]
      }
     ],
     "prompt_number": 18
    },
    {
     "cell_type": "code",
     "collapsed": false,
     "input": [
      "titles[titles['title'] == \"Treasure Island\"].sort(['year'])"
     ],
     "language": "python",
     "metadata": {},
     "outputs": [
      {
       "html": [
        "<div style=\"max-width:1500px;overflow:auto;\">\n",
        "<table border=\"1\" class=\"dataframe\">\n",
        "  <thead>\n",
        "    <tr style=\"text-align: right;\">\n",
        "      <th></th>\n",
        "      <th>title</th>\n",
        "      <th>year</th>\n",
        "    </tr>\n",
        "  </thead>\n",
        "  <tbody>\n",
        "    <tr>\n",
        "      <th>190155</th>\n",
        "      <td>Treasure Island</td>\n",
        "      <td>1918</td>\n",
        "    </tr>\n",
        "    <tr>\n",
        "      <th>47440</th>\n",
        "      <td>Treasure Island</td>\n",
        "      <td>1920</td>\n",
        "    </tr>\n",
        "    <tr>\n",
        "      <th>191679</th>\n",
        "      <td>Treasure Island</td>\n",
        "      <td>1934</td>\n",
        "    </tr>\n",
        "    <tr>\n",
        "      <th>89627</th>\n",
        "      <td>Treasure Island</td>\n",
        "      <td>1950</td>\n",
        "    </tr>\n",
        "    <tr>\n",
        "      <th>82815</th>\n",
        "      <td>Treasure Island</td>\n",
        "      <td>1972</td>\n",
        "    </tr>\n",
        "    <tr>\n",
        "      <th>102996</th>\n",
        "      <td>Treasure Island</td>\n",
        "      <td>1973</td>\n",
        "    </tr>\n",
        "    <tr>\n",
        "      <th>189566</th>\n",
        "      <td>Treasure Island</td>\n",
        "      <td>1985</td>\n",
        "    </tr>\n",
        "    <tr>\n",
        "      <th>165607</th>\n",
        "      <td>Treasure Island</td>\n",
        "      <td>1999</td>\n",
        "    </tr>\n",
        "  </tbody>\n",
        "</table>\n",
        "</div>"
       ],
       "metadata": {},
       "output_type": "pyout",
       "prompt_number": 20,
       "text": [
        "                  title  year\n",
        "190155  Treasure Island  1918\n",
        "47440   Treasure Island  1920\n",
        "191679  Treasure Island  1934\n",
        "89627   Treasure Island  1950\n",
        "82815   Treasure Island  1972\n",
        "102996  Treasure Island  1973\n",
        "189566  Treasure Island  1985\n",
        "165607  Treasure Island  1999"
       ]
      }
     ],
     "prompt_number": 20
    },
    {
     "cell_type": "code",
     "collapsed": false,
     "input": [
      "#len(titles[titles['year'] == 1950 ])\n",
      "titles[ titles['year'] == 1950].year.value_counts()"
     ],
     "language": "python",
     "metadata": {},
     "outputs": [
      {
       "metadata": {},
       "output_type": "pyout",
       "prompt_number": 100,
       "text": [
        "1950    1036\n",
        "dtype: int64"
       ]
      }
     ],
     "prompt_number": 100
    },
    {
     "cell_type": "code",
     "collapsed": false,
     "input": [
      "titles.year.value_counts().sort_index().plot()"
     ],
     "language": "python",
     "metadata": {},
     "outputs": [
      {
       "metadata": {},
       "output_type": "pyout",
       "prompt_number": 107,
       "text": [
        "<matplotlib.axes._subplots.AxesSubplot at 0x42ea5f60>"
       ]
      },
      {
       "metadata": {},
       "output_type": "display_data",
       "png": "[encoded data removed]",
       "text": [
        "<matplotlib.figure.Figure at 0x42c10320>"
       ]
      }
     ],
     "prompt_number": 107
    },
    {
     "cell_type": "code",
     "collapsed": false,
     "input": [
      "cast[ cast.character == 'Kermit the Frog'].plot(x='year', y = 'n', kind = 'scatter')"
     ],
     "language": "python",
     "metadata": {},
     "outputs": [
      {
       "metadata": {},
       "output_type": "pyout",
       "prompt_number": 105,
       "text": [
        "<matplotlib.axes._subplots.AxesSubplot at 0x428658d0>"
       ]
      },
      {
       "metadata": {},
       "output_type": "display_data",
       "png": "[encoded data removed]",
       "text": [
        "<matplotlib.figure.Figure at 0x264e4ac8>"
       ]
      }
     ],
     "prompt_number": 105
    },
    {
     "cell_type": "code",
     "collapsed": false,
     "input": [
      "len(titles[titles['year'] == 1960 ])"
     ],
     "language": "python",
     "metadata": {},
     "outputs": [
      {
       "metadata": {},
       "output_type": "pyout",
       "prompt_number": 22,
       "text": [
        "1461"
       ]
      }
     ],
     "prompt_number": 22
    },
    {
     "cell_type": "code",
     "collapsed": false,
     "input": [
      "len(titles[ (titles['year'] >= 1950) & (titles['year'] <= 1959) ])"
     ],
     "language": "python",
     "metadata": {},
     "outputs": [
      {
       "metadata": {},
       "output_type": "pyout",
       "prompt_number": 33,
       "text": [
        "12110"
       ]
      }
     ],
     "prompt_number": 33
    },
    {
     "cell_type": "code",
     "collapsed": false,
     "input": [
      "titles[titles['title'] == 'Batman'].year"
     ],
     "language": "python",
     "metadata": {},
     "outputs": [
      {
       "metadata": {},
       "output_type": "pyout",
       "prompt_number": 36,
       "text": [
        "51839    1989\n",
        "69043    1943\n",
        "Name: year, dtype: int64"
       ]
      }
     ],
     "prompt_number": 36
    },
    {
     "cell_type": "code",
     "collapsed": false,
     "input": [
      "len(cast[cast['title'] == 'Inception'])"
     ],
     "language": "python",
     "metadata": {},
     "outputs": [
      {
       "metadata": {},
       "output_type": "pyout",
       "prompt_number": 40,
       "text": [
        "61"
       ]
      }
     ],
     "prompt_number": 40
    },
    {
     "cell_type": "code",
     "collapsed": false,
     "input": [
      "sum(cast[cast['title'] == 'Inception'].n.notnull() == True)"
     ],
     "language": "python",
     "metadata": {},
     "outputs": [
      {
       "metadata": {},
       "output_type": "pyout",
       "prompt_number": 46,
       "text": [
        "40"
       ]
      }
     ],
     "prompt_number": 46
    },
    {
     "cell_type": "code",
     "collapsed": false,
     "input": [
      "sum(cast[cast['title'] == 'Inception'].n.notnull() != True)"
     ],
     "language": "python",
     "metadata": {},
     "outputs": [
      {
       "metadata": {},
       "output_type": "pyout",
       "prompt_number": 47,
       "text": [
        "21"
       ]
      }
     ],
     "prompt_number": 47
    },
    {
     "cell_type": "code",
     "collapsed": false,
     "input": [
      "cast[cast['title'] == 'North by Northwest'].sort('n').dropna()"
     ],
     "language": "python",
     "metadata": {},
     "outputs": [
      {
       "html": [
        "<div style=\"max-width:1500px;overflow:auto;\">\n",
        "<table border=\"1\" class=\"dataframe\">\n",
        "  <thead>\n",
        "    <tr style=\"text-align: right;\">\n",
        "      <th></th>\n",
        "      <th>title</th>\n",
        "      <th>year</th>\n",
        "      <th>name</th>\n",
        "      <th>type</th>\n",
        "      <th>character</th>\n",
        "      <th>n</th>\n",
        "    </tr>\n",
        "  </thead>\n",
        "  <tbody>\n",
        "    <tr>\n",
        "      <th>773496</th>\n",
        "      <td>North by Northwest</td>\n",
        "      <td>1959</td>\n",
        "      <td>Cary Grant</td>\n",
        "      <td>actor</td>\n",
        "      <td>Roger O. Thornhill</td>\n",
        "      <td>1</td>\n",
        "    </tr>\n",
        "    <tr>\n",
        "      <th>1292652</th>\n",
        "      <td>North by Northwest</td>\n",
        "      <td>1959</td>\n",
        "      <td>James Mason</td>\n",
        "      <td>actor</td>\n",
        "      <td>Phillip Vandamm</td>\n",
        "      <td>3</td>\n",
        "    </tr>\n",
        "    <tr>\n",
        "      <th>315343</th>\n",
        "      <td>North by Northwest</td>\n",
        "      <td>1959</td>\n",
        "      <td>Leo G. Carroll</td>\n",
        "      <td>actor</td>\n",
        "      <td>The Professor</td>\n",
        "      <td>5</td>\n",
        "    </tr>\n",
        "    <tr>\n",
        "      <th>1504777</th>\n",
        "      <td>North by Northwest</td>\n",
        "      <td>1959</td>\n",
        "      <td>Philip Ober</td>\n",
        "      <td>actor</td>\n",
        "      <td>Lester Townsend</td>\n",
        "      <td>7</td>\n",
        "    </tr>\n",
        "    <tr>\n",
        "      <th>1130557</th>\n",
        "      <td>North by Northwest</td>\n",
        "      <td>1959</td>\n",
        "      <td>Martin Landau</td>\n",
        "      <td>actor</td>\n",
        "      <td>Leonard</td>\n",
        "      <td>8</td>\n",
        "    </tr>\n",
        "    <tr>\n",
        "      <th>2167754</th>\n",
        "      <td>North by Northwest</td>\n",
        "      <td>1959</td>\n",
        "      <td>Adam Williams</td>\n",
        "      <td>actor</td>\n",
        "      <td>Valerian</td>\n",
        "      <td>9</td>\n",
        "    </tr>\n",
        "    <tr>\n",
        "      <th>1607029</th>\n",
        "      <td>North by Northwest</td>\n",
        "      <td>1959</td>\n",
        "      <td>Edward Platt</td>\n",
        "      <td>actor</td>\n",
        "      <td>Victor Larrabee</td>\n",
        "      <td>10</td>\n",
        "    </tr>\n",
        "    <tr>\n",
        "      <th>590702</th>\n",
        "      <td>North by Northwest</td>\n",
        "      <td>1959</td>\n",
        "      <td>Robert Ellenstein</td>\n",
        "      <td>actor</td>\n",
        "      <td>Licht</td>\n",
        "      <td>11</td>\n",
        "    </tr>\n",
        "    <tr>\n",
        "      <th>2033529</th>\n",
        "      <td>North by Northwest</td>\n",
        "      <td>1959</td>\n",
        "      <td>Les Tremayne</td>\n",
        "      <td>actor</td>\n",
        "      <td>Auctioneer</td>\n",
        "      <td>12</td>\n",
        "    </tr>\n",
        "    <tr>\n",
        "      <th>411247</th>\n",
        "      <td>North by Northwest</td>\n",
        "      <td>1959</td>\n",
        "      <td>Philip Coolidge</td>\n",
        "      <td>actor</td>\n",
        "      <td>Dr. Cross</td>\n",
        "      <td>13</td>\n",
        "    </tr>\n",
        "    <tr>\n",
        "      <th>1339004</th>\n",
        "      <td>North by Northwest</td>\n",
        "      <td>1959</td>\n",
        "      <td>Patrick McVey</td>\n",
        "      <td>actor</td>\n",
        "      <td>Sergeant Flamm</td>\n",
        "      <td>14</td>\n",
        "    </tr>\n",
        "    <tr>\n",
        "      <th>180985</th>\n",
        "      <td>North by Northwest</td>\n",
        "      <td>1959</td>\n",
        "      <td>Edward Binns</td>\n",
        "      <td>actor</td>\n",
        "      <td>Captain Junket</td>\n",
        "      <td>15</td>\n",
        "    </tr>\n",
        "    <tr>\n",
        "      <th>1228229</th>\n",
        "      <td>North by Northwest</td>\n",
        "      <td>1959</td>\n",
        "      <td>Ken Lynch</td>\n",
        "      <td>actor</td>\n",
        "      <td>Charley - Chicago Policeman</td>\n",
        "      <td>16</td>\n",
        "    </tr>\n",
        "  </tbody>\n",
        "</table>\n",
        "</div>"
       ],
       "metadata": {},
       "output_type": "pyout",
       "prompt_number": 52,
       "text": [
        "                      title  year               name   type  \\\n",
        "773496   North by Northwest  1959         Cary Grant  actor   \n",
        "1292652  North by Northwest  1959        James Mason  actor   \n",
        "315343   North by Northwest  1959     Leo G. Carroll  actor   \n",
        "1504777  North by Northwest  1959        Philip Ober  actor   \n",
        "1130557  North by Northwest  1959      Martin Landau  actor   \n",
        "2167754  North by Northwest  1959      Adam Williams  actor   \n",
        "1607029  North by Northwest  1959       Edward Platt  actor   \n",
        "590702   North by Northwest  1959  Robert Ellenstein  actor   \n",
        "2033529  North by Northwest  1959       Les Tremayne  actor   \n",
        "411247   North by Northwest  1959    Philip Coolidge  actor   \n",
        "1339004  North by Northwest  1959      Patrick McVey  actor   \n",
        "180985   North by Northwest  1959       Edward Binns  actor   \n",
        "1228229  North by Northwest  1959          Ken Lynch  actor   \n",
        "\n",
        "                           character   n  \n",
        "773496            Roger O. Thornhill   1  \n",
        "1292652              Phillip Vandamm   3  \n",
        "315343                 The Professor   5  \n",
        "1504777              Lester Townsend   7  \n",
        "1130557                      Leonard   8  \n",
        "2167754                     Valerian   9  \n",
        "1607029              Victor Larrabee  10  \n",
        "590702                         Licht  11  \n",
        "2033529                   Auctioneer  12  \n",
        "411247                     Dr. Cross  13  \n",
        "1339004               Sergeant Flamm  14  \n",
        "180985                Captain Junket  15  \n",
        "1228229  Charley - Chicago Policeman  16  "
       ]
      }
     ],
     "prompt_number": 52
    },
    {
     "cell_type": "code",
     "collapsed": false,
     "input": [
      "cast[ (cast['title'] == 'Sleuth') & (cast['year'] == 1972 )].sort('n')"
     ],
     "language": "python",
     "metadata": {},
     "outputs": [
      {
       "html": [
        "<div style=\"max-width:1500px;overflow:auto;\">\n",
        "<table border=\"1\" class=\"dataframe\">\n",
        "  <thead>\n",
        "    <tr style=\"text-align: right;\">\n",
        "      <th></th>\n",
        "      <th>title</th>\n",
        "      <th>year</th>\n",
        "      <th>name</th>\n",
        "      <th>type</th>\n",
        "      <th>character</th>\n",
        "      <th>n</th>\n",
        "    </tr>\n",
        "  </thead>\n",
        "  <tbody>\n",
        "    <tr>\n",
        "      <th>1513570</th>\n",
        "      <td>Sleuth</td>\n",
        "      <td>1972</td>\n",
        "      <td>Laurence Olivier</td>\n",
        "      <td>actor</td>\n",
        "      <td>Andrew Wyke</td>\n",
        "      <td>1</td>\n",
        "    </tr>\n",
        "    <tr>\n",
        "      <th>288502</th>\n",
        "      <td>Sleuth</td>\n",
        "      <td>1972</td>\n",
        "      <td>Michael Caine</td>\n",
        "      <td>actor</td>\n",
        "      <td>Milo Tindle</td>\n",
        "      <td>2</td>\n",
        "    </tr>\n",
        "    <tr>\n",
        "      <th>330750</th>\n",
        "      <td>Sleuth</td>\n",
        "      <td>1972</td>\n",
        "      <td>Alec Cawthorne</td>\n",
        "      <td>actor</td>\n",
        "      <td>Inspector Doppler</td>\n",
        "      <td>3</td>\n",
        "    </tr>\n",
        "    <tr>\n",
        "      <th>1299944</th>\n",
        "      <td>Sleuth</td>\n",
        "      <td>1972</td>\n",
        "      <td>John (II) Matthews</td>\n",
        "      <td>actor</td>\n",
        "      <td>Detective Sergeant Tarrant</td>\n",
        "      <td>4</td>\n",
        "    </tr>\n",
        "    <tr>\n",
        "      <th>2406762</th>\n",
        "      <td>Sleuth</td>\n",
        "      <td>1972</td>\n",
        "      <td>Eve (III) Channing</td>\n",
        "      <td>actress</td>\n",
        "      <td>Marguerite Wyke</td>\n",
        "      <td>5</td>\n",
        "    </tr>\n",
        "    <tr>\n",
        "      <th>1285278</th>\n",
        "      <td>Sleuth</td>\n",
        "      <td>1972</td>\n",
        "      <td>Teddy Martin</td>\n",
        "      <td>actor</td>\n",
        "      <td>Police Constable Higgs</td>\n",
        "      <td>6</td>\n",
        "    </tr>\n",
        "  </tbody>\n",
        "</table>\n",
        "</div>"
       ],
       "metadata": {},
       "output_type": "pyout",
       "prompt_number": 54,
       "text": [
        "          title  year                name     type  \\\n",
        "1513570  Sleuth  1972    Laurence Olivier    actor   \n",
        "288502   Sleuth  1972       Michael Caine    actor   \n",
        "330750   Sleuth  1972      Alec Cawthorne    actor   \n",
        "1299944  Sleuth  1972  John (II) Matthews    actor   \n",
        "2406762  Sleuth  1972  Eve (III) Channing  actress   \n",
        "1285278  Sleuth  1972        Teddy Martin    actor   \n",
        "\n",
        "                          character  n  \n",
        "1513570                 Andrew Wyke  1  \n",
        "288502                  Milo Tindle  2  \n",
        "330750            Inspector Doppler  3  \n",
        "1299944  Detective Sergeant Tarrant  4  \n",
        "2406762             Marguerite Wyke  5  \n",
        "1285278      Police Constable Higgs  6  "
       ]
      }
     ],
     "prompt_number": 54
    },
    {
     "cell_type": "code",
     "collapsed": false,
     "input": [
      "cast[ (cast['title'] == 'Sleuth') & (cast['year'] != 1972 )].sort('n')"
     ],
     "language": "python",
     "metadata": {},
     "outputs": [
      {
       "html": [
        "<div style=\"max-width:1500px;overflow:auto;\">\n",
        "<table border=\"1\" class=\"dataframe\">\n",
        "  <thead>\n",
        "    <tr style=\"text-align: right;\">\n",
        "      <th></th>\n",
        "      <th>title</th>\n",
        "      <th>year</th>\n",
        "      <th>name</th>\n",
        "      <th>type</th>\n",
        "      <th>character</th>\n",
        "      <th>n</th>\n",
        "    </tr>\n",
        "  </thead>\n",
        "  <tbody>\n",
        "    <tr>\n",
        "      <th>288503</th>\n",
        "      <td>Sleuth</td>\n",
        "      <td>2007</td>\n",
        "      <td>Michael Caine</td>\n",
        "      <td>actor</td>\n",
        "      <td>Andrew</td>\n",
        "      <td>1</td>\n",
        "    </tr>\n",
        "    <tr>\n",
        "      <th>1147041</th>\n",
        "      <td>Sleuth</td>\n",
        "      <td>2007</td>\n",
        "      <td>Jude Law</td>\n",
        "      <td>actor</td>\n",
        "      <td>Milo</td>\n",
        "      <td>2</td>\n",
        "    </tr>\n",
        "    <tr>\n",
        "      <th>1602268</th>\n",
        "      <td>Sleuth</td>\n",
        "      <td>2007</td>\n",
        "      <td>Harold Pinter</td>\n",
        "      <td>actor</td>\n",
        "      <td>Man on T.V.</td>\n",
        "      <td>3</td>\n",
        "    </tr>\n",
        "    <tr>\n",
        "      <th>228757</th>\n",
        "      <td>Sleuth</td>\n",
        "      <td>2007</td>\n",
        "      <td>Kenneth Branagh</td>\n",
        "      <td>actor</td>\n",
        "      <td>Other Man on T.V.</td>\n",
        "      <td>NaN</td>\n",
        "    </tr>\n",
        "    <tr>\n",
        "      <th>330751</th>\n",
        "      <td>Sleuth</td>\n",
        "      <td>2007</td>\n",
        "      <td>Alec (II) Cawthorne</td>\n",
        "      <td>actor</td>\n",
        "      <td>Inspector Doppler</td>\n",
        "      <td>NaN</td>\n",
        "    </tr>\n",
        "    <tr>\n",
        "      <th>2406761</th>\n",
        "      <td>Sleuth</td>\n",
        "      <td>2007</td>\n",
        "      <td>Eve (II) Channing</td>\n",
        "      <td>actress</td>\n",
        "      <td>Marguerite Wyke</td>\n",
        "      <td>NaN</td>\n",
        "    </tr>\n",
        "  </tbody>\n",
        "</table>\n",
        "</div>"
       ],
       "metadata": {},
       "output_type": "pyout",
       "prompt_number": 55,
       "text": [
        "          title  year                 name     type          character   n\n",
        "288503   Sleuth  2007        Michael Caine    actor             Andrew   1\n",
        "1147041  Sleuth  2007             Jude Law    actor               Milo   2\n",
        "1602268  Sleuth  2007        Harold Pinter    actor        Man on T.V.   3\n",
        "228757   Sleuth  2007      Kenneth Branagh    actor  Other Man on T.V. NaN\n",
        "330751   Sleuth  2007  Alec (II) Cawthorne    actor  Inspector Doppler NaN\n",
        "2406761  Sleuth  2007    Eve (II) Channing  actress    Marguerite Wyke NaN"
       ]
      }
     ],
     "prompt_number": 55
    },
    {
     "cell_type": "code",
     "collapsed": false,
     "input": [
      "cast[ (cast['title'] == 'Hamlet') & (cast['year'] ==  1921)].name.count()"
     ],
     "language": "python",
     "metadata": {},
     "outputs": [
      {
       "metadata": {},
       "output_type": "pyout",
       "prompt_number": 57,
       "text": [
        "7"
       ]
      }
     ],
     "prompt_number": 57
    },
    {
     "cell_type": "code",
     "collapsed": false,
     "input": [
      "cast[ (cast['title'] == 'Hamlet') & (cast['year'] ==  1996)].name.count()"
     ],
     "language": "python",
     "metadata": {},
     "outputs": [
      {
       "metadata": {},
       "output_type": "pyout",
       "prompt_number": 58,
       "text": [
        "47"
       ]
      }
     ],
     "prompt_number": 58
    },
    {
     "cell_type": "code",
     "collapsed": false,
     "input": [
      "cast[ (cast['title'] == 'Hamlet')].name.count()"
     ],
     "language": "python",
     "metadata": {},
     "outputs": [
      {
       "metadata": {},
       "output_type": "pyout",
       "prompt_number": 59,
       "text": [
        "256"
       ]
      }
     ],
     "prompt_number": 59
    },
    {
     "cell_type": "code",
     "collapsed": false,
     "input": [
      "cast[ (cast['title'] == 'Hamlet') & (cast['character'] == 'Ophelia')].name.count()"
     ],
     "language": "python",
     "metadata": {},
     "outputs": [
      {
       "metadata": {},
       "output_type": "pyout",
       "prompt_number": 60,
       "text": [
        "6"
       ]
      }
     ],
     "prompt_number": 60
    },
    {
     "cell_type": "code",
     "collapsed": false,
     "input": [
      "sum(cast['character'] == 'The Dude')"
     ],
     "language": "python",
     "metadata": {},
     "outputs": [
      {
       "metadata": {},
       "output_type": "pyout",
       "prompt_number": 61,
       "text": [
        "16"
       ]
      }
     ],
     "prompt_number": 61
    },
    {
     "cell_type": "code",
     "collapsed": false,
     "input": [
      "len(cast[ cast['character'] == 'The Stranger'])"
     ],
     "language": "python",
     "metadata": {},
     "outputs": [
      {
       "metadata": {},
       "output_type": "pyout",
       "prompt_number": 63,
       "text": [
        "186"
       ]
      }
     ],
     "prompt_number": 63
    },
    {
     "cell_type": "code",
     "collapsed": false,
     "input": [
      "len(cast[ cast['name'] == 'Sidney Poitier'])"
     ],
     "language": "python",
     "metadata": {},
     "outputs": [
      {
       "metadata": {},
       "output_type": "pyout",
       "prompt_number": 64,
       "text": [
        "43"
       ]
      }
     ],
     "prompt_number": 64
    },
    {
     "cell_type": "code",
     "collapsed": false,
     "input": [
      "len(cast[ cast['name'] == 'Judi Dench'])"
     ],
     "language": "python",
     "metadata": {},
     "outputs": [
      {
       "metadata": {},
       "output_type": "pyout",
       "prompt_number": 65,
       "text": [
        "51"
       ]
      }
     ],
     "prompt_number": 65
    },
    {
     "cell_type": "code",
     "collapsed": false,
     "input": [
      "Cary = cast[ (cast['name'] == 'Cary Grant') \n",
      "            & (cast['year'] >= 1940) \n",
      "            & (cast['year'] <= 1949)]\n",
      "\n",
      "Cary[ Cary['n'] == 2].sort('year')"
     ],
     "language": "python",
     "metadata": {},
     "outputs": [
      {
       "html": [
        "<div style=\"max-width:1500px;overflow:auto;\">\n",
        "<table border=\"1\" class=\"dataframe\">\n",
        "  <thead>\n",
        "    <tr style=\"text-align: right;\">\n",
        "      <th></th>\n",
        "      <th>title</th>\n",
        "      <th>year</th>\n",
        "      <th>name</th>\n",
        "      <th>type</th>\n",
        "      <th>character</th>\n",
        "      <th>n</th>\n",
        "    </tr>\n",
        "  </thead>\n",
        "  <tbody>\n",
        "    <tr>\n",
        "      <th>773493</th>\n",
        "      <td>My Favorite Wife</td>\n",
        "      <td>1940</td>\n",
        "      <td>Cary Grant</td>\n",
        "      <td>actor</td>\n",
        "      <td>Nick</td>\n",
        "      <td>2</td>\n",
        "    </tr>\n",
        "    <tr>\n",
        "      <th>773503</th>\n",
        "      <td>Penny Serenade</td>\n",
        "      <td>1941</td>\n",
        "      <td>Cary Grant</td>\n",
        "      <td>actor</td>\n",
        "      <td>Roger Adams</td>\n",
        "      <td>2</td>\n",
        "    </tr>\n",
        "  </tbody>\n",
        "</table>\n",
        "</div>"
       ],
       "metadata": {},
       "output_type": "pyout",
       "prompt_number": 69,
       "text": [
        "                   title  year        name   type    character  n\n",
        "773493  My Favorite Wife  1940  Cary Grant  actor         Nick  2\n",
        "773503    Penny Serenade  1941  Cary Grant  actor  Roger Adams  2"
       ]
      }
     ],
     "prompt_number": 69
    },
    {
     "cell_type": "code",
     "collapsed": false,
     "input": [
      "Cary[ Cary['n'] == 1].sort('year')"
     ],
     "language": "python",
     "metadata": {},
     "outputs": [
      {
       "html": [
        "<div style=\"max-width:1500px;overflow:auto;\">\n",
        "<table border=\"1\" class=\"dataframe\">\n",
        "  <thead>\n",
        "    <tr style=\"text-align: right;\">\n",
        "      <th></th>\n",
        "      <th>title</th>\n",
        "      <th>year</th>\n",
        "      <th>name</th>\n",
        "      <th>type</th>\n",
        "      <th>character</th>\n",
        "      <th>n</th>\n",
        "    </tr>\n",
        "  </thead>\n",
        "  <tbody>\n",
        "    <tr>\n",
        "      <th>773518</th>\n",
        "      <td>The Howards of Virginia</td>\n",
        "      <td>1940</td>\n",
        "      <td>Cary Grant</td>\n",
        "      <td>actor</td>\n",
        "      <td>Matt Howard</td>\n",
        "      <td>1</td>\n",
        "    </tr>\n",
        "    <tr>\n",
        "      <th>773475</th>\n",
        "      <td>His Girl Friday</td>\n",
        "      <td>1940</td>\n",
        "      <td>Cary Grant</td>\n",
        "      <td>actor</td>\n",
        "      <td>Walter Burns</td>\n",
        "      <td>1</td>\n",
        "    </tr>\n",
        "    <tr>\n",
        "      <th>773520</th>\n",
        "      <td>The Philadelphia Story</td>\n",
        "      <td>1940</td>\n",
        "      <td>Cary Grant</td>\n",
        "      <td>actor</td>\n",
        "      <td>C. K. Dexter Haven</td>\n",
        "      <td>1</td>\n",
        "    </tr>\n",
        "    <tr>\n",
        "      <th>773508</th>\n",
        "      <td>Suspicion</td>\n",
        "      <td>1941</td>\n",
        "      <td>Cary Grant</td>\n",
        "      <td>actor</td>\n",
        "      <td>Johnnie</td>\n",
        "      <td>1</td>\n",
        "    </tr>\n",
        "    <tr>\n",
        "      <th>773522</th>\n",
        "      <td>The Talk of the Town</td>\n",
        "      <td>1942</td>\n",
        "      <td>Cary Grant</td>\n",
        "      <td>actor</td>\n",
        "      <td>Leopold Dilg</td>\n",
        "      <td>1</td>\n",
        "    </tr>\n",
        "    <tr>\n",
        "      <th>773499</th>\n",
        "      <td>Once Upon a Honeymoon</td>\n",
        "      <td>1942</td>\n",
        "      <td>Cary Grant</td>\n",
        "      <td>actor</td>\n",
        "      <td>Patrick 'Pat' O'Toole</td>\n",
        "      <td>1</td>\n",
        "    </tr>\n",
        "    <tr>\n",
        "      <th>773466</th>\n",
        "      <td>Destination Tokyo</td>\n",
        "      <td>1943</td>\n",
        "      <td>Cary Grant</td>\n",
        "      <td>actor</td>\n",
        "      <td>Capt. Cassidy</td>\n",
        "      <td>1</td>\n",
        "    </tr>\n",
        "    <tr>\n",
        "      <th>773491</th>\n",
        "      <td>Mr. Lucky</td>\n",
        "      <td>1943</td>\n",
        "      <td>Cary Grant</td>\n",
        "      <td>actor</td>\n",
        "      <td>Joe Adams</td>\n",
        "      <td>1</td>\n",
        "    </tr>\n",
        "    <tr>\n",
        "      <th>773492</th>\n",
        "      <td>Mr. Lucky</td>\n",
        "      <td>1943</td>\n",
        "      <td>Cary Grant</td>\n",
        "      <td>actor</td>\n",
        "      <td>Joe Bascopolous</td>\n",
        "      <td>1</td>\n",
        "    </tr>\n",
        "    <tr>\n",
        "      <th>773500</th>\n",
        "      <td>Once Upon a Time</td>\n",
        "      <td>1944</td>\n",
        "      <td>Cary Grant</td>\n",
        "      <td>actor</td>\n",
        "      <td>Jerry Flynn</td>\n",
        "      <td>1</td>\n",
        "    </tr>\n",
        "    <tr>\n",
        "      <th>773458</th>\n",
        "      <td>Arsenic and Old Lace</td>\n",
        "      <td>1944</td>\n",
        "      <td>Cary Grant</td>\n",
        "      <td>actor</td>\n",
        "      <td>Mortimer Brewster</td>\n",
        "      <td>1</td>\n",
        "    </tr>\n",
        "    <tr>\n",
        "      <th>773495</th>\n",
        "      <td>None But the Lonely Heart</td>\n",
        "      <td>1944</td>\n",
        "      <td>Cary Grant</td>\n",
        "      <td>actor</td>\n",
        "      <td>Ernie Mott</td>\n",
        "      <td>1</td>\n",
        "    </tr>\n",
        "    <tr>\n",
        "      <th>773494</th>\n",
        "      <td>Night and Day</td>\n",
        "      <td>1946</td>\n",
        "      <td>Cary Grant</td>\n",
        "      <td>actor</td>\n",
        "      <td>Cole Porter</td>\n",
        "      <td>1</td>\n",
        "    </tr>\n",
        "    <tr>\n",
        "      <th>773497</th>\n",
        "      <td>Notorious</td>\n",
        "      <td>1946</td>\n",
        "      <td>Cary Grant</td>\n",
        "      <td>actor</td>\n",
        "      <td>Devlin</td>\n",
        "      <td>1</td>\n",
        "    </tr>\n",
        "    <tr>\n",
        "      <th>773514</th>\n",
        "      <td>The Bachelor and the Bobby-Soxer</td>\n",
        "      <td>1947</td>\n",
        "      <td>Cary Grant</td>\n",
        "      <td>actor</td>\n",
        "      <td>Dick</td>\n",
        "      <td>1</td>\n",
        "    </tr>\n",
        "    <tr>\n",
        "      <th>773515</th>\n",
        "      <td>The Bishop's Wife</td>\n",
        "      <td>1947</td>\n",
        "      <td>Cary Grant</td>\n",
        "      <td>actor</td>\n",
        "      <td>Dudley</td>\n",
        "      <td>1</td>\n",
        "    </tr>\n",
        "    <tr>\n",
        "      <th>773490</th>\n",
        "      <td>Mr. Blandings Builds His Dream House</td>\n",
        "      <td>1948</td>\n",
        "      <td>Cary Grant</td>\n",
        "      <td>actor</td>\n",
        "      <td>Jim Blandings</td>\n",
        "      <td>1</td>\n",
        "    </tr>\n",
        "    <tr>\n",
        "      <th>773470</th>\n",
        "      <td>Every Girl Should Be Married</td>\n",
        "      <td>1948</td>\n",
        "      <td>Cary Grant</td>\n",
        "      <td>actor</td>\n",
        "      <td>Dr. Madison Brown</td>\n",
        "      <td>1</td>\n",
        "    </tr>\n",
        "    <tr>\n",
        "      <th>773479</th>\n",
        "      <td>I Was a Male War Bride</td>\n",
        "      <td>1949</td>\n",
        "      <td>Cary Grant</td>\n",
        "      <td>actor</td>\n",
        "      <td>Capt. Henri Rochard</td>\n",
        "      <td>1</td>\n",
        "    </tr>\n",
        "  </tbody>\n",
        "</table>\n",
        "</div>"
       ],
       "metadata": {},
       "output_type": "pyout",
       "prompt_number": 71,
       "text": [
        "                                       title  year        name   type  \\\n",
        "773518               The Howards of Virginia  1940  Cary Grant  actor   \n",
        "773475                       His Girl Friday  1940  Cary Grant  actor   \n",
        "773520                The Philadelphia Story  1940  Cary Grant  actor   \n",
        "773508                             Suspicion  1941  Cary Grant  actor   \n",
        "773522                  The Talk of the Town  1942  Cary Grant  actor   \n",
        "773499                 Once Upon a Honeymoon  1942  Cary Grant  actor   \n",
        "773466                     Destination Tokyo  1943  Cary Grant  actor   \n",
        "773491                             Mr. Lucky  1943  Cary Grant  actor   \n",
        "773492                             Mr. Lucky  1943  Cary Grant  actor   \n",
        "773500                      Once Upon a Time  1944  Cary Grant  actor   \n",
        "773458                  Arsenic and Old Lace  1944  Cary Grant  actor   \n",
        "773495             None But the Lonely Heart  1944  Cary Grant  actor   \n",
        "773494                         Night and Day  1946  Cary Grant  actor   \n",
        "773497                             Notorious  1946  Cary Grant  actor   \n",
        "773514      The Bachelor and the Bobby-Soxer  1947  Cary Grant  actor   \n",
        "773515                     The Bishop's Wife  1947  Cary Grant  actor   \n",
        "773490  Mr. Blandings Builds His Dream House  1948  Cary Grant  actor   \n",
        "773470          Every Girl Should Be Married  1948  Cary Grant  actor   \n",
        "773479                I Was a Male War Bride  1949  Cary Grant  actor   \n",
        "\n",
        "                    character  n  \n",
        "773518            Matt Howard  1  \n",
        "773475           Walter Burns  1  \n",
        "773520     C. K. Dexter Haven  1  \n",
        "773508                Johnnie  1  \n",
        "773522           Leopold Dilg  1  \n",
        "773499  Patrick 'Pat' O'Toole  1  \n",
        "773466          Capt. Cassidy  1  \n",
        "773491              Joe Adams  1  \n",
        "773492        Joe Bascopolous  1  \n",
        "773500            Jerry Flynn  1  \n",
        "773458      Mortimer Brewster  1  \n",
        "773495             Ernie Mott  1  \n",
        "773494            Cole Porter  1  \n",
        "773497                 Devlin  1  \n",
        "773514                   Dick  1  \n",
        "773515                 Dudley  1  \n",
        "773490          Jim Blandings  1  \n",
        "773470      Dr. Madison Brown  1  \n",
        "773479    Capt. Henri Rochard  1  "
       ]
      }
     ],
     "prompt_number": 71
    },
    {
     "cell_type": "code",
     "collapsed": false,
     "input": [
      "cast[ (cast['type'] == 'actor') \n",
      "       & (cast['year'] >= 1950) \n",
      "       & (cast['year'] <= 1959)\n",
      "     ].character.nunique()"
     ],
     "language": "python",
     "metadata": {},
     "outputs": [
      {
       "metadata": {},
       "output_type": "pyout",
       "prompt_number": 74,
       "text": [
        "88802"
       ]
      }
     ],
     "prompt_number": 74
    },
    {
     "cell_type": "code",
     "collapsed": false,
     "input": [
      "cast[ (cast['type'] == 'actress') \n",
      "       & (cast['year'] >= 1950) \n",
      "       & (cast['year'] <= 1959)\n",
      "     ].character.nunique()"
     ],
     "language": "python",
     "metadata": {},
     "outputs": [
      {
       "metadata": {},
       "output_type": "pyout",
       "prompt_number": 75,
       "text": [
        "13512"
       ]
      }
     ],
     "prompt_number": 75
    },
    {
     "cell_type": "code",
     "collapsed": false,
     "input": [
      "len(cast[ (cast['n'] == 1 )\n",
      "     & (cast['year'] > 1981)])"
     ],
     "language": "python",
     "metadata": {},
     "outputs": [
      {
       "metadata": {},
       "output_type": "pyout",
       "prompt_number": 77,
       "text": [
        "60420"
       ]
      }
     ],
     "prompt_number": 77
    },
    {
     "cell_type": "code",
     "collapsed": false,
     "input": [
      "len(cast[ (cast['n'] != 1 )\n",
      "     & (cast['year'] > 1981)])"
     ],
     "language": "python",
     "metadata": {},
     "outputs": [
      {
       "metadata": {},
       "output_type": "pyout",
       "prompt_number": 78,
       "text": [
        "1628654"
       ]
      }
     ],
     "prompt_number": 78
    },
    {
     "cell_type": "code",
     "collapsed": false,
     "input": [
      "sum(cast[cast['year'] > 1981].n.isnull() == True)"
     ],
     "language": "python",
     "metadata": {},
     "outputs": [
      {
       "metadata": {},
       "output_type": "pyout",
       "prompt_number": 79,
       "text": [
        "634524"
       ]
      }
     ],
     "prompt_number": 79
    },
    {
     "cell_type": "code",
     "collapsed": false,
     "input": [],
     "language": "python",
     "metadata": {},
     "outputs": []
    }
   ],
   "metadata": {}
  }
 ]
}