{
 "metadata": {
  "name": "",
  "signature": "sha256:2d366c67769d918ac9901e27d81453955c82df99a9bc556e026d22c283caf555"
 },
 "nbformat": 3,
 "nbformat_minor": 0,
 "worksheets": [
  {
   "cells": [
    {
     "cell_type": "code",
     "collapsed": false,
     "input": [
      "import numpy as np\n",
      "#http://www.engr.ucsb.edu/~shell/che210d/numpy.pdf"
     ],
     "language": "python",
     "metadata": {},
     "outputs": [],
     "prompt_number": 1
    },
    {
     "cell_type": "code",
     "collapsed": false,
     "input": [
      "a = np.array([1,3,4,5], float)\n",
      "print a \n",
      "print type(a)"
     ],
     "language": "python",
     "metadata": {},
     "outputs": [
      {
       "output_type": "stream",
       "stream": "stdout",
       "text": [
        "[ 1.  3.  4.  5.]\n",
        "<type 'numpy.ndarray'>\n"
       ]
      }
     ],
     "prompt_number": 2
    },
    {
     "cell_type": "code",
     "collapsed": false,
     "input": [
      "print a[:2]\n",
      "print a[3]\n",
      "a[0] = 5\n",
      "print a"
     ],
     "language": "python",
     "metadata": {},
     "outputs": [
      {
       "output_type": "stream",
       "stream": "stdout",
       "text": [
        "[ 1.  3.]\n",
        "5.0\n",
        "[ 5.  3.  4.  5.]\n"
       ]
      }
     ],
     "prompt_number": 3
    },
    {
     "cell_type": "code",
     "collapsed": false,
     "input": [
      "a = np.array([[1,2,3], [4,5,6]], float)\n",
      "print a\n",
      "print a[0,0]\n",
      "print a[0,1]"
     ],
     "language": "python",
     "metadata": {},
     "outputs": [
      {
       "output_type": "stream",
       "stream": "stdout",
       "text": [
        "[[ 1.  2.  3.]\n",
        " [ 4.  5.  6.]]\n",
        "1.0\n",
        "2.0\n"
       ]
      }
     ],
     "prompt_number": 4
    },
    {
     "cell_type": "code",
     "collapsed": false,
     "input": [
      "print a[1, :]\n",
      "print a[:,2]\n",
      "print a[-1:, -2:]"
     ],
     "language": "python",
     "metadata": {},
     "outputs": [
      {
       "output_type": "stream",
       "stream": "stdout",
       "text": [
        "[ 4.  5.  6.]\n",
        "[ 3.  6.]\n",
        "[[ 5.  6.]]\n"
       ]
      }
     ],
     "prompt_number": 6
    },
    {
     "cell_type": "code",
     "collapsed": false,
     "input": [
      "# return size\n",
      "a.shape"
     ],
     "language": "python",
     "metadata": {},
     "outputs": [
      {
       "metadata": {},
       "output_type": "pyout",
       "prompt_number": 7,
       "text": [
        "(2L, 3L)"
       ]
      }
     ],
     "prompt_number": 7
    },
    {
     "cell_type": "code",
     "collapsed": false,
     "input": [
      "# what values\n",
      "a.dtype"
     ],
     "language": "python",
     "metadata": {},
     "outputs": [
      {
       "metadata": {},
       "output_type": "pyout",
       "prompt_number": 10,
       "text": [
        "dtype('float64')"
       ]
      }
     ],
     "prompt_number": 10
    },
    {
     "cell_type": "code",
     "collapsed": false,
     "input": [
      "# length of rows\n",
      "len(a)"
     ],
     "language": "python",
     "metadata": {},
     "outputs": [
      {
       "metadata": {},
       "output_type": "pyout",
       "prompt_number": 11,
       "text": [
        "2"
       ]
      }
     ],
     "prompt_number": 11
    },
    {
     "cell_type": "code",
     "collapsed": false,
     "input": [
      "print 2 in a\n",
      "print 0 in a"
     ],
     "language": "python",
     "metadata": {},
     "outputs": [
      {
       "output_type": "stream",
       "stream": "stdout",
       "text": [
        "True\n",
        "False\n"
       ]
      }
     ],
     "prompt_number": 12
    },
    {
     "cell_type": "code",
     "collapsed": false,
     "input": [
      "# reshape\n",
      "a = np.array(range(10), float)\n",
      "print a\n",
      "print a.reshape((2,5))\n",
      "print a.reshape((5,2))"
     ],
     "language": "python",
     "metadata": {},
     "outputs": [
      {
       "output_type": "stream",
       "stream": "stdout",
       "text": [
        "[ 0.  1.  2.  3.  4.  5.  6.  7.  8.  9.]\n",
        "[[ 0.  1.  2.  3.  4.]\n",
        " [ 5.  6.  7.  8.  9.]]\n",
        "[[ 0.  1.]\n",
        " [ 2.  3.]\n",
        " [ 4.  5.]\n",
        " [ 6.  7.]\n",
        " [ 8.  9.]]\n"
       ]
      }
     ],
     "prompt_number": 16
    },
    {
     "cell_type": "code",
     "collapsed": false,
     "input": [
      "# create new arrange copy in mem\n",
      "a = np.array([1,2,3], float)\n",
      "b = a.copy()\n",
      "a[0] = 0\n",
      "print a \n",
      "print b"
     ],
     "language": "python",
     "metadata": {},
     "outputs": [
      {
       "output_type": "stream",
       "stream": "stdout",
       "text": [
        "[ 0.  2.  3.]\n",
        "[ 1.  2.  3.]\n"
       ]
      }
     ],
     "prompt_number": 18
    },
    {
     "cell_type": "code",
     "collapsed": false,
     "input": [
      "# fill array with single value\n",
      "print a\n",
      "a.fill(0)\n",
      "print a"
     ],
     "language": "python",
     "metadata": {},
     "outputs": [
      {
       "output_type": "stream",
       "stream": "stdout",
       "text": [
        "[ 0.  2.  3.]\n",
        "[ 0.  0.  0.]\n"
       ]
      }
     ],
     "prompt_number": 19
    },
    {
     "cell_type": "code",
     "collapsed": false,
     "input": [
      "# transopse array created from sctrach\n",
      "a = np.array(range(6), float).reshape((2,3))\n",
      "print a \n",
      "print a.transpose()"
     ],
     "language": "python",
     "metadata": {},
     "outputs": [
      {
       "output_type": "stream",
       "stream": "stdout",
       "text": [
        "[[ 0.  1.  2.]\n",
        " [ 3.  4.  5.]]\n",
        "[[ 0.  3.]\n",
        " [ 1.  4.]\n",
        " [ 2.  5.]]\n"
       ]
      }
     ],
     "prompt_number": 20
    },
    {
     "cell_type": "code",
     "collapsed": false,
     "input": [
      "# make array 1 dim\n",
      "print a.flatten()"
     ],
     "language": "python",
     "metadata": {},
     "outputs": [
      {
       "output_type": "stream",
       "stream": "stdout",
       "text": [
        "[ 0.  1.  2.  3.  4.  5.]\n"
       ]
      }
     ],
     "prompt_number": 21
    },
    {
     "cell_type": "code",
     "collapsed": false,
     "input": [
      "# combine arrays\n",
      "a = np.array([1,2], float)\n",
      "b = np.array([3,4,5,6], float)\n",
      "c = np.array([7,8,9], float)\n",
      "np.concatenate((a,b,c))"
     ],
     "language": "python",
     "metadata": {},
     "outputs": [
      {
       "metadata": {},
       "output_type": "pyout",
       "prompt_number": 22,
       "text": [
        "array([ 1.,  2.,  3.,  4.,  5.,  6.,  7.,  8.,  9.])"
       ]
      }
     ],
     "prompt_number": 22
    },
    {
     "cell_type": "code",
     "collapsed": false,
     "input": [
      "# can specifcy the axis on which to concate on \n",
      "a = np.array([[1,2],[3,4]], float)\n",
      "b = np.array([[5,6],[7,8]], float)\n",
      "\n",
      "print np.concatenate((a,b))\n",
      "print np.concatenate((a,b), axis = 1)\n",
      "print np.concatenate((a,b), axis = 0)"
     ],
     "language": "python",
     "metadata": {},
     "outputs": [
      {
       "output_type": "stream",
       "stream": "stdout",
       "text": [
        "[[ 1.  2.]\n",
        " [ 3.  4.]\n",
        " [ 5.  6.]\n",
        " [ 7.  8.]]\n",
        "[[ 1.  2.  5.  6.]\n",
        " [ 3.  4.  7.  8.]]\n",
        "[[ 1.  2.]\n",
        " [ 3.  4.]\n",
        " [ 5.  6.]\n",
        " [ 7.  8.]]\n"
       ]
      }
     ],
     "prompt_number": 23
    },
    {
     "cell_type": "code",
     "collapsed": false,
     "input": [
      "# create by range\n",
      "print np.arange(5, dtype = float)\n",
      "print np.arange(1,6,2, dtype = int)"
     ],
     "language": "python",
     "metadata": {},
     "outputs": [
      {
       "output_type": "stream",
       "stream": "stdout",
       "text": [
        "[ 0.  1.  2.  3.  4.]\n",
        "[1 3 5]\n"
       ]
      }
     ],
     "prompt_number": 29
    },
    {
     "cell_type": "code",
     "collapsed": false,
     "input": [
      "# or just 0s and 1s\n",
      "print np.ones((2,3), dtype = float)\n",
      "print np.zeros(7, dtype = int)\n",
      "# or just do this\n",
      "print np.zeros_like(a)\n",
      "print np.ones_like(a)"
     ],
     "language": "python",
     "metadata": {},
     "outputs": [
      {
       "output_type": "stream",
       "stream": "stdout",
       "text": [
        "[[ 1.  1.  1.]\n",
        " [ 1.  1.  1.]]\n",
        "[0 0 0 0 0 0 0]\n",
        "[[ 0.  0.]\n",
        " [ 0.  0.]]\n",
        "[[ 1.  1.]\n",
        " [ 1.  1.]]\n"
       ]
      }
     ],
     "prompt_number": 31
    },
    {
     "cell_type": "code",
     "collapsed": false,
     "input": [
      "# Diagnal in R or spatial matrices\n",
      "print np.identity(4, dtype=float)\n",
      "# same but more usage\n",
      "print np.eye(4, k=1, dtype = float)"
     ],
     "language": "python",
     "metadata": {},
     "outputs": [
      {
       "output_type": "stream",
       "stream": "stdout",
       "text": [
        "[[ 1.  0.  0.  0.]\n",
        " [ 0.  1.  0.  0.]\n",
        " [ 0.  0.  1.  0.]\n",
        " [ 0.  0.  0.  1.]]\n",
        "[[ 0.  1.  0.  0.]\n",
        " [ 0.  0.  1.  0.]\n",
        " [ 0.  0.  0.  1.]\n",
        " [ 0.  0.  0.  0.]]\n"
       ]
      }
     ],
     "prompt_number": 32
    },
    {
     "cell_type": "code",
     "collapsed": false,
     "input": [
      "# array math\n",
      "a = np.array([1,2,3], float)\n",
      "b = np.array([5,2,6], float)\n",
      "\n",
      "print a + b\n",
      "print a - b\n",
      "print a * b\n",
      "print b / a\n",
      "print a % b\n",
      "print a**b"
     ],
     "language": "python",
     "metadata": {},
     "outputs": [
      {
       "output_type": "stream",
       "stream": "stdout",
       "text": [
        "[ 6.  4.  9.]\n",
        "[-4.  0. -3.]\n",
        "[  5.   4.  18.]\n",
        "[ 5.  1.  2.]\n",
        "[ 1.  0.  3.]\n",
        "[   1.    4.  729.]\n"
       ]
      }
     ],
     "prompt_number": 34
    },
    {
     "cell_type": "code",
     "collapsed": false,
     "input": [
      "print np.e\n",
      "print np.pi"
     ],
     "language": "python",
     "metadata": {},
     "outputs": [
      {
       "output_type": "stream",
       "stream": "stdout",
       "text": [
        "2.71828182846\n",
        "3.14159265359\n"
       ]
      }
     ],
     "prompt_number": 35
    },
    {
     "cell_type": "code",
     "collapsed": false,
     "input": [
      "# array iteration\n",
      "a = np.array([[1,4,5], [2,3,5]  ], int)\n",
      "for x in a:\n",
      "    print x"
     ],
     "language": "python",
     "metadata": {},
     "outputs": [
      {
       "output_type": "stream",
       "stream": "stdout",
       "text": [
        "[1 4 5]\n",
        "[2 3 5]\n"
       ]
      }
     ],
     "prompt_number": 37
    },
    {
     "cell_type": "code",
     "collapsed": false,
     "input": [
      "# multiple assign iterations\n",
      "a = np.array([[1,2], [3,4], [5,6]], float)\n",
      "for (x,y) in a:\n",
      "    print x * y"
     ],
     "language": "python",
     "metadata": {},
     "outputs": [
      {
       "output_type": "stream",
       "stream": "stdout",
       "text": [
        "2.0\n",
        "12.0\n",
        "30.0\n"
       ]
      }
     ],
     "prompt_number": 38
    },
    {
     "cell_type": "code",
     "collapsed": false,
     "input": [
      "# applying functions\n",
      "a = np.array([2,4,3], float)\n",
      "print a.sum()\n",
      "print a.prod()\n",
      "print a.mean()\n",
      "print a.var()\n",
      "print a.std()\n",
      "print a.min()\n",
      "print a.max()"
     ],
     "language": "python",
     "metadata": {},
     "outputs": [
      {
       "output_type": "stream",
       "stream": "stdout",
       "text": [
        "9.0\n",
        "24.0\n",
        "3.0\n",
        "0.666666666667\n",
        "0.816496580928\n",
        "2.0\n",
        "4.0\n"
       ]
      }
     ],
     "prompt_number": 39
    },
    {
     "cell_type": "code",
     "collapsed": false,
     "input": [
      "# throw asis argument to run along rows and columns\n",
      "a = np.array([[0,2], [3,-1], [3,5]], float)\n",
      "print a\n",
      "print a.mean(axis=0)\n",
      "print a.mean(axis=1)"
     ],
     "language": "python",
     "metadata": {},
     "outputs": [
      {
       "output_type": "stream",
       "stream": "stdout",
       "text": [
        "[[ 0.  2.]\n",
        " [ 3. -1.]\n",
        " [ 3.  5.]]\n",
        "[ 2.  2.]\n",
        "[ 1.  1.  4.]\n"
       ]
      }
     ],
     "prompt_number": 40
    },
    {
     "cell_type": "code",
     "collapsed": false,
     "input": [
      "print np.min(a, axis = 1)\n",
      "print np.max(a, axis = 0)\n"
     ],
     "language": "python",
     "metadata": {},
     "outputs": [
      {
       "output_type": "stream",
       "stream": "stdout",
       "text": [
        "[ 0. -1.  3.]\n",
        "[ 3.  5.]\n"
       ]
      }
     ],
     "prompt_number": 41
    },
    {
     "cell_type": "code",
     "collapsed": false,
     "input": [
      "# arrays can be sorted\n",
      "a.sort(axis = 0)\n",
      "print a"
     ],
     "language": "python",
     "metadata": {},
     "outputs": [
      {
       "output_type": "stream",
       "stream": "stdout",
       "text": [
        "[[-1.  2.]\n",
        " [ 0.  3.]\n",
        " [ 3.  5.]]\n"
       ]
      }
     ],
     "prompt_number": 44
    },
    {
     "cell_type": "code",
     "collapsed": false,
     "input": [
      "# extract uniques\n",
      "print np.unique(a)\n",
      "# extact diagonals\n",
      "print np.diagonal(a)"
     ],
     "language": "python",
     "metadata": {},
     "outputs": [
      {
       "output_type": "stream",
       "stream": "stdout",
       "text": [
        "[-1.  0.  2.  3.  5.]\n",
        "[-1.  3.]\n"
       ]
      }
     ],
     "prompt_number": 45
    },
    {
     "cell_type": "code",
     "collapsed": false,
     "input": [
      "# tests for Nan or Inf\n",
      "a = np.array([1, np.NaN, np.Inf], float)\n",
      "\n",
      "print np.isnan(a)\n",
      "print np.isfinite(a)"
     ],
     "language": "python",
     "metadata": {},
     "outputs": [
      {
       "output_type": "stream",
       "stream": "stdout",
       "text": [
        "[False  True False]\n",
        "[ True False False]\n"
       ]
      }
     ],
     "prompt_number": 49
    },
    {
     "cell_type": "code",
     "collapsed": false,
     "input": [
      "# subsetting an array\n",
      "a = np.array([[6,4], [5,9]], float)\n",
      "sel = (a >= 6)\n",
      "\n",
      "print a[sel]\n",
      "print a[ a >= 6]\n",
      "# complex\n",
      "print a[ np.logical_and(a > 5 , a < 9)]"
     ],
     "language": "python",
     "metadata": {},
     "outputs": [
      {
       "output_type": "stream",
       "stream": "stdout",
       "text": [
        "[ 6.  9.]\n",
        "[ 6.  9.]\n",
        "[ 6.]\n"
       ]
      }
     ],
     "prompt_number": 52
    },
    {
     "cell_type": "code",
     "collapsed": false,
     "input": [
      "# select using integer arrays\n",
      "a = np.array([2,4,6,8], float)\n",
      "b = np.array([0,0,1,3,2,1], int)\n",
      "\n",
      "a[b]"
     ],
     "language": "python",
     "metadata": {},
     "outputs": [
      {
       "metadata": {},
       "output_type": "pyout",
       "prompt_number": 53,
       "text": [
        "array([ 2.,  2.,  4.,  8.,  6.,  4.])"
       ]
      }
     ],
     "prompt_number": 53
    },
    {
     "cell_type": "code",
     "collapsed": false,
     "input": [
      "# Vector and matrix mathematics\n",
      "a = np.array([1,2,3], float)\n",
      "b = np.array([0,1,1], float)\n",
      "np.dot(a,b)"
     ],
     "language": "python",
     "metadata": {},
     "outputs": [
      {
       "metadata": {},
       "output_type": "pyout",
       "prompt_number": 54,
       "text": [
        "5.0"
       ]
      }
     ],
     "prompt_number": 54
    },
    {
     "cell_type": "code",
     "collapsed": false,
     "input": [
      "# inner, outer and cross products\n",
      "a = np.array([1,4,0], float)\n",
      "b = np.array([2,2,1], float)\n",
      "\n",
      "print np.outer(a, b)\n",
      "print np.inner(a,b)\n",
      "print np.cross(a,b)"
     ],
     "language": "python",
     "metadata": {},
     "outputs": [
      {
       "output_type": "stream",
       "stream": "stdout",
       "text": [
        "[[ 2.  2.  1.]\n",
        " [ 8.  8.  4.]\n",
        " [ 0.  0.  0.]]\n",
        "10.0\n",
        "[ 4. -1. -6.]\n"
       ]
      }
     ],
     "prompt_number": 55
    },
    {
     "cell_type": "code",
     "collapsed": false,
     "input": [
      "# the deterimaint of a matrix\n",
      "a = np.array([[4, 2, 0]\n",
      "             ,[9, 3, 7]\n",
      "             ,[1, 2, 1]],\n",
      "             float)\n",
      "\n",
      "np.linalg.det(a)"
     ],
     "language": "python",
     "metadata": {},
     "outputs": [
      {
       "metadata": {},
       "output_type": "pyout",
       "prompt_number": 62,
       "text": [
        "-48.000000000000028"
       ]
      }
     ],
     "prompt_number": 62
    },
    {
     "cell_type": "code",
     "collapsed": false,
     "input": [
      "# the inverse of matrix\n",
      "b = np.linalg.inv(a)\n",
      "print b\n",
      "print np.dot(a, b)"
     ],
     "language": "python",
     "metadata": {},
     "outputs": [
      {
       "output_type": "stream",
       "stream": "stdout",
       "text": [
        "[[ 0.22916667  0.04166667 -0.29166667]\n",
        " [ 0.04166667 -0.08333333  0.58333333]\n",
        " [-0.3125      0.125       0.125     ]]\n",
        "[[  1.00000000e+00   0.00000000e+00  -2.22044605e-16]\n",
        " [  0.00000000e+00   1.00000000e+00   0.00000000e+00]\n",
        " [  0.00000000e+00   0.00000000e+00   1.00000000e+00]]\n"
       ]
      }
     ],
     "prompt_number": 63
    },
    {
     "cell_type": "code",
     "collapsed": false,
     "input": [
      "#ploynomials\n",
      "np.poly([-1,1,1,10])\n",
      "# x^4 + x^3 + x^2 + x - 10"
     ],
     "language": "python",
     "metadata": {},
     "outputs": [
      {
       "metadata": {},
       "output_type": "pyout",
       "prompt_number": 66,
       "text": [
        "array([  1, -11,   9,  11, -10])"
       ]
      }
     ],
     "prompt_number": 66
    },
    {
     "cell_type": "code",
     "collapsed": false,
     "input": [
      "# taking a deravative\n",
      "np.polyder([1./4., 1./3., 1./2., 1., 0.])"
     ],
     "language": "python",
     "metadata": {},
     "outputs": [
      {
       "metadata": {},
       "output_type": "pyout",
       "prompt_number": 68,
       "text": [
        "array([ 1.,  1.,  1.,  1.])"
       ]
      }
     ],
     "prompt_number": 68
    },
    {
     "cell_type": "code",
     "collapsed": false,
     "input": [
      "# fit a polynomial to data\n",
      "x = [1,2,3,4,5,6,7,8]\n",
      "y = [0,2,1,3,7,10,11,19]\n",
      "np.polyfit(x,y,2)"
     ],
     "language": "python",
     "metadata": {},
     "outputs": [
      {
       "metadata": {},
       "output_type": "pyout",
       "prompt_number": 69,
       "text": [
        "array([ 0.375     , -0.88690476,  1.05357143])"
       ]
      }
     ],
     "prompt_number": 69
    },
    {
     "cell_type": "code",
     "collapsed": false,
     "input": [
      "np.corrcoef(x, y)"
     ],
     "language": "python",
     "metadata": {},
     "outputs": [
      {
       "metadata": {},
       "output_type": "pyout",
       "prompt_number": 70,
       "text": [
        "array([[ 1.        ,  0.94061159],\n",
        "       [ 0.94061159,  1.        ]])"
       ]
      }
     ],
     "prompt_number": 70
    },
    {
     "cell_type": "markdown",
     "metadata": {},
     "source": [
      "##Introduction into NumPy"
     ]
    },
    {
     "cell_type": "markdown",
     "metadata": {},
     "source": [
      "http://scipy-lectures.github.io/intro/numpy/array_object.html"
     ]
    },
    {
     "cell_type": "code",
     "collapsed": false,
     "input": [
      "import numpy as np\n",
      "\n",
      "a = np.array([0,1,2,3])\n",
      "print a\n",
      "print a.ndim\n",
      "print a.shape\n",
      "print len(a)"
     ],
     "language": "python",
     "metadata": {},
     "outputs": [
      {
       "output_type": "stream",
       "stream": "stdout",
       "text": [
        "[0 1 2 3]\n",
        "1\n",
        "(4L,)\n",
        "4\n"
       ]
      }
     ],
     "prompt_number": 6
    },
    {
     "cell_type": "code",
     "collapsed": false,
     "input": [
      "# 2D \n",
      "b = np.array([[0,1,2], [3,4,5]])\n",
      "print b\n",
      "print b.ndim\n",
      "print b.shape\n",
      "print len(b)"
     ],
     "language": "python",
     "metadata": {},
     "outputs": [
      {
       "output_type": "stream",
       "stream": "stdout",
       "text": [
        "[[0 1 2]\n",
        " [3 4 5]]\n",
        "2\n",
        "(2L, 3L)\n",
        "2\n"
       ]
      }
     ],
     "prompt_number": 7
    },
    {
     "cell_type": "code",
     "collapsed": false,
     "input": [
      "print np.ones((3,3))\n",
      "print np.zeros((2,2))"
     ],
     "language": "python",
     "metadata": {},
     "outputs": [
      {
       "output_type": "stream",
       "stream": "stdout",
       "text": [
        "[[ 1.  1.  1.]\n",
        " [ 1.  1.  1.]\n",
        " [ 1.  1.  1.]]\n",
        "[[ 0.  0.]\n",
        " [ 0.  0.]]\n"
       ]
      }
     ],
     "prompt_number": 8
    },
    {
     "cell_type": "code",
     "collapsed": false,
     "input": [
      "np.eye(3)"
     ],
     "language": "python",
     "metadata": {},
     "outputs": [
      {
       "metadata": {},
       "output_type": "pyout",
       "prompt_number": 9,
       "text": [
        "array([[ 1.,  0.,  0.],\n",
        "       [ 0.,  1.,  0.],\n",
        "       [ 0.,  0.,  1.]])"
       ]
      }
     ],
     "prompt_number": 9
    },
    {
     "cell_type": "code",
     "collapsed": false,
     "input": [
      "np.diag(np.array([1,2,3,4]))"
     ],
     "language": "python",
     "metadata": {},
     "outputs": [
      {
       "metadata": {},
       "output_type": "pyout",
       "prompt_number": 10,
       "text": [
        "array([[1, 0, 0, 0],\n",
        "       [0, 2, 0, 0],\n",
        "       [0, 0, 3, 0],\n",
        "       [0, 0, 0, 4]])"
       ]
      }
     ],
     "prompt_number": 10
    },
    {
     "cell_type": "code",
     "collapsed": false,
     "input": [
      "np.empty # creates an empty array"
     ],
     "language": "python",
     "metadata": {},
     "outputs": [
      {
       "metadata": {},
       "output_type": "pyout",
       "prompt_number": 11,
       "text": [
        "<function numpy.core.multiarray.empty>"
       ]
      }
     ],
     "prompt_number": 11
    },
    {
     "cell_type": "code",
     "collapsed": false,
     "input": [
      "a = np.array([1,2,3])\n",
      "a.dtype"
     ],
     "language": "python",
     "metadata": {},
     "outputs": [
      {
       "metadata": {},
       "output_type": "pyout",
       "prompt_number": 13,
       "text": [
        "dtype('int32')"
       ]
      }
     ],
     "prompt_number": 13
    },
    {
     "cell_type": "code",
     "collapsed": false,
     "input": [
      "b = np.array([1., 2., 3.])\n",
      "b.dtype"
     ],
     "language": "python",
     "metadata": {},
     "outputs": [
      {
       "metadata": {},
       "output_type": "pyout",
       "prompt_number": 14,
       "text": [
        "dtype('float64')"
       ]
      }
     ],
     "prompt_number": 14
    },
    {
     "cell_type": "code",
     "collapsed": false,
     "input": [
      "c = np.array([1,2,3], dtype = float)\n",
      "c.dtype"
     ],
     "language": "python",
     "metadata": {},
     "outputs": [
      {
       "metadata": {},
       "output_type": "pyout",
       "prompt_number": 16,
       "text": [
        "dtype('float64')"
       ]
      }
     ],
     "prompt_number": 16
    },
    {
     "cell_type": "code",
     "collapsed": false,
     "input": [
      "a = np.arange(10)\n",
      "print a\n",
      "print a[0], a[2], a[-1]"
     ],
     "language": "python",
     "metadata": {},
     "outputs": [
      {
       "output_type": "stream",
       "stream": "stdout",
       "text": [
        "[0 1 2 3 4 5 6 7 8 9]\n",
        "0 2 9\n"
       ]
      }
     ],
     "prompt_number": 17
    },
    {
     "cell_type": "code",
     "collapsed": false,
     "input": [
      "a[::-1] #reverse sequence"
     ],
     "language": "python",
     "metadata": {},
     "outputs": [
      {
       "metadata": {},
       "output_type": "pyout",
       "prompt_number": 18,
       "text": [
        "array([9, 8, 7, 6, 5, 4, 3, 2, 1, 0])"
       ]
      }
     ],
     "prompt_number": 18
    },
    {
     "cell_type": "code",
     "collapsed": false,
     "input": [
      "a = np.diag(np.arange(3))\n",
      "print a\n",
      "print a[1,1]\n",
      "a[2,1] = 10\n",
      "print a\n",
      "print a[1]"
     ],
     "language": "python",
     "metadata": {},
     "outputs": [
      {
       "output_type": "stream",
       "stream": "stdout",
       "text": [
        "[[0 0 0]\n",
        " [0 1 0]\n",
        " [0 0 2]]\n",
        "1\n",
        "[[ 0  0  0]\n",
        " [ 0  1  0]\n",
        " [ 0 10  2]]\n",
        "[0 1 0]\n"
       ]
      }
     ],
     "prompt_number": 21
    },
    {
     "cell_type": "code",
     "collapsed": false,
     "input": [
      "# slicing\n",
      "a = np.arange(10)\n",
      "\n",
      "print a[:4]\n",
      "print a[4:]"
     ],
     "language": "python",
     "metadata": {},
     "outputs": [
      {
       "output_type": "stream",
       "stream": "stdout",
       "text": [
        "[0 1 2 3]\n",
        "[4 5 6 7 8 9]\n"
       ]
      }
     ],
     "prompt_number": 22
    },
    {
     "cell_type": "code",
     "collapsed": false,
     "input": [
      "print a[1:3]\n",
      "print a[::3]\n",
      "print a[::2]"
     ],
     "language": "python",
     "metadata": {},
     "outputs": [
      {
       "output_type": "stream",
       "stream": "stdout",
       "text": [
        "[1 2]\n",
        "[0 3 6 9]\n",
        "[0 2 4 6 8]\n"
       ]
      }
     ],
     "prompt_number": 24
    },
    {
     "cell_type": "code",
     "collapsed": false,
     "input": [
      "# combine assignment and slicing\n",
      "a[5:] = 10\n",
      "a"
     ],
     "language": "python",
     "metadata": {},
     "outputs": [
      {
       "metadata": {},
       "output_type": "pyout",
       "prompt_number": 25,
       "text": [
        "array([ 0,  1,  2,  3,  4, 10, 10, 10, 10, 10])"
       ]
      }
     ],
     "prompt_number": 25
    },
    {
     "cell_type": "code",
     "collapsed": false,
     "input": [
      "# odds counting backwards\n",
      "a = np.arange(10)\n",
      "a[::-3]"
     ],
     "language": "python",
     "metadata": {},
     "outputs": [
      {
       "metadata": {},
       "output_type": "pyout",
       "prompt_number": 26,
       "text": [
        "array([9, 6, 3, 0])"
       ]
      }
     ],
     "prompt_number": 26
    },
    {
     "cell_type": "code",
     "collapsed": false,
     "input": [
      "# evens counting forwards\n",
      "a[::2]"
     ],
     "language": "python",
     "metadata": {},
     "outputs": [
      {
       "metadata": {},
       "output_type": "pyout",
       "prompt_number": 30,
       "text": [
        "array([0, 2, 4, 6, 8])"
       ]
      }
     ],
     "prompt_number": 30
    },
    {
     "cell_type": "code",
     "collapsed": false,
     "input": [
      "b = np.ones((4,4))\n",
      "b[2,3] = 2\n",
      "b[3,1] = 6\n",
      "print b"
     ],
     "language": "python",
     "metadata": {},
     "outputs": [
      {
       "output_type": "stream",
       "stream": "stdout",
       "text": [
        "[[ 1.  1.  1.  1.]\n",
        " [ 1.  1.  1.  1.]\n",
        " [ 1.  1.  1.  2.]\n",
        " [ 1.  6.  1.  1.]]\n"
       ]
      }
     ],
     "prompt_number": 36
    },
    {
     "cell_type": "code",
     "collapsed": false,
     "input": [
      "a  = np.diag(np.arange(2,7))\n",
      "a"
     ],
     "language": "python",
     "metadata": {},
     "outputs": [
      {
       "metadata": {},
       "output_type": "pyout",
       "prompt_number": 40,
       "text": [
        "array([[2, 0, 0, 0, 0],\n",
        "       [0, 3, 0, 0, 0],\n",
        "       [0, 0, 4, 0, 0],\n",
        "       [0, 0, 0, 5, 0],\n",
        "       [0, 0, 0, 0, 6]])"
       ]
      }
     ],
     "prompt_number": 40
    },
    {
     "cell_type": "code",
     "collapsed": false,
     "input": [
      "a = np.array([[4,3], [2,1], [4,3], [2,1]])\n",
      "np.tile(a, 3)"
     ],
     "language": "python",
     "metadata": {},
     "outputs": [
      {
       "metadata": {},
       "output_type": "pyout",
       "prompt_number": 43,
       "text": [
        "array([[4, 3, 4, 3, 4, 3],\n",
        "       [2, 1, 2, 1, 2, 1],\n",
        "       [4, 3, 4, 3, 4, 3],\n",
        "       [2, 1, 2, 1, 2, 1]])"
       ]
      }
     ],
     "prompt_number": 43
    },
    {
     "cell_type": "code",
     "collapsed": false,
     "input": [
      "# fancy indexing\n",
      "np.random.seed(3)\n",
      "a = np.random.random_integers(0,20,15)\n",
      "a"
     ],
     "language": "python",
     "metadata": {},
     "outputs": [
      {
       "metadata": {},
       "output_type": "pyout",
       "prompt_number": 44,
       "text": [
        "array([10,  3,  8,  0, 19, 10, 11,  9, 10,  6,  0, 20, 12,  7, 14])"
       ]
      }
     ],
     "prompt_number": 44
    },
    {
     "cell_type": "code",
     "collapsed": false,
     "input": [
      "(a % 3 == 0)\n",
      "mask = (a % 3 == 0)"
     ],
     "language": "python",
     "metadata": {},
     "outputs": [],
     "prompt_number": 45
    },
    {
     "cell_type": "code",
     "collapsed": false,
     "input": [
      "extract_from_a = a[mask]\n",
      "extract_from_a"
     ],
     "language": "python",
     "metadata": {},
     "outputs": [
      {
       "metadata": {},
       "output_type": "pyout",
       "prompt_number": 46,
       "text": [
        "array([ 3,  0,  9,  6,  0, 12])"
       ]
      }
     ],
     "prompt_number": 46
    },
    {
     "cell_type": "code",
     "collapsed": false,
     "input": [
      "# or just\n",
      "a[a %  3 == 0]"
     ],
     "language": "python",
     "metadata": {},
     "outputs": [
      {
       "metadata": {},
       "output_type": "pyout",
       "prompt_number": 48,
       "text": [
        "array([ 3,  0,  9,  6,  0, 12])"
       ]
      }
     ],
     "prompt_number": 48
    },
    {
     "cell_type": "markdown",
     "metadata": {},
     "source": [
      "###Computations"
     ]
    },
    {
     "cell_type": "code",
     "collapsed": false,
     "input": [
      "x = np.array([[1,1], [2,2]])\n",
      "x.sum()"
     ],
     "language": "python",
     "metadata": {},
     "outputs": [
      {
       "metadata": {},
       "output_type": "pyout",
       "prompt_number": 49,
       "text": [
        "6"
       ]
      }
     ],
     "prompt_number": 49
    },
    {
     "cell_type": "code",
     "collapsed": false,
     "input": [
      "x.sum(axis=0) #columns"
     ],
     "language": "python",
     "metadata": {},
     "outputs": [
      {
       "metadata": {},
       "output_type": "pyout",
       "prompt_number": 50,
       "text": [
        "array([3, 3])"
       ]
      }
     ],
     "prompt_number": 50
    },
    {
     "cell_type": "code",
     "collapsed": false,
     "input": [
      "x.sum(axis=1) # rows"
     ],
     "language": "python",
     "metadata": {},
     "outputs": [
      {
       "metadata": {},
       "output_type": "pyout",
       "prompt_number": 51,
       "text": [
        "array([2, 4])"
       ]
      }
     ],
     "prompt_number": 51
    },
    {
     "cell_type": "code",
     "collapsed": false,
     "input": [
      "# min and max indices\n",
      "print x.argmin()\n",
      "print x.argmax()\n",
      "# not to be confused with\n",
      "print x.min()\n",
      "print x.max()"
     ],
     "language": "python",
     "metadata": {},
     "outputs": [
      {
       "output_type": "stream",
       "stream": "stdout",
       "text": [
        "0\n",
        "2\n",
        "1\n",
        "2\n"
       ]
      }
     ],
     "prompt_number": 52
    },
    {
     "cell_type": "code",
     "collapsed": false,
     "input": [
      "x.cumsum()"
     ],
     "language": "python",
     "metadata": {},
     "outputs": [
      {
       "metadata": {},
       "output_type": "pyout",
       "prompt_number": 56,
       "text": [
        "array([1, 2, 4, 6])"
       ]
      }
     ],
     "prompt_number": 56
    },
    {
     "cell_type": "markdown",
     "metadata": {},
     "source": [
      "###Polynomials"
     ]
    },
    {
     "cell_type": "code",
     "collapsed": false,
     "input": [
      "p = np.poly1d([3,2,-1])\n",
      "# equavlent to 3x^2 + 2x -1\n",
      "print p(0)\n",
      "print p.roots\n",
      "print p.order"
     ],
     "language": "python",
     "metadata": {},
     "outputs": [
      {
       "output_type": "stream",
       "stream": "stdout",
       "text": [
        "-1\n",
        "[-1.          0.33333333]\n",
        "2\n"
       ]
      }
     ],
     "prompt_number": 60
    },
    {
     "cell_type": "code",
     "collapsed": false,
     "input": [
      "%matplotlib inline"
     ],
     "language": "python",
     "metadata": {},
     "outputs": [],
     "prompt_number": 61
    },
    {
     "cell_type": "code",
     "collapsed": false,
     "input": [
      "import matplotlib.pyplot as plt\n",
      "\n",
      "x = np.linspace(0,1,20)\n",
      "y = np.cos(x) + 0.3*np.random.rand(20)\n",
      "p = np.poly1d(np.polyfit(x,y,3))\n",
      "\n",
      "t = np.linspace(0,1,200)\n",
      "plt.plot(x,y,'o',t, p(t), '-')"
     ],
     "language": "python",
     "metadata": {},
     "outputs": [
      {
       "metadata": {},
       "output_type": "pyout",
       "prompt_number": 64,
       "text": [
        "[<matplotlib.lines.Line2D at 0x9e849e8>,\n",
        " <matplotlib.lines.Line2D at 0xa033470>]"
       ]
      },
      {
       "metadata": {},
       "output_type": "display_data",
       "png": "[encoded data removed]",
       "text": [
        "<matplotlib.figure.Figure at 0x9fc4320>"
       ]
      }
     ],
     "prompt_number": 64
    },
    {
     "cell_type": "code",
     "collapsed": false,
     "input": [
      "import numpy as np\n",
      "p = np.polynomial.Polynomial([-1,2,3])\n",
      "print p(0)\n",
      "print p.roots()\n",
      "print p.degree()"
     ],
     "language": "python",
     "metadata": {},
     "outputs": [
      {
       "output_type": "stream",
       "stream": "stdout",
       "text": [
        "-1.0\n",
        "[-1.          0.33333333]\n",
        "2\n"
       ]
      }
     ],
     "prompt_number": 67
    },
    {
     "cell_type": "code",
     "collapsed": false,
     "input": [
      "x = np.linspace(-1,1,2000)\n",
      "y = np.cos(x) + 0.3 * np.random.rand(2000)\n",
      "p = np.polynomial.Chebyshev.fit(x,y,90)\n",
      "\n",
      "t = np.linspace(-1,1,200)\n",
      "plt.plot(x,y,'r')\n",
      "plt.plot(t, p(t), 'k-', lw = 3)"
     ],
     "language": "python",
     "metadata": {},
     "outputs": [
      {
       "metadata": {},
       "output_type": "pyout",
       "prompt_number": 68,
       "text": [
        "[<matplotlib.lines.Line2D at 0x9fd9b38>]"
       ]
      },
      {
       "metadata": {},
       "output_type": "display_data",
       "png": "[encoded data removed]",
       "text": [
        "<matplotlib.figure.Figure at 0x9fd5668>"
       ]
      }
     ],
     "prompt_number": 68
    },
    {
     "cell_type": "code",
     "collapsed": false,
     "input": [
      "a = np.arange(1,6)\n",
      "b = np.arange(6,11)\n",
      "c = np.arange(11,16)\n",
      "\n",
      "x = np.column_stack((a,b,c))\n",
      "\n",
      "x[(1,3), ]"
     ],
     "language": "python",
     "metadata": {},
     "outputs": [
      {
       "metadata": {},
       "output_type": "pyout",
       "prompt_number": 92,
       "text": [
        "array([[ 2,  7, 12],\n",
        "       [ 4,  9, 14]])"
       ]
      }
     ],
     "prompt_number": 92
    },
    {
     "cell_type": "code",
     "collapsed": false,
     "input": [
      "a = np.arange(25).reshape(5,5)\n",
      "b = np.array([1., 5, 10, 15, 20])"
     ],
     "language": "python",
     "metadata": {},
     "outputs": [],
     "prompt_number": 94
    },
    {
     "cell_type": "code",
     "collapsed": false,
     "input": [
      "a[np.newaxis, :] / b[:, np.newaxis]"
     ],
     "language": "python",
     "metadata": {},
     "outputs": [
      {
       "metadata": {},
       "output_type": "pyout",
       "prompt_number": 101,
       "text": [
        "array([[[ 0.        ,  1.        ,  2.        ,  3.        ,  4.        ],\n",
        "        [ 1.        ,  1.2       ,  1.4       ,  1.6       ,  1.8       ],\n",
        "        [ 1.        ,  1.1       ,  1.2       ,  1.3       ,  1.4       ],\n",
        "        [ 1.        ,  1.06666667,  1.13333333,  1.2       ,  1.26666667],\n",
        "        [ 1.        ,  1.05      ,  1.1       ,  1.15      ,  1.2       ]]])"
       ]
      }
     ],
     "prompt_number": 101
    },
    {
     "cell_type": "code",
     "collapsed": false,
     "input": [
      "from scipy import misc\n",
      "lena = misc.lena()"
     ],
     "language": "python",
     "metadata": {},
     "outputs": [],
     "prompt_number": 102
    },
    {
     "cell_type": "code",
     "collapsed": false,
     "input": [
      "import pylab as plt\n",
      "plt.imshow(lena)"
     ],
     "language": "python",
     "metadata": {},
     "outputs": [
      {
       "metadata": {},
       "output_type": "pyout",
       "prompt_number": 103,
       "text": [
        "<matplotlib.image.AxesImage at 0xc0776a0>"
       ]
      },
      {
       "metadata": {},
       "output_type": "display_data",
       "png": "[encoded data removed]",
       "text": [
        "<matplotlib.figure.Figure at 0xa04e4a8>"
       ]
      }
     ],
     "prompt_number": 103
    },
    {
     "cell_type": "code",
     "collapsed": false,
     "input": [
      "plt.imshow(lena, cmap = plt.cm.gray)"
     ],
     "language": "python",
     "metadata": {},
     "outputs": [
      {
       "metadata": {},
       "output_type": "pyout",
       "prompt_number": 104,
       "text": [
        "<matplotlib.image.AxesImage at 0xa4e3390>"
       ]
      },
      {
       "metadata": {},
       "output_type": "display_data",
       "png": "[encoded data removed]",
       "text": [
        "<matplotlib.figure.Figure at 0xa561c50>"
       ]
      }
     ],
     "prompt_number": 104
    },
    {
     "cell_type": "code",
     "collapsed": false,
     "input": [
      "crop_lena = lena[30:-30, 30:-30]"
     ],
     "language": "python",
     "metadata": {},
     "outputs": [],
     "prompt_number": 106
    },
    {
     "cell_type": "code",
     "collapsed": false,
     "input": [
      "y,x = np.ogrid[0:512, 0:512]\n",
      "y.shape, x.shape\n",
      "((512,1), (1,512))\n",
      "centerx, centery = (256, 256)\n",
      "mask = ((y - centery)**2 + (x - centerx)**2) > 230 ** 2"
     ],
     "language": "python",
     "metadata": {},
     "outputs": [],
     "prompt_number": 108
    },
    {
     "cell_type": "code",
     "collapsed": false,
     "input": [
      "lena[mask] = 0\n",
      "plt.imshow(lena, cmap = plt.cm.gray)"
     ],
     "language": "python",
     "metadata": {},
     "outputs": [
      {
       "metadata": {},
       "output_type": "pyout",
       "prompt_number": 110,
       "text": [
        "<matplotlib.image.AxesImage at 0xcadf630>"
       ]
      },
      {
       "metadata": {},
       "output_type": "display_data",
       "png": "[encoded data removed]",
       "text": [
        "<matplotlib.figure.Figure at 0xc9a4470>"
       ]
      }
     ],
     "prompt_number": 110
    },
    {
     "cell_type": "code",
     "collapsed": false,
     "input": [],
     "language": "python",
     "metadata": {},
     "outputs": []
    }
   ],
   "metadata": {}
  }
 ]
}