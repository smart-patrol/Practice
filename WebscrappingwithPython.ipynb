{
 "metadata": {
  "name": "",
  "signature": "sha256:85b1f960647e4745917b2e0e2c3e3edf0b6af43f8660a90173187e1955afb256"
 },
 "nbformat": 3,
 "nbformat_minor": 0,
 "worksheets": [
  {
   "cells": [
    {
     "cell_type": "code",
     "collapsed": false,
     "input": [
      "#http://web.stanford.edu/~zlotnick/TextAsData/Web_Scraping_with_Beautiful_Soup.html\n",
      "\n",
      "from bs4 import BeautifulSoup\n",
      "import urllib\n",
      "\n",
      "r = urllib.urlopen('http://www.aflcio.org/Legislation-and-Politics/Legislative-Alerts').read()\n",
      "\n",
      "soup = BeautifulSoup(r)\n",
      "print type(soup)"
     ],
     "language": "python",
     "metadata": {},
     "outputs": [
      {
       "output_type": "stream",
       "stream": "stdout",
       "text": [
        "<class 'bs4.BeautifulSoup'>\n"
       ]
      }
     ],
     "prompt_number": 12
    },
    {
     "cell_type": "code",
     "collapsed": false,
     "input": [
      "print soup.prettify()[0:1000]"
     ],
     "language": "python",
     "metadata": {},
     "outputs": [
      {
       "output_type": "stream",
       "stream": "stdout",
       "text": [
        "<!DOCTYPE html>\n",
        "<html class=\"no-js\" lang=\"en-US\" xml:lang=\"en-US\" xmlns=\"http://www.w3.org/1999/xhtml\" xmlns:fb=\"http://ogp.me/ns/fb#\">\n",
        " <head>\n",
        "  <title>\n",
        "   Legislative Alerts\n",
        "  </title>\n",
        "  <meta content=\"text/html; charset=utf-8\" name=\"Content-Type\"/>\n",
        "  <meta content=\"en-US\" name=\"Content-language\"/>\n",
        "  <meta content=\"\" name=\"author\"/>\n",
        "  <meta content=\"\" name=\"copyright\"/>\n",
        "  <meta content=\"\" name=\"description\"/>\n",
        "  <meta content=\"\" name=\"keywords\"/>\n",
        "  <meta content=\"TRUE\" name=\"MSSmartTagsPreventParsing\"/>\n",
        "  <meta content=\"eZ Publish\" name=\"generator\"/>\n",
        "  <meta content=\"Legislative Alerts\" property=\"og:title\"/>\n",
        "  <meta content=\"http://www.aflcio.org/Legislation-and-Politics/Legislative-Alerts\" property=\"og:url\"/>\n",
        "  <meta content=\"AFL-CIO\" property=\"og:site_name\"/>\n",
        "  <meta content=\"http://www.aflcio.org/extension/aflcio/design/aflcio_user/images/facebook_aflcio_200x200.jpg\" property=\"og:image\"/>\n",
        "  <meta content=\"non_profit\" property=\"og:type\"/>\n",
        "  <meta content=\"288636237825618\" property=\"\n"
       ]
      }
     ],
     "prompt_number": 14
    },
    {
     "cell_type": "code",
     "collapsed": false,
     "input": [
      "from IPython.display import HTML\n",
      "HTML('<iframe src=http://www.aflcio.org/Legislation-and-Politics/Legislative-Alerts width=700 height=500></iframe>')"
     ],
     "language": "python",
     "metadata": {},
     "outputs": [
      {
       "html": [
        "<iframe src=http://www.aflcio.org/Legislation-and-Politics/Legislative-Alerts width=700 height=500></iframe>"
       ],
       "metadata": {},
       "output_type": "pyout",
       "prompt_number": 16,
       "text": [
        "<IPython.core.display.HTML at 0x3f49cf8>"
       ]
      }
     ],
     "prompt_number": 16
    },
    {
     "cell_type": "code",
     "collapsed": false,
     "input": [
      "print soup.prettify()[28700:30500]"
     ],
     "language": "python",
     "metadata": {},
     "outputs": [
      {
       "output_type": "stream",
       "stream": "stdout",
       "text": [
        "+$(this).val();\n",
        "\t\t\t\t\t});\n",
        "\t\t\t\t});\n",
        "       </script>\n",
        "      </div>\n",
        "     </div>\n",
        "     <div class=\"legisalerts_listing\">\n",
        "      <div class=\"ec_statements\">\n",
        "       <div id=\"legalert_title\">\n",
        "        <a href=\"/Legislation-and-Politics/Legislative-Alerts/Letter-to-Senators-urging-them-to-support-the-following-National-Defense-Authorization-Act-amendments\">\n",
        "         Letter to Senators urging them to support the following National Defense Authorization Act amendments\n",
        "        </a>\n",
        "       </div>\n",
        "       <div id=\"legalert_date\">\n",
        "        June 10, 2015\n",
        "       </div>\n",
        "      </div>\n",
        "      <div class=\"ec_statements\">\n",
        "       <div id=\"legalert_title\">\n",
        "        <a href=\"/Legislation-and-Politics/Legislative-Alerts/Letter-to-Representatives-urging-them-to-vote-against-the-Trade-Adjustment-Assistance-proposal\">\n",
        "         Letter to Representatives urging them to vote against the Trade Adjustment Assistance proposal\n",
        "        </a>\n",
        "       </div>\n",
        "       <div id=\"legalert_date\">\n",
        "        June 10, 2015\n",
        "       </div>\n",
        "      </div>\n",
        "      <div class=\"ec_statements\">\n",
        "       <div id=\"legalert_title\">\n",
        "        <a href=\"/Legislation-and-Politics/Legislative-Alerts/Letter-to-Representatives-urging-them-to-oppose-the-Tribal-Labor-Sovereignty-Act-H.R.-511\">\n",
        "         Letter to Representatives urging them to oppose the Tribal Labor Sovereignty Act (H.R. 511)\n",
        "        </a>\n",
        "       </div>\n",
        "       <div id=\"legalert_date\">\n",
        "        June 04, 2015\n",
        "       </div>\n",
        "      </div>\n",
        "      <div class=\"ec_statements\">\n",
        "       <div id=\"legalert_title\">\n",
        "        <a href=\"/Legislation-and-Politics/Legislative-Alerts/Letter-to-the-Senate-Committee-on-Indian-Affairs-urging-them-to-vote-against-the-Tribal-Labor-Sovereignty-Act-S.-248\">\n",
        "         Letter to the Senate Committee on Indian Affairs urging them to vote against the Tribal Labor Sovereignty Act\n"
       ]
      }
     ],
     "prompt_number": 17
    },
    {
     "cell_type": "code",
     "collapsed": false,
     "input": [
      "letters = soup.find_all(\"div\", class_ = \"ec_statements\")"
     ],
     "language": "python",
     "metadata": {},
     "outputs": [],
     "prompt_number": 25
    },
    {
     "cell_type": "code",
     "collapsed": false,
     "input": [
      "print type(letters)"
     ],
     "language": "python",
     "metadata": {},
     "outputs": [
      {
       "output_type": "stream",
       "stream": "stdout",
       "text": [
        "<class 'bs4.element.ResultSet'>\n"
       ]
      }
     ],
     "prompt_number": 26
    },
    {
     "cell_type": "code",
     "collapsed": false,
     "input": [
      "letters[0]"
     ],
     "language": "python",
     "metadata": {},
     "outputs": [
      {
       "metadata": {},
       "output_type": "pyout",
       "prompt_number": 27,
       "text": [
        "<div class=\"ec_statements\">\n",
        "<div id=\"legalert_title\"><a href=\"/Legislation-and-Politics/Legislative-Alerts/Letter-to-Senators-urging-them-to-support-the-following-National-Defense-Authorization-Act-amendments\">Letter to Senators urging them to support the following National Defense Authorization Act amendments</a></div>\n",
        "<div id=\"legalert_date\">June 10, 2015</div>\n",
        "</div>"
       ]
      }
     ],
     "prompt_number": 27
    },
    {
     "cell_type": "code",
     "collapsed": false,
     "input": [
      "lobbying = {}\n",
      "for element in letters:\n",
      "    lobbying[element.a.get_text()] = {}"
     ],
     "language": "python",
     "metadata": {},
     "outputs": [],
     "prompt_number": 28
    },
    {
     "cell_type": "code",
     "collapsed": false,
     "input": [
      "letters[0].a[\"href\"]"
     ],
     "language": "python",
     "metadata": {},
     "outputs": [
      {
       "metadata": {},
       "output_type": "pyout",
       "prompt_number": 30,
       "text": [
        "'/Legislation-and-Politics/Legislative-Alerts/Letter-to-Senators-urging-them-to-support-the-following-National-Defense-Authorization-Act-amendments'"
       ]
      }
     ],
     "prompt_number": 30
    },
    {
     "cell_type": "code",
     "collapsed": false,
     "input": [
      "prefix = 'www.aflcio.org'\n",
      "\n",
      "for element in letters:\n",
      "    lobbying[element.a.get_text()][\"link\"] = prefix + element.a[\"href\"]"
     ],
     "language": "python",
     "metadata": {},
     "outputs": [],
     "prompt_number": 31
    },
    {
     "cell_type": "code",
     "collapsed": false,
     "input": [
      "letters[0].find(id = \"legalert_date\")"
     ],
     "language": "python",
     "metadata": {},
     "outputs": [
      {
       "metadata": {},
       "output_type": "pyout",
       "prompt_number": 32,
       "text": [
        "<div id=\"legalert_date\">June 10, 2015</div>"
       ]
      }
     ],
     "prompt_number": 32
    },
    {
     "cell_type": "code",
     "collapsed": false,
     "input": [
      "for element in letters:\n",
      "    date = element.find(id=\"legalert_date\").get_text()\n",
      "    lobbying[element.a.get_text()][\"date\"] = date"
     ],
     "language": "python",
     "metadata": {},
     "outputs": [],
     "prompt_number": 33
    },
    {
     "cell_type": "code",
     "collapsed": false,
     "input": [
      "for item in lobbying.keys():\n",
      "    print item + \": \" + \"\\n\\t\" + \"link: \" + lobbying[item][\"link\"] + \"\\n\\t\" + \"date: \" + lobbying[item][\"date\"] + \"\\m\\n\""
     ],
     "language": "python",
     "metadata": {},
     "outputs": [
      {
       "output_type": "stream",
       "stream": "stdout",
       "text": [
        "Letter to Representatives urging them to oppose the \u201cFast Track 2015\u201d legislation and support the alternative \"Right Track for TPP Act of 2015\": \n",
        "\tlink: www.aflcio.org/Legislation-and-Politics/Legislative-Alerts/Letter-to-Representatives-urging-them-to-oppose-the-Fast-Track-2015-legislation-and-support-the-alternative-Right-Track-for-TPP-Act-of-2015\n",
        "\tdate: April 23, 2015\\m\n",
        "\n",
        "Letter to Representatives in support of a clean funding bill for the Department of Homeland Security and to vote no on harmful immigration amendments: \n",
        "\tlink: www.aflcio.org/Legislation-and-Politics/Legislative-Alerts/Letter-to-Representatives-in-support-of-a-clean-funding-bill-for-the-Department-of-Homeland-Security-and-to-vote-no-on-harmful-immigration-amendments\n",
        "\tdate: January 13, 2015\\m\n",
        "\n",
        "Letter to Senators urging them to support the following National Defense Authorization Act amendments: \n",
        "\tlink: www.aflcio.org/Legislation-and-Politics/Legislative-Alerts/Letter-to-Senators-urging-them-to-support-the-following-National-Defense-Authorization-Act-amendments\n",
        "\tdate: June 10, 2015\\m\n",
        "\n",
        "Letter to Senators urging them not to co-sponsor the Immigration Innovation Act of 2015 (S. 153): \n",
        "\tlink: www.aflcio.org/Legislation-and-Politics/Legislative-Alerts/Letter-to-Senators-urging-them-not-to-co-sponsor-the-Immigration-Innovation-Act-of-2015-S.-153\n",
        "\tdate: January 20, 2015\\m\n",
        "\n",
        "Letter to Representatives urging them to oppose the Tribal Labor Sovereignty Act (H.R. 511): \n",
        "\tlink: www.aflcio.org/Legislation-and-Politics/Legislative-Alerts/Letter-to-Representatives-urging-them-to-oppose-the-Tribal-Labor-Sovereignty-Act-H.R.-511\n",
        "\tdate: June 04, 2015\\m\n",
        "\n",
        "Letter to Representatives urging them to oppose H.R. 1090, the misnamed \u201cRetail Investor Protection Act,\u201d: \n",
        "\tlink: www.aflcio.org/Legislation-and-Politics/Legislative-Alerts/Letter-to-Representatives-urging-them-to-oppose-H.R.-1090-the-misnamed-Retail-Investor-Protection-Act\n",
        "\tdate: April 15, 2015\\m\n",
        "\n",
        "Letter to Senators urging them to oppose \"Fast Track 2015\" legislation: \n",
        "\tlink: www.aflcio.org/Legislation-and-Politics/Legislative-Alerts/Letter-to-Senators-urging-them-to-oppose-Fast-Track-2015-legislation\n",
        "\tdate: April 22, 2015\\m\n",
        "\n",
        "Letter to Senators urging them to pass a clean funding bill for the Department of Homeland Security: \n",
        "\tlink: www.aflcio.org/Legislation-and-Politics/Legislative-Alerts/Letter-to-Senators-urging-them-to-pass-a-clean-funding-bill-for-the-Department-of-Homeland-Security\n",
        "\tdate: February 02, 2015\\m\n",
        "\n",
        "Letter to Representatives urging them to support workforce management accountability amendments to the 2016 National Defense Authorization Act: \n",
        "\tlink: www.aflcio.org/Legislation-and-Politics/Legislative-Alerts/Letter-to-Representatives-urging-them-to-support-workforce-management-accountability-amendments-to-the-2016-National-Defense-Authorization-Act\n",
        "\tdate: April 28, 2015\\m\n",
        "\n",
        "Letter to Senators urging them to vote against the Senate 2016 Budget Resolution: \n",
        "\tlink: www.aflcio.org/Legislation-and-Politics/Legislative-Alerts/Letter-to-Senators-urging-them-to-vote-against-the-Senate-2016-Budget-Resolution\n",
        "\tdate: March 26, 2015\\m\n",
        "\n",
        "Letter to Representatives in opposition to the undermining Student Success Act: \n",
        "\tlink: www.aflcio.org/Legislation-and-Politics/Legislative-Alerts/Letter-to-Representatives-in-opposition-to-the-undermining-Student-Success-Act\n",
        "\tdate: February 26, 2015\\m\n",
        "\n",
        "Letter to Representatives urging them to vote against the reckless House 2016 Budget Resolution (H Con Res. 27): \n",
        "\tlink: www.aflcio.org/Legislation-and-Politics/Legislative-Alerts/Letter-to-Representatives-urging-them-to-vote-against-the-reckless-House-2016-Budget-Resolution-H-Con-Res.-27\n",
        "\tdate: March 24, 2015\\m\n",
        "\n",
        "Letter to Representatives in support of the \"Fair Play Fair Pay Act\": \n",
        "\tlink: www.aflcio.org/Legislation-and-Politics/Legislative-Alerts/Letter-to-Representatives-in-support-of-the-Fair-Play-Fair-Pay-Act\n",
        "\tdate: April 13, 2015\\m\n",
        "\n",
        "Letter to Representatives in opposition to H.R. 185, the Regulatory Accountability Act of 2015: \n",
        "\tlink: www.aflcio.org/Legislation-and-Politics/Legislative-Alerts/Letter-to-Representatives-in-opposition-to-H.R.-185-the-Regulatory-Accountability-Act-of-2015\n",
        "\tdate: January 13, 2015\\m\n",
        "\n",
        "Letter to Senators Johnson and Carper urging them to oppose the Arizona Borderlands Protection and Preservation Act: \n",
        "\tlink: www.aflcio.org/Legislation-and-Politics/Legislative-Alerts/Letter-to-Senators-Johnson-and-Carper-urging-them-to-oppose-the-Arizona-Borderlands-Protection-and-Preservation-Act\n",
        "\tdate: May 05, 2015\\m\n",
        "\n",
        "Letter to the Senate Banking Committee in opposition to the draft legislation, \"The Financial Regulatory Improvement Act of 2015\": \n",
        "\tlink: www.aflcio.org/Legislation-and-Politics/Legislative-Alerts/Letter-to-the-Senate-Banking-Committee-in-opposition-to-the-draft-legislation-The-Financial-Regulatory-Improvement-Act-of-2015\n",
        "\tdate: May 20, 2015\\m\n",
        "\n",
        "Letter to Representatives in opposition of the Smith Amendment of H.R. 2029: \n",
        "\tlink: www.aflcio.org/Legislation-and-Politics/Legislative-Alerts/Letter-to-Representatives-in-opposition-of-the-Smith-Amendment-of-H.R.-2029\n",
        "\tdate: April 29, 2015\\m\n",
        "\n",
        "Letter to Senators in support of the bipartisan Portman-Stabenow amendment on currency (S.A. 1299): \n",
        "\tlink: www.aflcio.org/Legislation-and-Politics/Legislative-Alerts/Letter-to-Senators-in-support-of-the-bipartisan-Portman-Stabenow-amendment-on-currency-S.A.-1299\n",
        "\tdate: May 22, 2015\\m\n",
        "\n",
        "Letter to the Senate Committee on Indian Affairs urging them to vote against the Tribal Labor Sovereignty Act (S. 248): \n",
        "\tlink: www.aflcio.org/Legislation-and-Politics/Legislative-Alerts/Letter-to-the-Senate-Committee-on-Indian-Affairs-urging-them-to-vote-against-the-Tribal-Labor-Sovereignty-Act-S.-248\n",
        "\tdate: June 03, 2015\\m\n",
        "\n",
        "Letter to Senators urging them to vote against the callous and anti-immigrant \"Immigration Rule of Law Act of 2015\": \n",
        "\tlink: www.aflcio.org/Legislation-and-Politics/Legislative-Alerts/Letter-to-Senators-urging-them-to-vote-against-the-callous-and-anti-immigrant-Immigration-Rule-of-Law-Act-of-2015\n",
        "\tdate: February 25, 2015\\m\n",
        "\n",
        "Letter to Senators urging the swift confirmation of Loretta E. Lynch as Attorney General: \n",
        "\tlink: www.aflcio.org/Legislation-and-Politics/Legislative-Alerts/Letter-to-Senators-urging-the-swift-confirmation-of-Loretta-E.-Lynch-as-Attorney-General\n",
        "\tdate: March 16, 2015\\m\n",
        "\n",
        "Letter to Representatives expressing opposition to H.R. 50 and H.R. 527: \n",
        "\tlink: www.aflcio.org/Legislation-and-Politics/Legislative-Alerts/Letter-to-Representatives-expressing-opposition-to-H.R.-50-and-H.R.-527\n",
        "\tdate: February 03, 2015\\m\n",
        "\n",
        "Letter to Representatives in support of the Paycheck Fairness Act of 2015 (H.R. 1619): \n",
        "\tlink: www.aflcio.org/Legislation-and-Politics/Legislative-Alerts/Letter-to-Representatives-in-support-of-the-Paycheck-Fairness-Act-of-2015-H.R.-1619\n",
        "\tdate: April 14, 2015\\m\n",
        "\n",
        "Letter to Representatives urging them to vote against the Trade Adjustment Assistance proposal: \n",
        "\tlink: www.aflcio.org/Legislation-and-Politics/Legislative-Alerts/Letter-to-Representatives-urging-them-to-vote-against-the-Trade-Adjustment-Assistance-proposal\n",
        "\tdate: June 10, 2015\\m\n",
        "\n",
        "Letter to Representatives urging them to vote against H.J. Res 29, a resolution of disapproval of the NLRB election rules: \n",
        "\tlink: www.aflcio.org/Legislation-and-Politics/Legislative-Alerts/Letter-to-Representatives-urging-them-to-vote-against-H.J.-Res-29-a-resolution-of-disapproval-of-the-NLRB-election-rules\n",
        "\tdate: March 13, 2015\\m\n",
        "\n",
        "Letter to Senate Judiciary Committee urging the swift confirmation of Loretta Lynch: \n",
        "\tlink: www.aflcio.org/Legislation-and-Politics/Legislative-Alerts/Letter-to-Senate-Judiciary-Committee-urging-the-swift-confirmation-of-Loretta-Lynch\n",
        "\tdate: February 23, 2015\\m\n",
        "\n",
        "Letter to Representatives urging them to vote against H.R. 596, legislation that will repeal ACA: \n",
        "\tlink: www.aflcio.org/Legislation-and-Politics/Legislative-Alerts/Letter-to-Representatives-urging-them-to-vote-against-H.R.-596-legislation-that-will-repeal-ACA\n",
        "\tdate: February 02, 2015\\m\n",
        "\n",
        "Letter to Senators in support of the Paycheck Fairness Act of 2015 (S.862): \n",
        "\tlink: www.aflcio.org/Legislation-and-Politics/Legislative-Alerts/Letter-to-Senators-in-support-of-the-Paycheck-Fairness-Act-of-2015-S.862\n",
        "\tdate: April 14, 2015\\m\n",
        "\n",
        "Letter to Senators and Representatives asking them to oppose \"fast track\" trade promotion authority: \n",
        "\tlink: www.aflcio.org/Legislation-and-Politics/Legislative-Alerts/Letter-to-Senators-and-Representatives-asking-them-to-oppose-fast-track-trade-promotion-authority\n",
        "\tdate: March 02, 2015\\m\n",
        "\n",
        "Letter to Representatives in opposition to the \u201cPromoting Job Creation and Reducing Small Business Burdens Act\u201d (H.R. 37): \n",
        "\tlink: www.aflcio.org/Legislation-and-Politics/Legislative-Alerts/Letter-to-Representatives-in-opposition-to-the-Promoting-Job-Creation-and-Reducing-Small-Business-Burdens-Act-H.R.-37\n",
        "\tdate: January 13, 2015\\m\n",
        "\n",
        "Letter to Representatives urging them to vote against the misnamed Save American Workers Act.: \n",
        "\tlink: www.aflcio.org/Legislation-and-Politics/Legislative-Alerts/Letter-to-Representatives-urging-them-to-vote-against-the-misnamed-Save-American-Workers-Act\n",
        "\tdate: January 06, 2015\\m\n",
        "\n",
        "Letter to Representatives expressing opposition to H.R. 526, the \"Furthering Asbestos Claim Transparency Act: \n",
        "\tlink: www.aflcio.org/Legislation-and-Politics/Legislative-Alerts/Letter-to-Representatives-expressing-opposition-to-H.R.-526-the-Furthering-Asbestos-Claim-Transparency-Act\n",
        "\tdate: February 03, 2015\\m\n",
        "\n"
       ]
      }
     ],
     "prompt_number": 34
    },
    {
     "cell_type": "code",
     "collapsed": false,
     "input": [
      "# write the resulst to a JSON format\n",
      "import json\n",
      "\n",
      "with open(\"lobbying.json\", \"w\") as writeJSON:\n",
      "    json.dump(lobbying, writeJSON)"
     ],
     "language": "python",
     "metadata": {},
     "outputs": [],
     "prompt_number": 36
    },
    {
     "cell_type": "code",
     "collapsed": false,
     "input": [
      "import os\n",
      "print os.getcwd()"
     ],
     "language": "python",
     "metadata": {},
     "outputs": [
      {
       "output_type": "stream",
       "stream": "stdout",
       "text": [
        "C:\\Users\\Home\\Documents\\IPython Notebooks\n"
       ]
      }
     ],
     "prompt_number": 37
    },
    {
     "cell_type": "markdown",
     "metadata": {},
     "source": [
      "### Different Tutorial\n",
      "\n",
      "This one is different and uses requests with beatiful soup.\n"
     ]
    },
    {
     "cell_type": "code",
     "collapsed": false,
     "input": [
      "import requests\n",
      "\n",
      "results = requests.get(\"http://oreilly.com/store/samplers.html\")"
     ],
     "language": "python",
     "metadata": {},
     "outputs": [],
     "prompt_number": 1
    },
    {
     "cell_type": "code",
     "collapsed": false,
     "input": [
      "results.status_code"
     ],
     "language": "python",
     "metadata": {},
     "outputs": [
      {
       "metadata": {},
       "output_type": "pyout",
       "prompt_number": 2,
       "text": [
        "404"
       ]
      }
     ],
     "prompt_number": 2
    },
    {
     "cell_type": "code",
     "collapsed": false,
     "input": [
      "results.headers"
     ],
     "language": "python",
     "metadata": {},
     "outputs": [
      {
       "metadata": {},
       "output_type": "pyout",
       "prompt_number": 4,
       "text": [
        "{'content-length': '8759', 'content-encoding': 'gzip', 'accept-ranges': 'bytes', 'vary': 'Accept-Encoding', 'server': 'Apache', 'last-modified': 'Wed, 13 Aug 2014 17:05:22 GMT', 'connection': 'keep-alive', 'date': 'Tue, 16 Jun 2015 02:13:32 GMT', 'content-type': 'text/html; charset=utf-8'}"
       ]
      }
     ],
     "prompt_number": 4
    },
    {
     "cell_type": "code",
     "collapsed": false,
     "input": [
      "cont = results.content"
     ],
     "language": "python",
     "metadata": {},
     "outputs": [],
     "prompt_number": 6
    },
    {
     "cell_type": "code",
     "collapsed": false,
     "input": [
      "from bs4 import BeautifulSoup\n",
      "soup = BeautifulSoup(cont)\n",
      "samples = soup.find_all(\"a\", \"item-title\")"
     ],
     "language": "python",
     "metadata": {},
     "outputs": [],
     "prompt_number": 8
    },
    {
     "cell_type": "code",
     "collapsed": false,
     "input": [
      "data = {}\n",
      "for a in samples:\n",
      "    title = a.string.strip()\n",
      "    data[title] = a.attrs['href']"
     ],
     "language": "python",
     "metadata": {},
     "outputs": [],
     "prompt_number": 10
    },
    {
     "cell_type": "code",
     "collapsed": false,
     "input": [
      "data"
     ],
     "language": "python",
     "metadata": {},
     "outputs": [
      {
       "metadata": {},
       "output_type": "pyout",
       "prompt_number": 11,
       "text": [
        "{}"
       ]
      }
     ],
     "prompt_number": 11
    }
   ],
   "metadata": {}
  }
 ]
}