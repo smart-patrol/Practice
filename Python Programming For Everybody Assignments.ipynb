{
 "metadata": {
  "name": "",
  "signature": "sha256:9f044a4adedc7acc34aa9a6b36f9ef019b9ee30f6d02698790ffc5092938c695"
 },
 "nbformat": 3,
 "nbformat_minor": 0,
 "worksheets": [
  {
   "cells": [
    {
     "cell_type": "code",
     "collapsed": false,
     "input": [
      "scr = raw_input(\"Enter a Score:\")\n",
      "\n",
      "scr = float(scr)\n",
      "\n",
      "if scr > 1 :\n",
      "    print \"error\"\n",
      "else :\n",
      "    if scr >= 0.9 :\n",
      "        print \"A\"\n",
      "    elif scr >= 0.8 :\n",
      "        print \"B\"\n",
      "    elif scr >= 0.7 :\n",
      "        print \"C\"\n",
      "    elif scr >= 0.6 :\n",
      "        print \"D\"\n",
      "    else :\n",
      "        print \"F\"\n"
     ],
     "language": "python",
     "metadata": {},
     "outputs": [
      {
       "name": "stdout",
       "output_type": "stream",
       "stream": "stdout",
       "text": [
        "Enter a Score:0.85\n"
       ]
      },
      {
       "output_type": "stream",
       "stream": "stdout",
       "text": [
        "B\n"
       ]
      }
     ],
     "prompt_number": 7
    },
    {
     "cell_type": "code",
     "collapsed": false,
     "input": [
      "def computepay(h,r):\n",
      "    if h > 40 :\n",
      "        rem = h - 40\n",
      "        total_pay = (40 * r ) + (rem * r * 1.5)\n",
      "    else :\n",
      "        total_pay = (h * r)\n",
      "    return total_pay\n",
      "\n",
      "hrs = raw_input(\"Enter Hours:\")\n",
      "rate = raw_input(\"Enter Rate:\")\n",
      "\n",
      "hrs = float(hrs)\n",
      "rate = float(rate)\n",
      "\n",
      "p = computepay( hrs, rate)\n",
      "\n",
      "print p"
     ],
     "language": "python",
     "metadata": {},
     "outputs": [],
     "prompt_number": 4
    },
    {
     "cell_type": "code",
     "collapsed": false,
     "input": [],
     "language": "python",
     "metadata": {},
     "outputs": [
      {
       "name": "stdout",
       "output_type": "stream",
       "stream": "stdout",
       "text": [
        "Enter Hours:45\n"
       ]
      },
      {
       "name": "stdout",
       "output_type": "stream",
       "stream": "stdout",
       "text": [
        "Enter Rate:10.5\n"
       ]
      },
      {
       "output_type": "stream",
       "stream": "stdout",
       "text": [
        "Pay 498.75\n"
       ]
      }
     ],
     "prompt_number": 8
    }
   ],
   "metadata": {}
  }
 ]
}