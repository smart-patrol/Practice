{
 "metadata": {
  "name": "",
  "signature": "sha256:d824c20a8beb1bc086baf57c3e91dd1c13ffa46944ec5a57102075b47afbc654"
 },
 "nbformat": 3,
 "nbformat_minor": 0,
 "worksheets": [
  {
   "cells": [
    {
     "cell_type": "code",
     "collapsed": false,
     "input": [
      "#http://www.analyticsvidhya.com/blog/2014/07/baby-steps-learning-python-data-analysis/\n",
      "import pandas \n",
      "import numpy as np\n",
      "import matplotlib as plt\n",
      "\n",
      "#h_nms = ['sepal_length', 'sepal_width', 'petal_length', 'petal_width', 'class']\n",
      "#dat = pandas.read_csv(\"http://aima.cs.berkeley.edu/data/iris.csv\" \n",
      "#                      , header= 0\n",
      "#                      , names = h_nms)\n",
      "#print(dat.columns)\n",
      "#dat.head(5)\n",
      "\n",
      "from sklearn import datasets\n",
      "from sklearn import metrics\n",
      "from sklearn.linear_model import LogisticRegression\n",
      "\n",
      "dataset = datasets.load_iris()    "
     ],
     "language": "python",
     "metadata": {},
     "outputs": [],
     "prompt_number": 5
    },
    {
     "cell_type": "code",
     "collapsed": false,
     "input": [
      "dataset"
     ],
     "language": "python",
     "metadata": {},
     "outputs": [
      {
       "metadata": {},
       "output_type": "pyout",
       "prompt_number": 6,
       "text": [
        "{'DESCR': 'Iris Plants Database\\n\\nNotes\\n-----\\nData Set Characteristics:\\n    :Number of Instances: 150 (50 in each of three classes)\\n    :Number of Attributes: 4 numeric, predictive attributes and the class\\n    :Attribute Information:\\n        - sepal length in cm\\n        - sepal width in cm\\n        - petal length in cm\\n        - petal width in cm\\n        - class:\\n                - Iris-Setosa\\n                - Iris-Versicolour\\n                - Iris-Virginica\\n    :Summary Statistics:\\n    ============== ==== ==== ======= ===== ====================\\n                    Min  Max   Mean    SD   Class Correlation\\n    ============== ==== ==== ======= ===== ====================\\n    sepal length:   4.3  7.9   5.84   0.83    0.7826\\n    sepal width:    2.0  4.4   3.05   0.43   -0.4194\\n    petal length:   1.0  6.9   3.76   1.76    0.9490  (high!)\\n    petal width:    0.1  2.5   1.20  0.76     0.9565  (high!)\\n    ============== ==== ==== ======= ===== ====================\\n    :Missing Attribute Values: None\\n    :Class Distribution: 33.3% for each of 3 classes.\\n    :Creator: R.A. Fisher\\n    :Donor: Michael Marshall (MARSHALL%PLU@io.arc.nasa.gov)\\n    :Date: July, 1988\\n\\nThis is a copy of UCI ML iris datasets.\\nhttp://archive.ics.uci.edu/ml/datasets/Iris\\n\\nThe famous Iris database, first used by Sir R.A Fisher\\n\\nThis is perhaps the best known database to be found in the\\npattern recognition literature.  Fisher\\'s paper is a classic in the field and\\nis referenced frequently to this day.  (See Duda & Hart, for example.)  The\\ndata set contains 3 classes of 50 instances each, where each class refers to a\\ntype of iris plant.  One class is linearly separable from the other 2; the\\nlatter are NOT linearly separable from each other.\\n\\nReferences\\n----------\\n   - Fisher,R.A. \"The use of multiple measurements in taxonomic problems\"\\n     Annual Eugenics, 7, Part II, 179-188 (1936); also in \"Contributions to\\n     Mathematical Statistics\" (John Wiley, NY, 1950).\\n   - Duda,R.O., & Hart,P.E. (1973) Pattern Classification and Scene Analysis.\\n     (Q327.D83) John Wiley & Sons.  ISBN 0-471-22361-1.  See page 218.\\n   - Dasarathy, B.V. (1980) \"Nosing Around the Neighborhood: A New System\\n     Structure and Classification Rule for Recognition in Partially Exposed\\n     Environments\".  IEEE Transactions on Pattern Analysis and Machine\\n     Intelligence, Vol. PAMI-2, No. 1, 67-71.\\n   - Gates, G.W. (1972) \"The Reduced Nearest Neighbor Rule\".  IEEE Transactions\\n     on Information Theory, May 1972, 431-433.\\n   - See also: 1988 MLC Proceedings, 54-64.  Cheeseman et al\"s AUTOCLASS II\\n     conceptual clustering system finds 3 classes in the data.\\n   - Many, many more ...\\n',\n",
        " 'data': array([[ 5.1,  3.5,  1.4,  0.2],\n",
        "        [ 4.9,  3. ,  1.4,  0.2],\n",
        "        [ 4.7,  3.2,  1.3,  0.2],\n",
        "        [ 4.6,  3.1,  1.5,  0.2],\n",
        "        [ 5. ,  3.6,  1.4,  0.2],\n",
        "        [ 5.4,  3.9,  1.7,  0.4],\n",
        "        [ 4.6,  3.4,  1.4,  0.3],\n",
        "        [ 5. ,  3.4,  1.5,  0.2],\n",
        "        [ 4.4,  2.9,  1.4,  0.2],\n",
        "        [ 4.9,  3.1,  1.5,  0.1],\n",
        "        [ 5.4,  3.7,  1.5,  0.2],\n",
        "        [ 4.8,  3.4,  1.6,  0.2],\n",
        "        [ 4.8,  3. ,  1.4,  0.1],\n",
        "        [ 4.3,  3. ,  1.1,  0.1],\n",
        "        [ 5.8,  4. ,  1.2,  0.2],\n",
        "        [ 5.7,  4.4,  1.5,  0.4],\n",
        "        [ 5.4,  3.9,  1.3,  0.4],\n",
        "        [ 5.1,  3.5,  1.4,  0.3],\n",
        "        [ 5.7,  3.8,  1.7,  0.3],\n",
        "        [ 5.1,  3.8,  1.5,  0.3],\n",
        "        [ 5.4,  3.4,  1.7,  0.2],\n",
        "        [ 5.1,  3.7,  1.5,  0.4],\n",
        "        [ 4.6,  3.6,  1. ,  0.2],\n",
        "        [ 5.1,  3.3,  1.7,  0.5],\n",
        "        [ 4.8,  3.4,  1.9,  0.2],\n",
        "        [ 5. ,  3. ,  1.6,  0.2],\n",
        "        [ 5. ,  3.4,  1.6,  0.4],\n",
        "        [ 5.2,  3.5,  1.5,  0.2],\n",
        "        [ 5.2,  3.4,  1.4,  0.2],\n",
        "        [ 4.7,  3.2,  1.6,  0.2],\n",
        "        [ 4.8,  3.1,  1.6,  0.2],\n",
        "        [ 5.4,  3.4,  1.5,  0.4],\n",
        "        [ 5.2,  4.1,  1.5,  0.1],\n",
        "        [ 5.5,  4.2,  1.4,  0.2],\n",
        "        [ 4.9,  3.1,  1.5,  0.1],\n",
        "        [ 5. ,  3.2,  1.2,  0.2],\n",
        "        [ 5.5,  3.5,  1.3,  0.2],\n",
        "        [ 4.9,  3.1,  1.5,  0.1],\n",
        "        [ 4.4,  3. ,  1.3,  0.2],\n",
        "        [ 5.1,  3.4,  1.5,  0.2],\n",
        "        [ 5. ,  3.5,  1.3,  0.3],\n",
        "        [ 4.5,  2.3,  1.3,  0.3],\n",
        "        [ 4.4,  3.2,  1.3,  0.2],\n",
        "        [ 5. ,  3.5,  1.6,  0.6],\n",
        "        [ 5.1,  3.8,  1.9,  0.4],\n",
        "        [ 4.8,  3. ,  1.4,  0.3],\n",
        "        [ 5.1,  3.8,  1.6,  0.2],\n",
        "        [ 4.6,  3.2,  1.4,  0.2],\n",
        "        [ 5.3,  3.7,  1.5,  0.2],\n",
        "        [ 5. ,  3.3,  1.4,  0.2],\n",
        "        [ 7. ,  3.2,  4.7,  1.4],\n",
        "        [ 6.4,  3.2,  4.5,  1.5],\n",
        "        [ 6.9,  3.1,  4.9,  1.5],\n",
        "        [ 5.5,  2.3,  4. ,  1.3],\n",
        "        [ 6.5,  2.8,  4.6,  1.5],\n",
        "        [ 5.7,  2.8,  4.5,  1.3],\n",
        "        [ 6.3,  3.3,  4.7,  1.6],\n",
        "        [ 4.9,  2.4,  3.3,  1. ],\n",
        "        [ 6.6,  2.9,  4.6,  1.3],\n",
        "        [ 5.2,  2.7,  3.9,  1.4],\n",
        "        [ 5. ,  2. ,  3.5,  1. ],\n",
        "        [ 5.9,  3. ,  4.2,  1.5],\n",
        "        [ 6. ,  2.2,  4. ,  1. ],\n",
        "        [ 6.1,  2.9,  4.7,  1.4],\n",
        "        [ 5.6,  2.9,  3.6,  1.3],\n",
        "        [ 6.7,  3.1,  4.4,  1.4],\n",
        "        [ 5.6,  3. ,  4.5,  1.5],\n",
        "        [ 5.8,  2.7,  4.1,  1. ],\n",
        "        [ 6.2,  2.2,  4.5,  1.5],\n",
        "        [ 5.6,  2.5,  3.9,  1.1],\n",
        "        [ 5.9,  3.2,  4.8,  1.8],\n",
        "        [ 6.1,  2.8,  4. ,  1.3],\n",
        "        [ 6.3,  2.5,  4.9,  1.5],\n",
        "        [ 6.1,  2.8,  4.7,  1.2],\n",
        "        [ 6.4,  2.9,  4.3,  1.3],\n",
        "        [ 6.6,  3. ,  4.4,  1.4],\n",
        "        [ 6.8,  2.8,  4.8,  1.4],\n",
        "        [ 6.7,  3. ,  5. ,  1.7],\n",
        "        [ 6. ,  2.9,  4.5,  1.5],\n",
        "        [ 5.7,  2.6,  3.5,  1. ],\n",
        "        [ 5.5,  2.4,  3.8,  1.1],\n",
        "        [ 5.5,  2.4,  3.7,  1. ],\n",
        "        [ 5.8,  2.7,  3.9,  1.2],\n",
        "        [ 6. ,  2.7,  5.1,  1.6],\n",
        "        [ 5.4,  3. ,  4.5,  1.5],\n",
        "        [ 6. ,  3.4,  4.5,  1.6],\n",
        "        [ 6.7,  3.1,  4.7,  1.5],\n",
        "        [ 6.3,  2.3,  4.4,  1.3],\n",
        "        [ 5.6,  3. ,  4.1,  1.3],\n",
        "        [ 5.5,  2.5,  4. ,  1.3],\n",
        "        [ 5.5,  2.6,  4.4,  1.2],\n",
        "        [ 6.1,  3. ,  4.6,  1.4],\n",
        "        [ 5.8,  2.6,  4. ,  1.2],\n",
        "        [ 5. ,  2.3,  3.3,  1. ],\n",
        "        [ 5.6,  2.7,  4.2,  1.3],\n",
        "        [ 5.7,  3. ,  4.2,  1.2],\n",
        "        [ 5.7,  2.9,  4.2,  1.3],\n",
        "        [ 6.2,  2.9,  4.3,  1.3],\n",
        "        [ 5.1,  2.5,  3. ,  1.1],\n",
        "        [ 5.7,  2.8,  4.1,  1.3],\n",
        "        [ 6.3,  3.3,  6. ,  2.5],\n",
        "        [ 5.8,  2.7,  5.1,  1.9],\n",
        "        [ 7.1,  3. ,  5.9,  2.1],\n",
        "        [ 6.3,  2.9,  5.6,  1.8],\n",
        "        [ 6.5,  3. ,  5.8,  2.2],\n",
        "        [ 7.6,  3. ,  6.6,  2.1],\n",
        "        [ 4.9,  2.5,  4.5,  1.7],\n",
        "        [ 7.3,  2.9,  6.3,  1.8],\n",
        "        [ 6.7,  2.5,  5.8,  1.8],\n",
        "        [ 7.2,  3.6,  6.1,  2.5],\n",
        "        [ 6.5,  3.2,  5.1,  2. ],\n",
        "        [ 6.4,  2.7,  5.3,  1.9],\n",
        "        [ 6.8,  3. ,  5.5,  2.1],\n",
        "        [ 5.7,  2.5,  5. ,  2. ],\n",
        "        [ 5.8,  2.8,  5.1,  2.4],\n",
        "        [ 6.4,  3.2,  5.3,  2.3],\n",
        "        [ 6.5,  3. ,  5.5,  1.8],\n",
        "        [ 7.7,  3.8,  6.7,  2.2],\n",
        "        [ 7.7,  2.6,  6.9,  2.3],\n",
        "        [ 6. ,  2.2,  5. ,  1.5],\n",
        "        [ 6.9,  3.2,  5.7,  2.3],\n",
        "        [ 5.6,  2.8,  4.9,  2. ],\n",
        "        [ 7.7,  2.8,  6.7,  2. ],\n",
        "        [ 6.3,  2.7,  4.9,  1.8],\n",
        "        [ 6.7,  3.3,  5.7,  2.1],\n",
        "        [ 7.2,  3.2,  6. ,  1.8],\n",
        "        [ 6.2,  2.8,  4.8,  1.8],\n",
        "        [ 6.1,  3. ,  4.9,  1.8],\n",
        "        [ 6.4,  2.8,  5.6,  2.1],\n",
        "        [ 7.2,  3. ,  5.8,  1.6],\n",
        "        [ 7.4,  2.8,  6.1,  1.9],\n",
        "        [ 7.9,  3.8,  6.4,  2. ],\n",
        "        [ 6.4,  2.8,  5.6,  2.2],\n",
        "        [ 6.3,  2.8,  5.1,  1.5],\n",
        "        [ 6.1,  2.6,  5.6,  1.4],\n",
        "        [ 7.7,  3. ,  6.1,  2.3],\n",
        "        [ 6.3,  3.4,  5.6,  2.4],\n",
        "        [ 6.4,  3.1,  5.5,  1.8],\n",
        "        [ 6. ,  3. ,  4.8,  1.8],\n",
        "        [ 6.9,  3.1,  5.4,  2.1],\n",
        "        [ 6.7,  3.1,  5.6,  2.4],\n",
        "        [ 6.9,  3.1,  5.1,  2.3],\n",
        "        [ 5.8,  2.7,  5.1,  1.9],\n",
        "        [ 6.8,  3.2,  5.9,  2.3],\n",
        "        [ 6.7,  3.3,  5.7,  2.5],\n",
        "        [ 6.7,  3. ,  5.2,  2.3],\n",
        "        [ 6.3,  2.5,  5. ,  1.9],\n",
        "        [ 6.5,  3. ,  5.2,  2. ],\n",
        "        [ 6.2,  3.4,  5.4,  2.3],\n",
        "        [ 5.9,  3. ,  5.1,  1.8]]),\n",
        " 'feature_names': ['sepal length (cm)',\n",
        "  'sepal width (cm)',\n",
        "  'petal length (cm)',\n",
        "  'petal width (cm)'],\n",
        " 'target': array([0, 0, 0, 0, 0, 0, 0, 0, 0, 0, 0, 0, 0, 0, 0, 0, 0, 0, 0, 0, 0, 0, 0,\n",
        "        0, 0, 0, 0, 0, 0, 0, 0, 0, 0, 0, 0, 0, 0, 0, 0, 0, 0, 0, 0, 0, 0, 0,\n",
        "        0, 0, 0, 0, 1, 1, 1, 1, 1, 1, 1, 1, 1, 1, 1, 1, 1, 1, 1, 1, 1, 1, 1,\n",
        "        1, 1, 1, 1, 1, 1, 1, 1, 1, 1, 1, 1, 1, 1, 1, 1, 1, 1, 1, 1, 1, 1, 1,\n",
        "        1, 1, 1, 1, 1, 1, 1, 1, 2, 2, 2, 2, 2, 2, 2, 2, 2, 2, 2, 2, 2, 2, 2,\n",
        "        2, 2, 2, 2, 2, 2, 2, 2, 2, 2, 2, 2, 2, 2, 2, 2, 2, 2, 2, 2, 2, 2, 2,\n",
        "        2, 2, 2, 2, 2, 2, 2, 2, 2, 2, 2, 2]),\n",
        " 'target_names': array(['setosa', 'versicolor', 'virginica'], \n",
        "       dtype='|S10')}"
       ]
      }
     ],
     "prompt_number": 6
    },
    {
     "cell_type": "code",
     "collapsed": false,
     "input": [
      "model = LogisticRegression()\n",
      "model.fit(dataset.data, dataset.target)\n"
     ],
     "language": "python",
     "metadata": {},
     "outputs": [
      {
       "metadata": {},
       "output_type": "pyout",
       "prompt_number": 7,
       "text": [
        "LogisticRegression(C=1.0, class_weight=None, dual=False, fit_intercept=True,\n",
        "          intercept_scaling=1, penalty='l2', random_state=None, tol=0.0001)"
       ]
      }
     ],
     "prompt_number": 7
    },
    {
     "cell_type": "code",
     "collapsed": false,
     "input": [
      "expect = dataset.target\n",
      "expect"
     ],
     "language": "python",
     "metadata": {},
     "outputs": [
      {
       "metadata": {},
       "output_type": "pyout",
       "prompt_number": 9,
       "text": [
        "array([0, 0, 0, 0, 0, 0, 0, 0, 0, 0, 0, 0, 0, 0, 0, 0, 0, 0, 0, 0, 0, 0, 0,\n",
        "       0, 0, 0, 0, 0, 0, 0, 0, 0, 0, 0, 0, 0, 0, 0, 0, 0, 0, 0, 0, 0, 0, 0,\n",
        "       0, 0, 0, 0, 1, 1, 1, 1, 1, 1, 1, 1, 1, 1, 1, 1, 1, 1, 1, 1, 1, 1, 1,\n",
        "       1, 1, 1, 1, 1, 1, 1, 1, 1, 1, 1, 1, 1, 1, 1, 1, 1, 1, 1, 1, 1, 1, 1,\n",
        "       1, 1, 1, 1, 1, 1, 1, 1, 2, 2, 2, 2, 2, 2, 2, 2, 2, 2, 2, 2, 2, 2, 2,\n",
        "       2, 2, 2, 2, 2, 2, 2, 2, 2, 2, 2, 2, 2, 2, 2, 2, 2, 2, 2, 2, 2, 2, 2,\n",
        "       2, 2, 2, 2, 2, 2, 2, 2, 2, 2, 2, 2])"
       ]
      }
     ],
     "prompt_number": 9
    },
    {
     "cell_type": "code",
     "collapsed": false,
     "input": [
      "pred = model.predict(dataset.data)\n",
      "pred"
     ],
     "language": "python",
     "metadata": {},
     "outputs": [
      {
       "metadata": {},
       "output_type": "pyout",
       "prompt_number": 10,
       "text": [
        "array([0, 0, 0, 0, 0, 0, 0, 0, 0, 0, 0, 0, 0, 0, 0, 0, 0, 0, 0, 0, 0, 0, 0,\n",
        "       0, 0, 0, 0, 0, 0, 0, 0, 0, 0, 0, 0, 0, 0, 0, 0, 0, 0, 0, 0, 0, 0, 0,\n",
        "       0, 0, 0, 0, 1, 1, 1, 1, 1, 1, 1, 1, 1, 1, 1, 1, 1, 1, 1, 1, 2, 1, 1,\n",
        "       1, 2, 1, 1, 1, 1, 1, 1, 1, 1, 1, 1, 1, 1, 2, 2, 2, 1, 1, 1, 1, 1, 1,\n",
        "       1, 1, 1, 1, 1, 1, 1, 1, 2, 2, 2, 2, 2, 2, 2, 2, 2, 2, 2, 2, 2, 2, 2,\n",
        "       2, 2, 2, 2, 2, 2, 2, 2, 2, 2, 2, 2, 2, 2, 1, 2, 2, 2, 2, 2, 2, 2, 2,\n",
        "       2, 2, 2, 2, 2, 2, 2, 2, 2, 2, 2, 2])"
       ]
      }
     ],
     "prompt_number": 10
    },
    {
     "cell_type": "code",
     "collapsed": false,
     "input": [
      "print(metrics.classification_report(expect, pred))\n",
      "print(metrics.confusion_matrix(expect, pred))"
     ],
     "language": "python",
     "metadata": {},
     "outputs": [
      {
       "output_type": "stream",
       "stream": "stdout",
       "text": [
        "             precision    recall  f1-score   support\n",
        "\n",
        "          0       1.00      1.00      1.00        50\n",
        "          1       0.98      0.90      0.94        50\n",
        "          2       0.91      0.98      0.94        50\n",
        "\n",
        "avg / total       0.96      0.96      0.96       150\n",
        "\n",
        "[[50  0  0]\n",
        " [ 0 45  5]\n",
        " [ 0  1 49]]\n"
       ]
      }
     ],
     "prompt_number": 12
    },
    {
     "cell_type": "code",
     "collapsed": false,
     "input": [
      "#http://www.analyticsvidhya.com/blog/2014/07/baby-steps-libraries-data-structure/\n",
      "# data structure demo in python\n",
      "sq_lst = [0,1,4,9,16,25]\n",
      "sq_lst\n",
      "#type(sq_lst)\n"
     ],
     "language": "python",
     "metadata": {},
     "outputs": [
      {
       "metadata": {},
       "output_type": "pyout",
       "prompt_number": 14,
       "text": [
        "[0, 1, 4, 9, 16, 25]"
       ]
      }
     ],
     "prompt_number": 14
    },
    {
     "cell_type": "code",
     "collapsed": false,
     "input": [
      "#retuning place on list\n",
      "sq_lst[4]"
     ],
     "language": "python",
     "metadata": {},
     "outputs": [
      {
       "metadata": {},
       "output_type": "pyout",
       "prompt_number": 16,
       "text": [
        "16"
       ]
      }
     ],
     "prompt_number": 16
    },
    {
     "cell_type": "code",
     "collapsed": false,
     "input": [
      "# slicing\n",
      "sq_lst[0:3]"
     ],
     "language": "python",
     "metadata": {},
     "outputs": [
      {
       "metadata": {},
       "output_type": "pyout",
       "prompt_number": 17,
       "text": [
        "[0, 1, 4]"
       ]
      }
     ],
     "prompt_number": 17
    },
    {
     "cell_type": "code",
     "collapsed": false,
     "input": [
      "# using negative indexes\n",
      "sq_lst[-2]"
     ],
     "language": "python",
     "metadata": {},
     "outputs": [
      {
       "metadata": {},
       "output_type": "pyout",
       "prompt_number": 18,
       "text": [
        "16"
       ]
      }
     ],
     "prompt_number": 18
    },
    {
     "cell_type": "code",
     "collapsed": false,
     "input": [
      "# strings in python\n",
      "greeting = 'Hello'\n",
      "print greeting[1]\n",
      "print len(greeting)\n",
      "print greeting + \" \" + 'World'"
     ],
     "language": "python",
     "metadata": {},
     "outputs": [
      {
       "output_type": "stream",
       "stream": "stdout",
       "text": [
        "e\n",
        "5\n",
        "Hello World\n"
       ]
      }
     ],
     "prompt_number": 21
    },
    {
     "cell_type": "code",
     "collapsed": false,
     "input": [
      "raw_string = r'\\raw strings can be passed on as is with r first.'\n",
      "print(raw_string)"
     ],
     "language": "python",
     "metadata": {},
     "outputs": [
      {
       "output_type": "stream",
       "stream": "stdout",
       "text": [
        "\\raw strings can be passed on as is with  r first.\n"
       ]
      }
     ],
     "prompt_number": 22
    },
    {
     "cell_type": "code",
     "collapsed": false,
     "input": [
      "# pytons strings cannot be change\n",
      "greeting[2] = \"a\""
     ],
     "language": "python",
     "metadata": {},
     "outputs": [
      {
       "ename": "TypeError",
       "evalue": "'str' object does not support item assignment",
       "output_type": "pyerr",
       "traceback": [
        "\u001b[1;31m---------------------------------------------------------------------------\u001b[0m\n\u001b[1;31mTypeError\u001b[0m                                 Traceback (most recent call last)",
        "\u001b[1;32m<ipython-input-23-f9120f95c631>\u001b[0m in \u001b[0;36m<module>\u001b[1;34m()\u001b[0m\n\u001b[0;32m      1\u001b[0m \u001b[1;31m# pytons strings cannot be change\u001b[0m\u001b[1;33m\u001b[0m\u001b[1;33m\u001b[0m\u001b[0m\n\u001b[1;32m----> 2\u001b[1;33m \u001b[0mgreeting\u001b[0m\u001b[1;33m[\u001b[0m\u001b[1;36m2\u001b[0m\u001b[1;33m]\u001b[0m \u001b[1;33m=\u001b[0m \u001b[1;34m\"a\"\u001b[0m\u001b[1;33m\u001b[0m\u001b[0m\n\u001b[0m",
        "\u001b[1;31mTypeError\u001b[0m: 'str' object does not support item assignment"
       ]
      }
     ],
     "prompt_number": 23
    },
    {
     "cell_type": "markdown",
     "metadata": {},
     "source": [
      "Tuples \u2013 A tuple is represented by a number of values separated by commas. \n",
      "Tuples are immutable and the output is surrounded by parentheses so that nested tuples are processed correctly. Additionally, even though tuples are immutable, \n",
      "they can hold mutable data if needed."
     ]
    },
    {
     "cell_type": "code",
     "collapsed": false,
     "input": [
      "tpl_ex = 0,1,4,9,16,25\n",
      "tpl_ex  "
     ],
     "language": "python",
     "metadata": {},
     "outputs": [
      {
       "metadata": {},
       "output_type": "pyout",
       "prompt_number": 24,
       "text": [
        "(0, 1, 4, 9, 16, 25)"
       ]
      }
     ],
     "prompt_number": 24
    },
    {
     "cell_type": "code",
     "collapsed": false,
     "input": [
      "tpl_ex[2]"
     ],
     "language": "python",
     "metadata": {},
     "outputs": [
      {
       "metadata": {},
       "output_type": "pyout",
       "prompt_number": 25,
       "text": [
        "4"
       ]
      }
     ],
     "prompt_number": 25
    },
    {
     "cell_type": "code",
     "collapsed": false,
     "input": [
      "# tuples are uncahngle too / immutable too\n",
      "tpl_ex[2] = 5"
     ],
     "language": "python",
     "metadata": {},
     "outputs": [
      {
       "ename": "TypeError",
       "evalue": "'tuple' object does not support item assignment",
       "output_type": "pyerr",
       "traceback": [
        "\u001b[1;31m---------------------------------------------------------------------------\u001b[0m\n\u001b[1;31mTypeError\u001b[0m                                 Traceback (most recent call last)",
        "\u001b[1;32m<ipython-input-26-98aad180675a>\u001b[0m in \u001b[0;36m<module>\u001b[1;34m()\u001b[0m\n\u001b[0;32m      1\u001b[0m \u001b[1;31m# tuples are uncahngle too / immutable too\u001b[0m\u001b[1;33m\u001b[0m\u001b[1;33m\u001b[0m\u001b[0m\n\u001b[1;32m----> 2\u001b[1;33m \u001b[0mtpl_ex\u001b[0m\u001b[1;33m[\u001b[0m\u001b[1;36m2\u001b[0m\u001b[1;33m]\u001b[0m \u001b[1;33m=\u001b[0m \u001b[1;36m5\u001b[0m\u001b[1;33m\u001b[0m\u001b[0m\n\u001b[0m",
        "\u001b[1;31mTypeError\u001b[0m: 'tuple' object does not support item assignment"
       ]
      }
     ],
     "prompt_number": 26
    },
    {
     "cell_type": "markdown",
     "metadata": {},
     "source": [
      "Sets \u2013 A set is an unordered collection with no duplicate elements. Basic uses include membership testing and eliminating duplicate entries. Set objects also support mathematical operations like union, intersection, difference, and symmetric difference"
     ]
    },
    {
     "cell_type": "code",
     "collapsed": false,
     "input": [
      "# what happens when you put a duplicate in sets\n",
      "my_colors = set(['blue', 'red','green','orange','blue'])\n",
      "my_colors  # auto alphas"
     ],
     "language": "python",
     "metadata": {},
     "outputs": [
      {
       "metadata": {},
       "output_type": "pyout",
       "prompt_number": 29,
       "text": [
        "{'blue', 'green', 'orange', 'red'}"
       ]
      }
     ],
     "prompt_number": 29
    },
    {
     "cell_type": "code",
     "collapsed": false,
     "input": [
      "not_my_colors = set(['red', 'blue','purple'])\n",
      "my_colors - not_my_colors"
     ],
     "language": "python",
     "metadata": {},
     "outputs": [
      {
       "metadata": {},
       "output_type": "pyout",
       "prompt_number": 30,
       "text": [
        "{'green', 'orange'}"
       ]
      }
     ],
     "prompt_number": 30
    },
    {
     "cell_type": "code",
     "collapsed": false,
     "input": [
      "# in revse\n",
      "not_my_colors - my_colors"
     ],
     "language": "python",
     "metadata": {},
     "outputs": [
      {
       "metadata": {},
       "output_type": "pyout",
       "prompt_number": 31,
       "text": [
        "{'purple'}"
       ]
      }
     ],
     "prompt_number": 31
    },
    {
     "cell_type": "markdown",
     "metadata": {},
     "source": [
      "Dictionary \u2013 Dictionary is an unordered set of key: value pairs, with the requirement that the keys are unique (within one dictionary). A pair of braces creates an empty dictionary: {}. "
     ]
    },
    {
     "cell_type": "code",
     "collapsed": false,
     "input": [
      "bills = {'Electric' : 300, 'Water' : 25, 'Gas' : 50, 'Car Insurance' : 125}\n",
      "# adding one in\n",
      "bills['Gym'] = 35\n",
      "bills"
     ],
     "language": "python",
     "metadata": {},
     "outputs": [
      {
       "metadata": {},
       "output_type": "pyout",
       "prompt_number": 32,
       "text": [
        "{'Car Insurance': 125, 'Electric': 300, 'Gas': 50, 'Gym': 35, 'Water': 25}"
       ]
      }
     ],
     "prompt_number": 32
    },
    {
     "cell_type": "code",
     "collapsed": false,
     "input": [
      "bills.keys()"
     ],
     "language": "python",
     "metadata": {},
     "outputs": [
      {
       "metadata": {},
       "output_type": "pyout",
       "prompt_number": 33,
       "text": [
        "['Water', 'Gym', 'Gas', 'Electric', 'Car Insurance']"
       ]
      }
     ],
     "prompt_number": 33
    },
    {
     "cell_type": "code",
     "collapsed": false,
     "input": [
      "#http://www.analyticsvidhya.com/blog/2014/08/baby-steps-python-performing-exploratory-analysis-python/\n",
      "\n",
      "import pandas as pd\n",
      "import numpy as np\n",
      "import matplotlib as plt\n",
      "\n",
      "df = pd.read_csv(\"C:/Users/Home/Downloads/titanic_train.csv\")\n",
      "\n",
      "df.head(10)"
     ],
     "language": "python",
     "metadata": {},
     "outputs": [
      {
       "html": [
        "<div style=\"max-height:1000px;max-width:1500px;overflow:auto;\">\n",
        "<table border=\"1\" class=\"dataframe\">\n",
        "  <thead>\n",
        "    <tr style=\"text-align: right;\">\n",
        "      <th></th>\n",
        "      <th>PassengerId</th>\n",
        "      <th>Survived</th>\n",
        "      <th>Pclass</th>\n",
        "      <th>Name</th>\n",
        "      <th>Sex</th>\n",
        "      <th>Age</th>\n",
        "      <th>SibSp</th>\n",
        "      <th>Parch</th>\n",
        "      <th>Ticket</th>\n",
        "      <th>Fare</th>\n",
        "      <th>Cabin</th>\n",
        "      <th>Embarked</th>\n",
        "    </tr>\n",
        "  </thead>\n",
        "  <tbody>\n",
        "    <tr>\n",
        "      <th>0</th>\n",
        "      <td>  1</td>\n",
        "      <td> 0</td>\n",
        "      <td> 3</td>\n",
        "      <td>                           Braund, Mr. Owen Harris</td>\n",
        "      <td>   male</td>\n",
        "      <td> 22</td>\n",
        "      <td> 1</td>\n",
        "      <td> 0</td>\n",
        "      <td>        A/5 21171</td>\n",
        "      <td>  7.2500</td>\n",
        "      <td>  NaN</td>\n",
        "      <td> S</td>\n",
        "    </tr>\n",
        "    <tr>\n",
        "      <th>1</th>\n",
        "      <td>  2</td>\n",
        "      <td> 1</td>\n",
        "      <td> 1</td>\n",
        "      <td> Cumings, Mrs. John Bradley (Florence Briggs Th...</td>\n",
        "      <td> female</td>\n",
        "      <td> 38</td>\n",
        "      <td> 1</td>\n",
        "      <td> 0</td>\n",
        "      <td>         PC 17599</td>\n",
        "      <td> 71.2833</td>\n",
        "      <td>  C85</td>\n",
        "      <td> C</td>\n",
        "    </tr>\n",
        "    <tr>\n",
        "      <th>2</th>\n",
        "      <td>  3</td>\n",
        "      <td> 1</td>\n",
        "      <td> 3</td>\n",
        "      <td>                            Heikkinen, Miss. Laina</td>\n",
        "      <td> female</td>\n",
        "      <td> 26</td>\n",
        "      <td> 0</td>\n",
        "      <td> 0</td>\n",
        "      <td> STON/O2. 3101282</td>\n",
        "      <td>  7.9250</td>\n",
        "      <td>  NaN</td>\n",
        "      <td> S</td>\n",
        "    </tr>\n",
        "    <tr>\n",
        "      <th>3</th>\n",
        "      <td>  4</td>\n",
        "      <td> 1</td>\n",
        "      <td> 1</td>\n",
        "      <td>      Futrelle, Mrs. Jacques Heath (Lily May Peel)</td>\n",
        "      <td> female</td>\n",
        "      <td> 35</td>\n",
        "      <td> 1</td>\n",
        "      <td> 0</td>\n",
        "      <td>           113803</td>\n",
        "      <td> 53.1000</td>\n",
        "      <td> C123</td>\n",
        "      <td> S</td>\n",
        "    </tr>\n",
        "    <tr>\n",
        "      <th>4</th>\n",
        "      <td>  5</td>\n",
        "      <td> 0</td>\n",
        "      <td> 3</td>\n",
        "      <td>                          Allen, Mr. William Henry</td>\n",
        "      <td>   male</td>\n",
        "      <td> 35</td>\n",
        "      <td> 0</td>\n",
        "      <td> 0</td>\n",
        "      <td>           373450</td>\n",
        "      <td>  8.0500</td>\n",
        "      <td>  NaN</td>\n",
        "      <td> S</td>\n",
        "    </tr>\n",
        "    <tr>\n",
        "      <th>5</th>\n",
        "      <td>  6</td>\n",
        "      <td> 0</td>\n",
        "      <td> 3</td>\n",
        "      <td>                                  Moran, Mr. James</td>\n",
        "      <td>   male</td>\n",
        "      <td>NaN</td>\n",
        "      <td> 0</td>\n",
        "      <td> 0</td>\n",
        "      <td>           330877</td>\n",
        "      <td>  8.4583</td>\n",
        "      <td>  NaN</td>\n",
        "      <td> Q</td>\n",
        "    </tr>\n",
        "    <tr>\n",
        "      <th>6</th>\n",
        "      <td>  7</td>\n",
        "      <td> 0</td>\n",
        "      <td> 1</td>\n",
        "      <td>                           McCarthy, Mr. Timothy J</td>\n",
        "      <td>   male</td>\n",
        "      <td> 54</td>\n",
        "      <td> 0</td>\n",
        "      <td> 0</td>\n",
        "      <td>            17463</td>\n",
        "      <td> 51.8625</td>\n",
        "      <td>  E46</td>\n",
        "      <td> S</td>\n",
        "    </tr>\n",
        "    <tr>\n",
        "      <th>7</th>\n",
        "      <td>  8</td>\n",
        "      <td> 0</td>\n",
        "      <td> 3</td>\n",
        "      <td>                    Palsson, Master. Gosta Leonard</td>\n",
        "      <td>   male</td>\n",
        "      <td>  2</td>\n",
        "      <td> 3</td>\n",
        "      <td> 1</td>\n",
        "      <td>           349909</td>\n",
        "      <td> 21.0750</td>\n",
        "      <td>  NaN</td>\n",
        "      <td> S</td>\n",
        "    </tr>\n",
        "    <tr>\n",
        "      <th>8</th>\n",
        "      <td>  9</td>\n",
        "      <td> 1</td>\n",
        "      <td> 3</td>\n",
        "      <td> Johnson, Mrs. Oscar W (Elisabeth Vilhelmina Berg)</td>\n",
        "      <td> female</td>\n",
        "      <td> 27</td>\n",
        "      <td> 0</td>\n",
        "      <td> 2</td>\n",
        "      <td>           347742</td>\n",
        "      <td> 11.1333</td>\n",
        "      <td>  NaN</td>\n",
        "      <td> S</td>\n",
        "    </tr>\n",
        "    <tr>\n",
        "      <th>9</th>\n",
        "      <td> 10</td>\n",
        "      <td> 1</td>\n",
        "      <td> 2</td>\n",
        "      <td>               Nasser, Mrs. Nicholas (Adele Achem)</td>\n",
        "      <td> female</td>\n",
        "      <td> 14</td>\n",
        "      <td> 1</td>\n",
        "      <td> 0</td>\n",
        "      <td>           237736</td>\n",
        "      <td> 30.0708</td>\n",
        "      <td>  NaN</td>\n",
        "      <td> C</td>\n",
        "    </tr>\n",
        "  </tbody>\n",
        "</table>\n",
        "</div>"
       ],
       "metadata": {},
       "output_type": "pyout",
       "prompt_number": 23,
       "text": [
        "   PassengerId  Survived  Pclass  \\\n",
        "0            1         0       3   \n",
        "1            2         1       1   \n",
        "2            3         1       3   \n",
        "3            4         1       1   \n",
        "4            5         0       3   \n",
        "5            6         0       3   \n",
        "6            7         0       1   \n",
        "7            8         0       3   \n",
        "8            9         1       3   \n",
        "9           10         1       2   \n",
        "\n",
        "                                                Name     Sex  Age  SibSp  \\\n",
        "0                            Braund, Mr. Owen Harris    male   22      1   \n",
        "1  Cumings, Mrs. John Bradley (Florence Briggs Th...  female   38      1   \n",
        "2                             Heikkinen, Miss. Laina  female   26      0   \n",
        "3       Futrelle, Mrs. Jacques Heath (Lily May Peel)  female   35      1   \n",
        "4                           Allen, Mr. William Henry    male   35      0   \n",
        "5                                   Moran, Mr. James    male  NaN      0   \n",
        "6                            McCarthy, Mr. Timothy J    male   54      0   \n",
        "7                     Palsson, Master. Gosta Leonard    male    2      3   \n",
        "8  Johnson, Mrs. Oscar W (Elisabeth Vilhelmina Berg)  female   27      0   \n",
        "9                Nasser, Mrs. Nicholas (Adele Achem)  female   14      1   \n",
        "\n",
        "   Parch            Ticket     Fare Cabin Embarked  \n",
        "0      0         A/5 21171   7.2500   NaN        S  \n",
        "1      0          PC 17599  71.2833   C85        C  \n",
        "2      0  STON/O2. 3101282   7.9250   NaN        S  \n",
        "3      0            113803  53.1000  C123        S  \n",
        "4      0            373450   8.0500   NaN        S  \n",
        "5      0            330877   8.4583   NaN        Q  \n",
        "6      0             17463  51.8625   E46        S  \n",
        "7      1            349909  21.0750   NaN        S  \n",
        "8      2            347742  11.1333   NaN        S  \n",
        "9      0            237736  30.0708   NaN        C  "
       ]
      }
     ],
     "prompt_number": 23
    },
    {
     "cell_type": "code",
     "collapsed": false,
     "input": [
      "# summary of numerics\n",
      "df.describe()"
     ],
     "language": "python",
     "metadata": {},
     "outputs": [
      {
       "html": [
        "<div style=\"max-height:1000px;max-width:1500px;overflow:auto;\">\n",
        "<table border=\"1\" class=\"dataframe\">\n",
        "  <thead>\n",
        "    <tr style=\"text-align: right;\">\n",
        "      <th></th>\n",
        "      <th>PassengerId</th>\n",
        "      <th>Survived</th>\n",
        "      <th>Pclass</th>\n",
        "      <th>Age</th>\n",
        "      <th>SibSp</th>\n",
        "      <th>Parch</th>\n",
        "      <th>Fare</th>\n",
        "    </tr>\n",
        "  </thead>\n",
        "  <tbody>\n",
        "    <tr>\n",
        "      <th>count</th>\n",
        "      <td> 891.000000</td>\n",
        "      <td> 891.000000</td>\n",
        "      <td> 891.000000</td>\n",
        "      <td> 714.000000</td>\n",
        "      <td> 891.000000</td>\n",
        "      <td> 891.000000</td>\n",
        "      <td> 891.000000</td>\n",
        "    </tr>\n",
        "    <tr>\n",
        "      <th>mean</th>\n",
        "      <td> 446.000000</td>\n",
        "      <td>   0.383838</td>\n",
        "      <td>   2.308642</td>\n",
        "      <td>  29.699118</td>\n",
        "      <td>   0.523008</td>\n",
        "      <td>   0.381594</td>\n",
        "      <td>  32.204208</td>\n",
        "    </tr>\n",
        "    <tr>\n",
        "      <th>std</th>\n",
        "      <td> 257.353842</td>\n",
        "      <td>   0.486592</td>\n",
        "      <td>   0.836071</td>\n",
        "      <td>  14.526497</td>\n",
        "      <td>   1.102743</td>\n",
        "      <td>   0.806057</td>\n",
        "      <td>  49.693429</td>\n",
        "    </tr>\n",
        "    <tr>\n",
        "      <th>min</th>\n",
        "      <td>   1.000000</td>\n",
        "      <td>   0.000000</td>\n",
        "      <td>   1.000000</td>\n",
        "      <td>   0.420000</td>\n",
        "      <td>   0.000000</td>\n",
        "      <td>   0.000000</td>\n",
        "      <td>   0.000000</td>\n",
        "    </tr>\n",
        "    <tr>\n",
        "      <th>25%</th>\n",
        "      <td> 223.500000</td>\n",
        "      <td>   0.000000</td>\n",
        "      <td>   2.000000</td>\n",
        "      <td>  20.125000</td>\n",
        "      <td>   0.000000</td>\n",
        "      <td>   0.000000</td>\n",
        "      <td>   7.910400</td>\n",
        "    </tr>\n",
        "    <tr>\n",
        "      <th>50%</th>\n",
        "      <td> 446.000000</td>\n",
        "      <td>   0.000000</td>\n",
        "      <td>   3.000000</td>\n",
        "      <td>  28.000000</td>\n",
        "      <td>   0.000000</td>\n",
        "      <td>   0.000000</td>\n",
        "      <td>  14.454200</td>\n",
        "    </tr>\n",
        "    <tr>\n",
        "      <th>75%</th>\n",
        "      <td> 668.500000</td>\n",
        "      <td>   1.000000</td>\n",
        "      <td>   3.000000</td>\n",
        "      <td>  38.000000</td>\n",
        "      <td>   1.000000</td>\n",
        "      <td>   0.000000</td>\n",
        "      <td>  31.000000</td>\n",
        "    </tr>\n",
        "    <tr>\n",
        "      <th>max</th>\n",
        "      <td> 891.000000</td>\n",
        "      <td>   1.000000</td>\n",
        "      <td>   3.000000</td>\n",
        "      <td>  80.000000</td>\n",
        "      <td>   8.000000</td>\n",
        "      <td>   6.000000</td>\n",
        "      <td> 512.329200</td>\n",
        "    </tr>\n",
        "  </tbody>\n",
        "</table>\n",
        "</div>"
       ],
       "metadata": {},
       "output_type": "pyout",
       "prompt_number": 44,
       "text": [
        "       PassengerId    Survived      Pclass         Age       SibSp  \\\n",
        "count   891.000000  891.000000  891.000000  714.000000  891.000000   \n",
        "mean    446.000000    0.383838    2.308642   29.699118    0.523008   \n",
        "std     257.353842    0.486592    0.836071   14.526497    1.102743   \n",
        "min       1.000000    0.000000    1.000000    0.420000    0.000000   \n",
        "25%     223.500000    0.000000    2.000000   20.125000    0.000000   \n",
        "50%     446.000000    0.000000    3.000000   28.000000    0.000000   \n",
        "75%     668.500000    1.000000    3.000000   38.000000    1.000000   \n",
        "max     891.000000    1.000000    3.000000   80.000000    8.000000   \n",
        "\n",
        "            Parch        Fare  \n",
        "count  891.000000  891.000000  \n",
        "mean     0.381594   32.204208  \n",
        "std      0.806057   49.693429  \n",
        "min      0.000000    0.000000  \n",
        "25%      0.000000    7.910400  \n",
        "50%      0.000000   14.454200  \n",
        "75%      0.000000   31.000000  \n",
        "max      6.000000  512.329200  "
       ]
      }
     ],
     "prompt_number": 44
    },
    {
     "cell_type": "code",
     "collapsed": false,
     "input": [
      "# for non-numerics looking at uniques\n",
      "df['Sex'].unique()"
     ],
     "language": "python",
     "metadata": {},
     "outputs": [
      {
       "metadata": {},
       "output_type": "pyout",
       "prompt_number": 47,
       "text": [
        "array(['male', 'female'], dtype=object)"
       ]
      }
     ],
     "prompt_number": 47
    },
    {
     "cell_type": "code",
     "collapsed": false,
     "input": [
      "%matplotlib inline\n",
      "import matplotlib\n",
      "import matplotlib.pyplot as plt\n",
      "\n",
      "# visulazing the distrobution\n",
      "fig = plt.pyplot.figure()\n",
      "ax = fig.add_subplot(111)\n",
      "ax.hist(df['Age'], bins=10, range=(df['Age'.min(), df['Age'].max()]))\n",
      "plt.pyplot.title('Age distribution')\n",
      "plt.pyplot.xlabel('Age')\n",
      "plt.pyplot.ylabel('Count of Passengers')\n",
      "plt.pyplot.show()"
     ],
     "language": "python",
     "metadata": {},
     "outputs": [
      {
       "ename": "AttributeError",
       "evalue": "'module' object has no attribute 'pyplot'",
       "output_type": "pyerr",
       "traceback": [
        "\u001b[1;31m---------------------------------------------------------------------------\u001b[0m\n\u001b[1;31mAttributeError\u001b[0m                            Traceback (most recent call last)",
        "\u001b[1;32m<ipython-input-55-2f283315d419>\u001b[0m in \u001b[0;36m<module>\u001b[1;34m()\u001b[0m\n\u001b[0;32m      4\u001b[0m \u001b[1;33m\u001b[0m\u001b[0m\n\u001b[0;32m      5\u001b[0m \u001b[1;31m# visulazing the distrobution\u001b[0m\u001b[1;33m\u001b[0m\u001b[1;33m\u001b[0m\u001b[0m\n\u001b[1;32m----> 6\u001b[1;33m \u001b[0mfig\u001b[0m \u001b[1;33m=\u001b[0m \u001b[0mplt\u001b[0m\u001b[1;33m.\u001b[0m\u001b[0mpyplot\u001b[0m\u001b[1;33m.\u001b[0m\u001b[0mfigure\u001b[0m\u001b[1;33m(\u001b[0m\u001b[1;33m)\u001b[0m\u001b[1;33m\u001b[0m\u001b[0m\n\u001b[0m\u001b[0;32m      7\u001b[0m \u001b[0max\u001b[0m \u001b[1;33m=\u001b[0m \u001b[0mfig\u001b[0m\u001b[1;33m.\u001b[0m\u001b[0madd_subplot\u001b[0m\u001b[1;33m(\u001b[0m\u001b[1;36m111\u001b[0m\u001b[1;33m)\u001b[0m\u001b[1;33m\u001b[0m\u001b[0m\n\u001b[0;32m      8\u001b[0m \u001b[0max\u001b[0m\u001b[1;33m.\u001b[0m\u001b[0mhist\u001b[0m\u001b[1;33m(\u001b[0m\u001b[0mdf\u001b[0m\u001b[1;33m[\u001b[0m\u001b[1;34m'Age'\u001b[0m\u001b[1;33m]\u001b[0m\u001b[1;33m,\u001b[0m \u001b[0mbins\u001b[0m\u001b[1;33m=\u001b[0m\u001b[1;36m10\u001b[0m\u001b[1;33m,\u001b[0m \u001b[0mrange\u001b[0m\u001b[1;33m=\u001b[0m\u001b[1;33m(\u001b[0m\u001b[0mdf\u001b[0m\u001b[1;33m[\u001b[0m\u001b[1;34m'Age'\u001b[0m\u001b[1;33m.\u001b[0m\u001b[0mmin\u001b[0m\u001b[1;33m(\u001b[0m\u001b[1;33m)\u001b[0m\u001b[1;33m,\u001b[0m \u001b[0mdf\u001b[0m\u001b[1;33m[\u001b[0m\u001b[1;34m'Age'\u001b[0m\u001b[1;33m]\u001b[0m\u001b[1;33m.\u001b[0m\u001b[0mmax\u001b[0m\u001b[1;33m(\u001b[0m\u001b[1;33m)\u001b[0m\u001b[1;33m]\u001b[0m\u001b[1;33m)\u001b[0m\u001b[1;33m)\u001b[0m\u001b[1;33m\u001b[0m\u001b[0m\n",
        "\u001b[1;31mAttributeError\u001b[0m: 'module' object has no attribute 'pyplot'"
       ]
      }
     ],
     "prompt_number": 55
    },
    {
     "cell_type": "code",
     "collapsed": false,
     "input": [
      "fig = plt.pyplot.figure()\n",
      "ax = fig.add_subplot(111)\n",
      "ax.hist(df['Fare'], bins = 10, range = (df['Fare'].min(),df['Fare'].max()))\n",
      "plt.pyplot.title('Fare distribution')\n",
      "plt.pyplot.xlabel('Fare')\n",
      "plt.pyplot.ylabel('Count of Passengers')\n",
      "plt.pyplot.show()"
     ],
     "language": "python",
     "metadata": {},
     "outputs": [
      {
       "ename": "AttributeError",
       "evalue": "'module' object has no attribute 'pyplot'",
       "output_type": "pyerr",
       "traceback": [
        "\u001b[1;31m---------------------------------------------------------------------------\u001b[0m\n\u001b[1;31mAttributeError\u001b[0m                            Traceback (most recent call last)",
        "\u001b[1;32m<ipython-input-52-6928bf040767>\u001b[0m in \u001b[0;36m<module>\u001b[1;34m()\u001b[0m\n\u001b[1;32m----> 1\u001b[1;33m \u001b[0mfig\u001b[0m \u001b[1;33m=\u001b[0m \u001b[0mplt\u001b[0m\u001b[1;33m.\u001b[0m\u001b[0mpyplot\u001b[0m\u001b[1;33m.\u001b[0m\u001b[0mfigure\u001b[0m\u001b[1;33m(\u001b[0m\u001b[1;33m)\u001b[0m\u001b[1;33m\u001b[0m\u001b[0m\n\u001b[0m\u001b[0;32m      2\u001b[0m \u001b[0max\u001b[0m \u001b[1;33m=\u001b[0m \u001b[0mfig\u001b[0m\u001b[1;33m.\u001b[0m\u001b[0madd_subplot\u001b[0m\u001b[1;33m(\u001b[0m\u001b[1;36m111\u001b[0m\u001b[1;33m)\u001b[0m\u001b[1;33m\u001b[0m\u001b[0m\n\u001b[0;32m      3\u001b[0m \u001b[0max\u001b[0m\u001b[1;33m.\u001b[0m\u001b[0mhist\u001b[0m\u001b[1;33m(\u001b[0m\u001b[0mdf\u001b[0m\u001b[1;33m[\u001b[0m\u001b[1;34m'Fare'\u001b[0m\u001b[1;33m]\u001b[0m\u001b[1;33m,\u001b[0m \u001b[0mbins\u001b[0m \u001b[1;33m=\u001b[0m \u001b[1;36m10\u001b[0m\u001b[1;33m,\u001b[0m \u001b[0mrange\u001b[0m \u001b[1;33m=\u001b[0m \u001b[1;33m(\u001b[0m\u001b[0mdf\u001b[0m\u001b[1;33m[\u001b[0m\u001b[1;34m'Fare'\u001b[0m\u001b[1;33m]\u001b[0m\u001b[1;33m.\u001b[0m\u001b[0mmin\u001b[0m\u001b[1;33m(\u001b[0m\u001b[1;33m)\u001b[0m\u001b[1;33m,\u001b[0m\u001b[0mdf\u001b[0m\u001b[1;33m[\u001b[0m\u001b[1;34m'Fare'\u001b[0m\u001b[1;33m]\u001b[0m\u001b[1;33m.\u001b[0m\u001b[0mmax\u001b[0m\u001b[1;33m(\u001b[0m\u001b[1;33m)\u001b[0m\u001b[1;33m)\u001b[0m\u001b[1;33m)\u001b[0m\u001b[1;33m\u001b[0m\u001b[0m\n\u001b[0;32m      4\u001b[0m \u001b[0mplt\u001b[0m\u001b[1;33m.\u001b[0m\u001b[0mpyplot\u001b[0m\u001b[1;33m.\u001b[0m\u001b[0mtitle\u001b[0m\u001b[1;33m(\u001b[0m\u001b[1;34m'Fare distribution'\u001b[0m\u001b[1;33m)\u001b[0m\u001b[1;33m\u001b[0m\u001b[0m\n\u001b[0;32m      5\u001b[0m \u001b[0mplt\u001b[0m\u001b[1;33m.\u001b[0m\u001b[0mpyplot\u001b[0m\u001b[1;33m.\u001b[0m\u001b[0mxlabel\u001b[0m\u001b[1;33m(\u001b[0m\u001b[1;34m'Fare'\u001b[0m\u001b[1;33m)\u001b[0m\u001b[1;33m\u001b[0m\u001b[0m\n",
        "\u001b[1;31mAttributeError\u001b[0m: 'module' object has no attribute 'pyplot'"
       ]
      }
     ],
     "prompt_number": 52
    },
    {
     "cell_type": "code",
     "collapsed": false,
     "input": [
      "%matplotlib inline\n",
      "import matplotlib\n",
      "import matplotlib.pyplot as plt\n",
      "\n",
      "df.boxplot(column='Fare')"
     ],
     "language": "python",
     "metadata": {},
     "outputs": [
      {
       "metadata": {},
       "output_type": "pyout",
       "prompt_number": 56,
       "text": [
        "{'boxes': [<matplotlib.lines.Line2D at 0x16fe4710>],\n",
        " 'caps': [<matplotlib.lines.Line2D at 0x16ff3438>,\n",
        "  <matplotlib.lines.Line2D at 0x16ff39b0>],\n",
        " 'fliers': [<matplotlib.lines.Line2D at 0x16ffe4e0>],\n",
        " 'means': [],\n",
        " 'medians': [<matplotlib.lines.Line2D at 0x16ff3f28>],\n",
        " 'whiskers': [<matplotlib.lines.Line2D at 0x16fe4940>,\n",
        "  <matplotlib.lines.Line2D at 0x16fe4e80>]}"
       ]
      },
      {
       "metadata": {},
       "output_type": "display_data",
       "png": "[encoded data removed]",
       "text": [
        "<matplotlib.figure.Figure at 0x16e53dd8>"
       ]
      }
     ],
     "prompt_number": 56
    },
    {
     "cell_type": "code",
     "collapsed": false,
     "input": [
      "df.boxplot(column='Fare', by='Pclass')"
     ],
     "language": "python",
     "metadata": {},
     "outputs": [
      {
       "metadata": {},
       "output_type": "pyout",
       "prompt_number": 57,
       "text": [
        "<matplotlib.axes._subplots.AxesSubplot at 0x16f13390>"
       ]
      },
      {
       "metadata": {},
       "output_type": "display_data",
       "png": "[encoded data removed]",
       "text": [
        "<matplotlib.figure.Figure at 0x14933eb8>"
       ]
      }
     ],
     "prompt_number": 57
    },
    {
     "cell_type": "code",
     "collapsed": false,
     "input": [
      "# categorical variable analysis\n",
      "temp1 = df.groupby('Pclass').Survived.count()\n",
      "temp2 = df.groupby('Pclass').Survived.sum()/ df.groupby('Pclass').Survived.count()\n",
      "fig = plt.figure(figsize =(8,4))\n",
      "ax1 = fig.add_subplot(121)\n",
      "ax1.set_xlabel('Pclass')\n",
      "ax1.set_ylabel('Count of Passengers')\n",
      "ax1.set_title(\"Passengers by Pclass\")\n",
      "temp1.plot(kind='bar')\n",
      "\n",
      "ax2 = fig.add_subplot(122)\n",
      "temp2.plot(kind = 'bar')\n",
      "ax2.set_xlabel('Pclass')\n",
      "ax2.set_ylabel('Probability of Survival')\n",
      "ax2.set_title(\"Probability of survival by class\")"
     ],
     "language": "python",
     "metadata": {},
     "outputs": [
      {
       "metadata": {},
       "output_type": "pyout",
       "prompt_number": 59,
       "text": [
        "<matplotlib.text.Text at 0x17da86d8>"
       ]
      },
      {
       "metadata": {},
       "output_type": "display_data",
       "png": "[encoded data removed]",
       "text": [
        "<matplotlib.figure.Figure at 0x174634a8>"
       ]
      }
     ],
     "prompt_number": 59
    },
    {
     "cell_type": "code",
     "collapsed": false,
     "input": [
      "temp3 = pd.crosstab([df.Pclass, df.Sex], df.Survived.astype(bool))\n",
      "temp3.plot(kind='bar', stacked=True, color=['red','blue'], grid=False)"
     ],
     "language": "python",
     "metadata": {},
     "outputs": [
      {
       "metadata": {},
       "output_type": "pyout",
       "prompt_number": 60,
       "text": [
        "<matplotlib.axes._subplots.AxesSubplot at 0x1743ca90>"
       ]
      },
      {
       "metadata": {},
       "output_type": "display_data",
       "png": "[encoded data removed]",
       "text": [
        "<matplotlib.figure.Figure at 0x16ea9cf8>"
       ]
      }
     ],
     "prompt_number": 60
    },
    {
     "cell_type": "code",
     "collapsed": false,
     "input": [
      "#help(pd.crosstab)\n",
      "temp4 = pd.crosstab(df.Pclass, df.Sex, df.Embarked)\n",
      "temp4"
     ],
     "language": "python",
     "metadata": {},
     "outputs": [
      {
       "ename": "TypeError",
       "evalue": "'NoneType' object is not callable",
       "output_type": "pyerr",
       "traceback": [
        "\u001b[1;31m---------------------------------------------------------------------------\u001b[0m\n\u001b[1;31mTypeError\u001b[0m                                 Traceback (most recent call last)",
        "\u001b[1;32m<ipython-input-65-2bb521613e45>\u001b[0m in \u001b[0;36m<module>\u001b[1;34m()\u001b[0m\n\u001b[0;32m      1\u001b[0m \u001b[1;31m#help(pd.crosstab)\u001b[0m\u001b[1;33m\u001b[0m\u001b[1;33m\u001b[0m\u001b[0m\n\u001b[1;32m----> 2\u001b[1;33m \u001b[0mtemp4\u001b[0m \u001b[1;33m=\u001b[0m \u001b[0mpd\u001b[0m\u001b[1;33m.\u001b[0m\u001b[0mcrosstab\u001b[0m\u001b[1;33m(\u001b[0m\u001b[0mdf\u001b[0m\u001b[1;33m.\u001b[0m\u001b[0mPclass\u001b[0m\u001b[1;33m,\u001b[0m \u001b[0mdf\u001b[0m\u001b[1;33m.\u001b[0m\u001b[0mSex\u001b[0m\u001b[1;33m,\u001b[0m \u001b[0mdf\u001b[0m\u001b[1;33m.\u001b[0m\u001b[0mEmbarked\u001b[0m\u001b[1;33m)\u001b[0m\u001b[1;33m\u001b[0m\u001b[0m\n\u001b[0m\u001b[0;32m      3\u001b[0m \u001b[0mtemp4\u001b[0m\u001b[1;33m\u001b[0m\u001b[0m\n",
        "\u001b[1;32mC:\\Users\\Home\\Anaconda\\lib\\site-packages\\pandas\\util\\decorators.pyc\u001b[0m in \u001b[0;36mwrapper\u001b[1;34m(*args, **kwargs)\u001b[0m\n\u001b[0;32m     58\u001b[0m                 \u001b[1;32melse\u001b[0m\u001b[1;33m:\u001b[0m\u001b[1;33m\u001b[0m\u001b[0m\n\u001b[0;32m     59\u001b[0m                     \u001b[0mkwargs\u001b[0m\u001b[1;33m[\u001b[0m\u001b[0mnew_arg_name\u001b[0m\u001b[1;33m]\u001b[0m \u001b[1;33m=\u001b[0m \u001b[0mold_arg_value\u001b[0m\u001b[1;33m\u001b[0m\u001b[0m\n\u001b[1;32m---> 60\u001b[1;33m             \u001b[1;32mreturn\u001b[0m \u001b[0mfunc\u001b[0m\u001b[1;33m(\u001b[0m\u001b[1;33m*\u001b[0m\u001b[0margs\u001b[0m\u001b[1;33m,\u001b[0m \u001b[1;33m**\u001b[0m\u001b[0mkwargs\u001b[0m\u001b[1;33m)\u001b[0m\u001b[1;33m\u001b[0m\u001b[0m\n\u001b[0m\u001b[0;32m     61\u001b[0m         \u001b[1;32mreturn\u001b[0m \u001b[0mwrapper\u001b[0m\u001b[1;33m\u001b[0m\u001b[0m\n\u001b[0;32m     62\u001b[0m     \u001b[1;32mreturn\u001b[0m \u001b[0m_deprecate_kwarg\u001b[0m\u001b[1;33m\u001b[0m\u001b[0m\n",
        "\u001b[1;32mC:\\Users\\Home\\Anaconda\\lib\\site-packages\\pandas\\util\\decorators.pyc\u001b[0m in \u001b[0;36mwrapper\u001b[1;34m(*args, **kwargs)\u001b[0m\n\u001b[0;32m     58\u001b[0m                 \u001b[1;32melse\u001b[0m\u001b[1;33m:\u001b[0m\u001b[1;33m\u001b[0m\u001b[0m\n\u001b[0;32m     59\u001b[0m                     \u001b[0mkwargs\u001b[0m\u001b[1;33m[\u001b[0m\u001b[0mnew_arg_name\u001b[0m\u001b[1;33m]\u001b[0m \u001b[1;33m=\u001b[0m \u001b[0mold_arg_value\u001b[0m\u001b[1;33m\u001b[0m\u001b[0m\n\u001b[1;32m---> 60\u001b[1;33m             \u001b[1;32mreturn\u001b[0m \u001b[0mfunc\u001b[0m\u001b[1;33m(\u001b[0m\u001b[1;33m*\u001b[0m\u001b[0margs\u001b[0m\u001b[1;33m,\u001b[0m \u001b[1;33m**\u001b[0m\u001b[0mkwargs\u001b[0m\u001b[1;33m)\u001b[0m\u001b[1;33m\u001b[0m\u001b[0m\n\u001b[0m\u001b[0;32m     61\u001b[0m         \u001b[1;32mreturn\u001b[0m \u001b[0mwrapper\u001b[0m\u001b[1;33m\u001b[0m\u001b[0m\n\u001b[0;32m     62\u001b[0m     \u001b[1;32mreturn\u001b[0m \u001b[0m_deprecate_kwarg\u001b[0m\u001b[1;33m\u001b[0m\u001b[0m\n",
        "\u001b[1;32mC:\\Users\\Home\\Anaconda\\lib\\site-packages\\pandas\\tools\\pivot.pyc\u001b[0m in \u001b[0;36mcrosstab\u001b[1;34m(index, columns, values, rownames, colnames, aggfunc, margins, dropna)\u001b[0m\n\u001b[0;32m    389\u001b[0m         \u001b[0mdf\u001b[0m \u001b[1;33m=\u001b[0m \u001b[0mDataFrame\u001b[0m\u001b[1;33m(\u001b[0m\u001b[0mdata\u001b[0m\u001b[1;33m)\u001b[0m\u001b[1;33m\u001b[0m\u001b[0m\n\u001b[0;32m    390\u001b[0m         table = df.pivot_table('__dummy__', index=rownames, columns=colnames,\n\u001b[1;32m--> 391\u001b[1;33m                                aggfunc=aggfunc, margins=margins, dropna=dropna)\n\u001b[0m\u001b[0;32m    392\u001b[0m         \u001b[1;32mreturn\u001b[0m \u001b[0mtable\u001b[0m\u001b[1;33m\u001b[0m\u001b[0m\n\u001b[0;32m    393\u001b[0m \u001b[1;33m\u001b[0m\u001b[0m\n",
        "\u001b[1;32mC:\\Users\\Home\\Anaconda\\lib\\site-packages\\pandas\\util\\decorators.pyc\u001b[0m in \u001b[0;36mwrapper\u001b[1;34m(*args, **kwargs)\u001b[0m\n\u001b[0;32m     58\u001b[0m                 \u001b[1;32melse\u001b[0m\u001b[1;33m:\u001b[0m\u001b[1;33m\u001b[0m\u001b[0m\n\u001b[0;32m     59\u001b[0m                     \u001b[0mkwargs\u001b[0m\u001b[1;33m[\u001b[0m\u001b[0mnew_arg_name\u001b[0m\u001b[1;33m]\u001b[0m \u001b[1;33m=\u001b[0m \u001b[0mold_arg_value\u001b[0m\u001b[1;33m\u001b[0m\u001b[0m\n\u001b[1;32m---> 60\u001b[1;33m             \u001b[1;32mreturn\u001b[0m \u001b[0mfunc\u001b[0m\u001b[1;33m(\u001b[0m\u001b[1;33m*\u001b[0m\u001b[0margs\u001b[0m\u001b[1;33m,\u001b[0m \u001b[1;33m**\u001b[0m\u001b[0mkwargs\u001b[0m\u001b[1;33m)\u001b[0m\u001b[1;33m\u001b[0m\u001b[0m\n\u001b[0m\u001b[0;32m     61\u001b[0m         \u001b[1;32mreturn\u001b[0m \u001b[0mwrapper\u001b[0m\u001b[1;33m\u001b[0m\u001b[0m\n\u001b[0;32m     62\u001b[0m     \u001b[1;32mreturn\u001b[0m \u001b[0m_deprecate_kwarg\u001b[0m\u001b[1;33m\u001b[0m\u001b[0m\n",
        "\u001b[1;32mC:\\Users\\Home\\Anaconda\\lib\\site-packages\\pandas\\util\\decorators.pyc\u001b[0m in \u001b[0;36mwrapper\u001b[1;34m(*args, **kwargs)\u001b[0m\n\u001b[0;32m     58\u001b[0m                 \u001b[1;32melse\u001b[0m\u001b[1;33m:\u001b[0m\u001b[1;33m\u001b[0m\u001b[0m\n\u001b[0;32m     59\u001b[0m                     \u001b[0mkwargs\u001b[0m\u001b[1;33m[\u001b[0m\u001b[0mnew_arg_name\u001b[0m\u001b[1;33m]\u001b[0m \u001b[1;33m=\u001b[0m \u001b[0mold_arg_value\u001b[0m\u001b[1;33m\u001b[0m\u001b[0m\n\u001b[1;32m---> 60\u001b[1;33m             \u001b[1;32mreturn\u001b[0m \u001b[0mfunc\u001b[0m\u001b[1;33m(\u001b[0m\u001b[1;33m*\u001b[0m\u001b[0margs\u001b[0m\u001b[1;33m,\u001b[0m \u001b[1;33m**\u001b[0m\u001b[0mkwargs\u001b[0m\u001b[1;33m)\u001b[0m\u001b[1;33m\u001b[0m\u001b[0m\n\u001b[0m\u001b[0;32m     61\u001b[0m         \u001b[1;32mreturn\u001b[0m \u001b[0mwrapper\u001b[0m\u001b[1;33m\u001b[0m\u001b[0m\n\u001b[0;32m     62\u001b[0m     \u001b[1;32mreturn\u001b[0m \u001b[0m_deprecate_kwarg\u001b[0m\u001b[1;33m\u001b[0m\u001b[0m\n",
        "\u001b[1;32mC:\\Users\\Home\\Anaconda\\lib\\site-packages\\pandas\\tools\\pivot.pyc\u001b[0m in \u001b[0;36mpivot_table\u001b[1;34m(data, values, index, columns, aggfunc, fill_value, margins, dropna)\u001b[0m\n\u001b[0;32m    113\u001b[0m \u001b[1;33m\u001b[0m\u001b[0m\n\u001b[0;32m    114\u001b[0m     \u001b[0mgrouped\u001b[0m \u001b[1;33m=\u001b[0m \u001b[0mdata\u001b[0m\u001b[1;33m.\u001b[0m\u001b[0mgroupby\u001b[0m\u001b[1;33m(\u001b[0m\u001b[0mkeys\u001b[0m\u001b[1;33m)\u001b[0m\u001b[1;33m\u001b[0m\u001b[0m\n\u001b[1;32m--> 115\u001b[1;33m     \u001b[0magged\u001b[0m \u001b[1;33m=\u001b[0m \u001b[0mgrouped\u001b[0m\u001b[1;33m.\u001b[0m\u001b[0magg\u001b[0m\u001b[1;33m(\u001b[0m\u001b[0maggfunc\u001b[0m\u001b[1;33m)\u001b[0m\u001b[1;33m\u001b[0m\u001b[0m\n\u001b[0m\u001b[0;32m    116\u001b[0m \u001b[1;33m\u001b[0m\u001b[0m\n\u001b[0;32m    117\u001b[0m     \u001b[0mtable\u001b[0m \u001b[1;33m=\u001b[0m \u001b[0magged\u001b[0m\u001b[1;33m\u001b[0m\u001b[0m\n",
        "\u001b[1;32mC:\\Users\\Home\\Anaconda\\lib\\site-packages\\pandas\\core\\groupby.pyc\u001b[0m in \u001b[0;36magg\u001b[1;34m(self, func, *args, **kwargs)\u001b[0m\n\u001b[0;32m    649\u001b[0m     \u001b[1;33m@\u001b[0m\u001b[0mAppender\u001b[0m\u001b[1;33m(\u001b[0m\u001b[0m_agg_doc\u001b[0m\u001b[1;33m)\u001b[0m\u001b[1;33m\u001b[0m\u001b[0m\n\u001b[0;32m    650\u001b[0m     \u001b[1;32mdef\u001b[0m \u001b[0magg\u001b[0m\u001b[1;33m(\u001b[0m\u001b[0mself\u001b[0m\u001b[1;33m,\u001b[0m \u001b[0mfunc\u001b[0m\u001b[1;33m,\u001b[0m \u001b[1;33m*\u001b[0m\u001b[0margs\u001b[0m\u001b[1;33m,\u001b[0m \u001b[1;33m**\u001b[0m\u001b[0mkwargs\u001b[0m\u001b[1;33m)\u001b[0m\u001b[1;33m:\u001b[0m\u001b[1;33m\u001b[0m\u001b[0m\n\u001b[1;32m--> 651\u001b[1;33m         \u001b[1;32mreturn\u001b[0m \u001b[0mself\u001b[0m\u001b[1;33m.\u001b[0m\u001b[0maggregate\u001b[0m\u001b[1;33m(\u001b[0m\u001b[0mfunc\u001b[0m\u001b[1;33m,\u001b[0m \u001b[1;33m*\u001b[0m\u001b[0margs\u001b[0m\u001b[1;33m,\u001b[0m \u001b[1;33m**\u001b[0m\u001b[0mkwargs\u001b[0m\u001b[1;33m)\u001b[0m\u001b[1;33m\u001b[0m\u001b[0m\n\u001b[0m\u001b[0;32m    652\u001b[0m \u001b[1;33m\u001b[0m\u001b[0m\n\u001b[0;32m    653\u001b[0m     \u001b[1;32mdef\u001b[0m \u001b[0m_iterate_slices\u001b[0m\u001b[1;33m(\u001b[0m\u001b[0mself\u001b[0m\u001b[1;33m)\u001b[0m\u001b[1;33m:\u001b[0m\u001b[1;33m\u001b[0m\u001b[0m\n",
        "\u001b[1;32mC:\\Users\\Home\\Anaconda\\lib\\site-packages\\pandas\\core\\groupby.pyc\u001b[0m in \u001b[0;36maggregate\u001b[1;34m(self, arg, *args, **kwargs)\u001b[0m\n\u001b[0;32m   2485\u001b[0m \u001b[1;33m\u001b[0m\u001b[0m\n\u001b[0;32m   2486\u001b[0m             \u001b[1;32mif\u001b[0m \u001b[0mself\u001b[0m\u001b[1;33m.\u001b[0m\u001b[0mgrouper\u001b[0m\u001b[1;33m.\u001b[0m\u001b[0mnkeys\u001b[0m \u001b[1;33m>\u001b[0m \u001b[1;36m1\u001b[0m\u001b[1;33m:\u001b[0m\u001b[1;33m\u001b[0m\u001b[0m\n\u001b[1;32m-> 2487\u001b[1;33m                 \u001b[1;32mreturn\u001b[0m \u001b[0mself\u001b[0m\u001b[1;33m.\u001b[0m\u001b[0m_python_agg_general\u001b[0m\u001b[1;33m(\u001b[0m\u001b[0marg\u001b[0m\u001b[1;33m,\u001b[0m \u001b[1;33m*\u001b[0m\u001b[0margs\u001b[0m\u001b[1;33m,\u001b[0m \u001b[1;33m**\u001b[0m\u001b[0mkwargs\u001b[0m\u001b[1;33m)\u001b[0m\u001b[1;33m\u001b[0m\u001b[0m\n\u001b[0m\u001b[0;32m   2488\u001b[0m             \u001b[1;32melse\u001b[0m\u001b[1;33m:\u001b[0m\u001b[1;33m\u001b[0m\u001b[0m\n\u001b[0;32m   2489\u001b[0m \u001b[1;33m\u001b[0m\u001b[0m\n",
        "\u001b[1;32mC:\\Users\\Home\\Anaconda\\lib\\site-packages\\pandas\\core\\groupby.pyc\u001b[0m in \u001b[0;36m_python_agg_general\u001b[1;34m(self, func, *args, **kwargs)\u001b[0m\n\u001b[0;32m   1062\u001b[0m \u001b[1;33m\u001b[0m\u001b[0m\n\u001b[0;32m   1063\u001b[0m         \u001b[1;32mif\u001b[0m \u001b[0mlen\u001b[0m\u001b[1;33m(\u001b[0m\u001b[0moutput\u001b[0m\u001b[1;33m)\u001b[0m \u001b[1;33m==\u001b[0m \u001b[1;36m0\u001b[0m\u001b[1;33m:\u001b[0m\u001b[1;33m\u001b[0m\u001b[0m\n\u001b[1;32m-> 1064\u001b[1;33m             \u001b[1;32mreturn\u001b[0m \u001b[0mself\u001b[0m\u001b[1;33m.\u001b[0m\u001b[0m_python_apply_general\u001b[0m\u001b[1;33m(\u001b[0m\u001b[0mf\u001b[0m\u001b[1;33m)\u001b[0m\u001b[1;33m\u001b[0m\u001b[0m\n\u001b[0m\u001b[0;32m   1065\u001b[0m \u001b[1;33m\u001b[0m\u001b[0m\n\u001b[0;32m   1066\u001b[0m         \u001b[1;32mif\u001b[0m \u001b[0mself\u001b[0m\u001b[1;33m.\u001b[0m\u001b[0mgrouper\u001b[0m\u001b[1;33m.\u001b[0m\u001b[0m_filter_empty_groups\u001b[0m\u001b[1;33m:\u001b[0m\u001b[1;33m\u001b[0m\u001b[0m\n",
        "\u001b[1;32mC:\\Users\\Home\\Anaconda\\lib\\site-packages\\pandas\\core\\groupby.pyc\u001b[0m in \u001b[0;36m_python_apply_general\u001b[1;34m(self, f)\u001b[0m\n\u001b[0;32m    639\u001b[0m     \u001b[1;32mdef\u001b[0m \u001b[0m_python_apply_general\u001b[0m\u001b[1;33m(\u001b[0m\u001b[0mself\u001b[0m\u001b[1;33m,\u001b[0m \u001b[0mf\u001b[0m\u001b[1;33m)\u001b[0m\u001b[1;33m:\u001b[0m\u001b[1;33m\u001b[0m\u001b[0m\n\u001b[0;32m    640\u001b[0m         keys, values, mutated = self.grouper.apply(f, self._selected_obj,\n\u001b[1;32m--> 641\u001b[1;33m                                                    self.axis)\n\u001b[0m\u001b[0;32m    642\u001b[0m \u001b[1;33m\u001b[0m\u001b[0m\n\u001b[0;32m    643\u001b[0m         return self._wrap_applied_output(keys, values,\n",
        "\u001b[1;32mC:\\Users\\Home\\Anaconda\\lib\\site-packages\\pandas\\core\\groupby.pyc\u001b[0m in \u001b[0;36mapply\u001b[1;34m(self, f, data, axis)\u001b[0m\n\u001b[0;32m   1236\u001b[0m             \u001b[1;31m# group might be modified\u001b[0m\u001b[1;33m\u001b[0m\u001b[1;33m\u001b[0m\u001b[0m\n\u001b[0;32m   1237\u001b[0m             \u001b[0mgroup_axes\u001b[0m \u001b[1;33m=\u001b[0m \u001b[0m_get_axes\u001b[0m\u001b[1;33m(\u001b[0m\u001b[0mgroup\u001b[0m\u001b[1;33m)\u001b[0m\u001b[1;33m\u001b[0m\u001b[0m\n\u001b[1;32m-> 1238\u001b[1;33m             \u001b[0mres\u001b[0m \u001b[1;33m=\u001b[0m \u001b[0mf\u001b[0m\u001b[1;33m(\u001b[0m\u001b[0mgroup\u001b[0m\u001b[1;33m)\u001b[0m\u001b[1;33m\u001b[0m\u001b[0m\n\u001b[0m\u001b[0;32m   1239\u001b[0m             \u001b[1;32mif\u001b[0m \u001b[1;32mnot\u001b[0m \u001b[0m_is_indexed_like\u001b[0m\u001b[1;33m(\u001b[0m\u001b[0mres\u001b[0m\u001b[1;33m,\u001b[0m \u001b[0mgroup_axes\u001b[0m\u001b[1;33m)\u001b[0m\u001b[1;33m:\u001b[0m\u001b[1;33m\u001b[0m\u001b[0m\n\u001b[0;32m   1240\u001b[0m                 \u001b[0mmutated\u001b[0m \u001b[1;33m=\u001b[0m \u001b[0mTrue\u001b[0m\u001b[1;33m\u001b[0m\u001b[0m\n",
        "\u001b[1;32mC:\\Users\\Home\\Anaconda\\lib\\site-packages\\pandas\\core\\groupby.pyc\u001b[0m in \u001b[0;36m<lambda>\u001b[1;34m(x)\u001b[0m\n\u001b[0;32m   1050\u001b[0m     \u001b[1;32mdef\u001b[0m \u001b[0m_python_agg_general\u001b[0m\u001b[1;33m(\u001b[0m\u001b[0mself\u001b[0m\u001b[1;33m,\u001b[0m \u001b[0mfunc\u001b[0m\u001b[1;33m,\u001b[0m \u001b[1;33m*\u001b[0m\u001b[0margs\u001b[0m\u001b[1;33m,\u001b[0m \u001b[1;33m**\u001b[0m\u001b[0mkwargs\u001b[0m\u001b[1;33m)\u001b[0m\u001b[1;33m:\u001b[0m\u001b[1;33m\u001b[0m\u001b[0m\n\u001b[0;32m   1051\u001b[0m         \u001b[0mfunc\u001b[0m \u001b[1;33m=\u001b[0m \u001b[0m_intercept_function\u001b[0m\u001b[1;33m(\u001b[0m\u001b[0mfunc\u001b[0m\u001b[1;33m)\u001b[0m\u001b[1;33m\u001b[0m\u001b[0m\n\u001b[1;32m-> 1052\u001b[1;33m         \u001b[0mf\u001b[0m \u001b[1;33m=\u001b[0m \u001b[1;32mlambda\u001b[0m \u001b[0mx\u001b[0m\u001b[1;33m:\u001b[0m \u001b[0mfunc\u001b[0m\u001b[1;33m(\u001b[0m\u001b[0mx\u001b[0m\u001b[1;33m,\u001b[0m \u001b[1;33m*\u001b[0m\u001b[0margs\u001b[0m\u001b[1;33m,\u001b[0m \u001b[1;33m**\u001b[0m\u001b[0mkwargs\u001b[0m\u001b[1;33m)\u001b[0m\u001b[1;33m\u001b[0m\u001b[0m\n\u001b[0m\u001b[0;32m   1053\u001b[0m \u001b[1;33m\u001b[0m\u001b[0m\n\u001b[0;32m   1054\u001b[0m         \u001b[1;31m# iterate through \"columns\" ex exclusions to populate output dict\u001b[0m\u001b[1;33m\u001b[0m\u001b[1;33m\u001b[0m\u001b[0m\n",
        "\u001b[1;31mTypeError\u001b[0m: 'NoneType' object is not callable"
       ]
      }
     ],
     "prompt_number": 65
    },
    {
     "cell_type": "code",
     "collapsed": false,
     "input": [
      "# check number of nulls\n",
      "sum(df['Cabin'].isnull())"
     ],
     "language": "python",
     "metadata": {},
     "outputs": [
      {
       "metadata": {},
       "output_type": "pyout",
       "prompt_number": 2,
       "text": [
        "687"
       ]
      }
     ],
     "prompt_number": 2
    },
    {
     "cell_type": "code",
     "collapsed": false,
     "input": [
      "# dropping ticket\n",
      "df = df.drop(['Ticket', 'Cabin'], axis=1)"
     ],
     "language": "python",
     "metadata": {},
     "outputs": [],
     "prompt_number": 6
    },
    {
     "cell_type": "code",
     "collapsed": false,
     "input": [
      "# fill missing values in age\n",
      "mean_age = np.mean(df.Age)\n",
      "df.Age = df.Age.fillna(mean_age)"
     ],
     "language": "python",
     "metadata": {},
     "outputs": [],
     "prompt_number": 24
    },
    {
     "cell_type": "code",
     "collapsed": false,
     "input": [
      "# extract title form name\n",
      "def name_extract(word): \n",
      "    return word.split(',')[1].split('.')[0].strip()\n",
      "\n",
      "df2 = pd.DataFrame({'Title':df['Name'].apply(name_extract)})"
     ],
     "language": "python",
     "metadata": {},
     "outputs": [],
     "prompt_number": 25
    },
    {
     "cell_type": "code",
     "collapsed": false,
     "input": [
      "df = pd.merge(df, df2, left_index = True, right_index = True) # merge on index\n",
      "temp1 = df.groupby('Title').PassengerId.count()\n",
      "print temp1"
     ],
     "language": "python",
     "metadata": {},
     "outputs": [
      {
       "output_type": "stream",
       "stream": "stdout",
       "text": [
        "Title\n",
        "Capt              1\n",
        "Col               2\n",
        "Don               1\n",
        "Dr                7\n",
        "Jonkheer          1\n",
        "Lady              1\n",
        "Major             2\n",
        "Master           40\n",
        "Miss            182\n",
        "Mlle              2\n",
        "Mme               1\n",
        "Mr              517\n",
        "Mrs             125\n",
        "Ms                1\n",
        "Rev               6\n",
        "Sir               1\n",
        "the Countess      1\n",
        "Name: PassengerId, dtype: int64\n"
       ]
      }
     ],
     "prompt_number": 26
    },
    {
     "cell_type": "code",
     "collapsed": false,
     "input": [
      "# creating other titel category\n",
      "def group_salutation(old_salutation):\n",
      " if old_salutation == 'Mr':\n",
      "    return('Mr')\n",
      " else:\n",
      "    if old_salutation == 'Mrs':\n",
      "       return('Mrs')\n",
      "    else:\n",
      "       if old_salutation == 'Master':\n",
      "          return('Master')\n",
      "       else: \n",
      "          if old_salutation == 'Miss':\n",
      "             return('Miss')\n",
      "          else:\n",
      "             return('Others')\n",
      "df3 = pd.DataFrame({'New_Title':df['Title'].apply(group_salutation)})\n",
      "df = pd.merge(df, df3, left_index = True, right_index = True)"
     ],
     "language": "python",
     "metadata": {},
     "outputs": [
      {
       "ename": "AttributeError",
       "evalue": "'DataFrameGroupBy' object has no attribute 'PassengerId'",
       "output_type": "pyerr",
       "traceback": [
        "\u001b[1;31m---------------------------------------------------------------------------\u001b[0m\n\u001b[1;31mAttributeError\u001b[0m                            Traceback (most recent call last)",
        "\u001b[1;32m<ipython-input-27-80506aee1bec>\u001b[0m in \u001b[0;36m<module>\u001b[1;34m()\u001b[0m\n\u001b[0;32m     16\u001b[0m \u001b[0mdf3\u001b[0m \u001b[1;33m=\u001b[0m \u001b[0mpd\u001b[0m\u001b[1;33m.\u001b[0m\u001b[0mDataFrame\u001b[0m\u001b[1;33m(\u001b[0m\u001b[1;33m{\u001b[0m\u001b[1;34m'New_Title'\u001b[0m\u001b[1;33m:\u001b[0m\u001b[0mdf\u001b[0m\u001b[1;33m[\u001b[0m\u001b[1;34m'Title'\u001b[0m\u001b[1;33m]\u001b[0m\u001b[1;33m.\u001b[0m\u001b[0mapply\u001b[0m\u001b[1;33m(\u001b[0m\u001b[0mgroup_salutation\u001b[0m\u001b[1;33m)\u001b[0m\u001b[1;33m}\u001b[0m\u001b[1;33m)\u001b[0m\u001b[1;33m\u001b[0m\u001b[0m\n\u001b[0;32m     17\u001b[0m \u001b[0mdf\u001b[0m \u001b[1;33m=\u001b[0m \u001b[0mpd\u001b[0m\u001b[1;33m.\u001b[0m\u001b[0mmerge\u001b[0m\u001b[1;33m(\u001b[0m\u001b[0mdf\u001b[0m\u001b[1;33m,\u001b[0m \u001b[0mdf3\u001b[0m\u001b[1;33m,\u001b[0m \u001b[0mleft_index\u001b[0m \u001b[1;33m=\u001b[0m \u001b[0mTrue\u001b[0m\u001b[1;33m,\u001b[0m \u001b[0mright_index\u001b[0m \u001b[1;33m=\u001b[0m \u001b[0mTrue\u001b[0m\u001b[1;33m)\u001b[0m\u001b[1;33m\u001b[0m\u001b[0m\n\u001b[1;32m---> 18\u001b[1;33m \u001b[0mtemp1\u001b[0m \u001b[1;33m=\u001b[0m \u001b[0mdf3\u001b[0m\u001b[1;33m.\u001b[0m\u001b[0mgroupby\u001b[0m\u001b[1;33m(\u001b[0m\u001b[1;34m'New_Title'\u001b[0m\u001b[1;33m)\u001b[0m\u001b[1;33m.\u001b[0m\u001b[0mPassengerId\u001b[0m\u001b[1;33m.\u001b[0m\u001b[0mcount\u001b[0m\u001b[1;33m(\u001b[0m\u001b[1;33m)\u001b[0m\u001b[1;33m\u001b[0m\u001b[0m\n\u001b[0m\u001b[0;32m     19\u001b[0m \u001b[1;32mprint\u001b[0m \u001b[0mtemp1\u001b[0m\u001b[1;33m\u001b[0m\u001b[0m\n",
        "\u001b[1;32mC:\\Users\\Home\\Anaconda\\lib\\site-packages\\pandas\\core\\groupby.pyc\u001b[0m in \u001b[0;36m__getattr__\u001b[1;34m(self, attr)\u001b[0m\n\u001b[0;32m    486\u001b[0m \u001b[1;33m\u001b[0m\u001b[0m\n\u001b[0;32m    487\u001b[0m         raise AttributeError(\"%r object has no attribute %r\" %\n\u001b[1;32m--> 488\u001b[1;33m                              (type(self).__name__, attr))\n\u001b[0m\u001b[0;32m    489\u001b[0m \u001b[1;33m\u001b[0m\u001b[0m\n\u001b[0;32m    490\u001b[0m     \u001b[1;32mdef\u001b[0m \u001b[0m__getitem__\u001b[0m\u001b[1;33m(\u001b[0m\u001b[0mself\u001b[0m\u001b[1;33m,\u001b[0m \u001b[0mkey\u001b[0m\u001b[1;33m)\u001b[0m\u001b[1;33m:\u001b[0m\u001b[1;33m\u001b[0m\u001b[0m\n",
        "\u001b[1;31mAttributeError\u001b[0m: 'DataFrameGroupBy' object has no attribute 'PassengerId'"
       ]
      }
     ],
     "prompt_number": 27
    },
    {
     "cell_type": "code",
     "collapsed": false,
     "input": [
      "temp1 = df.groupby('New_Title').PassengerId.count()\n",
      "print temp1"
     ],
     "language": "python",
     "metadata": {},
     "outputs": [
      {
       "output_type": "stream",
       "stream": "stdout",
       "text": [
        "New_Title\n",
        "Master        40\n",
        "Miss         182\n",
        "Mr           517\n",
        "Mrs          125\n",
        "Others        27\n",
        "Name: PassengerId, dtype: int64\n"
       ]
      }
     ],
     "prompt_number": 28
    },
    {
     "cell_type": "code",
     "collapsed": false,
     "input": [
      "%matplotlib inline\n",
      "import matplotlib\n",
      "import matplotlib.pyplot as plt\n",
      "\n",
      "df.boxplot(column='Age', by='New_Title')"
     ],
     "language": "python",
     "metadata": {},
     "outputs": [
      {
       "metadata": {},
       "output_type": "pyout",
       "prompt_number": 31,
       "text": [
        "<matplotlib.axes._subplots.AxesSubplot at 0xca964a8>"
       ]
      },
      {
       "metadata": {},
       "output_type": "display_data",
       "png": "[encoded data removed]",
       "text": [
        "<matplotlib.figure.Figure at 0xca6be80>"
       ]
      }
     ],
     "prompt_number": 31
    },
    {
     "cell_type": "code",
     "collapsed": false,
     "input": [
      "# creating a simple frid of Class, Gender, and Salutation\n",
      "\n",
      "table = df.pivot_table(values='Age', index=['New_Title'], columns=['Pclass', 'Sex'], aggfunc=np.median)\n",
      "# Define function to return value of this pivot_table\n",
      "def fage(x):\n",
      "    return table[x['Pclass']][x['Sex']][x['New_Title']]\n",
      "\n",
      "# Replace missing values\n",
      "\n",
      "df['Age'].fillna(df[df['Age'].isnull()].apply(fage, axis=1), inplace=True)"
     ],
     "language": "python",
     "metadata": {},
     "outputs": [],
     "prompt_number": 36
    },
    {
     "cell_type": "code",
     "collapsed": false,
     "input": [
      "df.boxplot(column='Fare', by='Pclass')"
     ],
     "language": "python",
     "metadata": {},
     "outputs": [
      {
       "metadata": {},
       "output_type": "pyout",
       "prompt_number": 39,
       "text": [
        "<matplotlib.axes._subplots.AxesSubplot at 0xd0f3240>"
       ]
      },
      {
       "metadata": {},
       "output_type": "display_data",
       "png": "[encoded data removed]",
       "text": [
        "<matplotlib.figure.Figure at 0xc98a978>"
       ]
      }
     ],
     "prompt_number": 39
    },
    {
     "cell_type": "code",
     "collapsed": false,
     "input": [
      "pd.crosstab(df.Sex, df.Survived).apply(lambda r: r/r.sum(), axis=1)"
     ],
     "language": "python",
     "metadata": {},
     "outputs": [
      {
       "html": [
        "<div style=\"max-height:1000px;max-width:1500px;overflow:auto;\">\n",
        "<table border=\"1\" class=\"dataframe\">\n",
        "  <thead>\n",
        "    <tr style=\"text-align: right;\">\n",
        "      <th>Survived</th>\n",
        "      <th>0</th>\n",
        "      <th>1</th>\n",
        "    </tr>\n",
        "    <tr>\n",
        "      <th>Sex</th>\n",
        "      <th></th>\n",
        "      <th></th>\n",
        "    </tr>\n",
        "  </thead>\n",
        "  <tbody>\n",
        "    <tr>\n",
        "      <th>female</th>\n",
        "      <td> 0.257962</td>\n",
        "      <td> 0.742038</td>\n",
        "    </tr>\n",
        "    <tr>\n",
        "      <th>male</th>\n",
        "      <td> 0.811092</td>\n",
        "      <td> 0.188908</td>\n",
        "    </tr>\n",
        "  </tbody>\n",
        "</table>\n",
        "</div>"
       ],
       "metadata": {},
       "output_type": "pyout",
       "prompt_number": 47,
       "text": [
        "Survived         0         1\n",
        "Sex                         \n",
        "female    0.257962  0.742038\n",
        "male      0.811092  0.188908"
       ]
      }
     ],
     "prompt_number": 47
    },
    {
     "cell_type": "code",
     "collapsed": false,
     "input": [
      "df.groupby('Survived').agg([np.mean, np.std, np.median]).transpose()"
     ],
     "language": "python",
     "metadata": {},
     "outputs": [
      {
       "html": [
        "<div style=\"max-height:1000px;max-width:1500px;overflow:auto;\">\n",
        "<table border=\"1\" class=\"dataframe\">\n",
        "  <thead>\n",
        "    <tr style=\"text-align: right;\">\n",
        "      <th></th>\n",
        "      <th>Survived</th>\n",
        "      <th>0</th>\n",
        "      <th>1</th>\n",
        "    </tr>\n",
        "  </thead>\n",
        "  <tbody>\n",
        "    <tr>\n",
        "      <th rowspan=\"3\" valign=\"top\">PassengerId</th>\n",
        "      <th>mean</th>\n",
        "      <td> 447.016393</td>\n",
        "      <td> 444.368421</td>\n",
        "    </tr>\n",
        "    <tr>\n",
        "      <th>std</th>\n",
        "      <td> 260.640469</td>\n",
        "      <td> 252.358840</td>\n",
        "    </tr>\n",
        "    <tr>\n",
        "      <th>median</th>\n",
        "      <td> 455.000000</td>\n",
        "      <td> 439.500000</td>\n",
        "    </tr>\n",
        "    <tr>\n",
        "      <th rowspan=\"3\" valign=\"top\">Pclass</th>\n",
        "      <th>mean</th>\n",
        "      <td>   2.531876</td>\n",
        "      <td>   1.950292</td>\n",
        "    </tr>\n",
        "    <tr>\n",
        "      <th>std</th>\n",
        "      <td>   0.735805</td>\n",
        "      <td>   0.863321</td>\n",
        "    </tr>\n",
        "    <tr>\n",
        "      <th>median</th>\n",
        "      <td>   3.000000</td>\n",
        "      <td>   2.000000</td>\n",
        "    </tr>\n",
        "    <tr>\n",
        "      <th rowspan=\"3\" valign=\"top\">Age</th>\n",
        "      <th>mean</th>\n",
        "      <td>  30.415100</td>\n",
        "      <td>  28.549778</td>\n",
        "    </tr>\n",
        "    <tr>\n",
        "      <th>std</th>\n",
        "      <td>  12.457370</td>\n",
        "      <td>  13.772498</td>\n",
        "    </tr>\n",
        "    <tr>\n",
        "      <th>median</th>\n",
        "      <td>  29.699118</td>\n",
        "      <td>  29.699118</td>\n",
        "    </tr>\n",
        "    <tr>\n",
        "      <th rowspan=\"3\" valign=\"top\">SibSp</th>\n",
        "      <th>mean</th>\n",
        "      <td>   0.553734</td>\n",
        "      <td>   0.473684</td>\n",
        "    </tr>\n",
        "    <tr>\n",
        "      <th>std</th>\n",
        "      <td>   1.288399</td>\n",
        "      <td>   0.708688</td>\n",
        "    </tr>\n",
        "    <tr>\n",
        "      <th>median</th>\n",
        "      <td>   0.000000</td>\n",
        "      <td>   0.000000</td>\n",
        "    </tr>\n",
        "    <tr>\n",
        "      <th rowspan=\"3\" valign=\"top\">Parch</th>\n",
        "      <th>mean</th>\n",
        "      <td>   0.329690</td>\n",
        "      <td>   0.464912</td>\n",
        "    </tr>\n",
        "    <tr>\n",
        "      <th>std</th>\n",
        "      <td>   0.823166</td>\n",
        "      <td>   0.771712</td>\n",
        "    </tr>\n",
        "    <tr>\n",
        "      <th>median</th>\n",
        "      <td>   0.000000</td>\n",
        "      <td>   0.000000</td>\n",
        "    </tr>\n",
        "    <tr>\n",
        "      <th rowspan=\"3\" valign=\"top\">Fare</th>\n",
        "      <th>mean</th>\n",
        "      <td>  22.117887</td>\n",
        "      <td>  48.395408</td>\n",
        "    </tr>\n",
        "    <tr>\n",
        "      <th>std</th>\n",
        "      <td>  31.388207</td>\n",
        "      <td>  66.596998</td>\n",
        "    </tr>\n",
        "    <tr>\n",
        "      <th>median</th>\n",
        "      <td>  10.500000</td>\n",
        "      <td>  26.000000</td>\n",
        "    </tr>\n",
        "  </tbody>\n",
        "</table>\n",
        "</div>"
       ],
       "metadata": {},
       "output_type": "pyout",
       "prompt_number": 53,
       "text": [
        "Survived                     0           1\n",
        "PassengerId mean    447.016393  444.368421\n",
        "            std     260.640469  252.358840\n",
        "            median  455.000000  439.500000\n",
        "Pclass      mean      2.531876    1.950292\n",
        "            std       0.735805    0.863321\n",
        "            median    3.000000    2.000000\n",
        "Age         mean     30.415100   28.549778\n",
        "            std      12.457370   13.772498\n",
        "            median   29.699118   29.699118\n",
        "SibSp       mean      0.553734    0.473684\n",
        "            std       1.288399    0.708688\n",
        "            median    0.000000    0.000000\n",
        "Parch       mean      0.329690    0.464912\n",
        "            std       0.823166    0.771712\n",
        "            median    0.000000    0.000000\n",
        "Fare        mean     22.117887   48.395408\n",
        "            std      31.388207   66.596998\n",
        "            median   10.500000   26.000000"
       ]
      }
     ],
     "prompt_number": 53
    },
    {
     "cell_type": "code",
     "collapsed": false,
     "input": [
      "x = df.drop(['Ticket', 'Cabin', 'PassengerId', 'Survived', 'Name'], axis=1)\n",
      "y = df['Survived']"
     ],
     "language": "python",
     "metadata": {},
     "outputs": [],
     "prompt_number": 63
    },
    {
     "cell_type": "code",
     "collapsed": false,
     "input": [
      "import numpy as np\n",
      "import matplotlib.pyplot as plt\n",
      "from sklearn import linear_model\n",
      "\n",
      "logreg = linear_model.LogisticRegression(C=1e5)\n",
      "\n",
      "logreg.fit(x, y)"
     ],
     "language": "python",
     "metadata": {},
     "outputs": [
      {
       "ename": "ValueError",
       "evalue": "could not convert string to float: Mr",
       "output_type": "pyerr",
       "traceback": [
        "\u001b[1;31m---------------------------------------------------------------------------\u001b[0m\n\u001b[1;31mValueError\u001b[0m                                Traceback (most recent call last)",
        "\u001b[1;32m<ipython-input-69-b3534f6d82c9>\u001b[0m in \u001b[0;36m<module>\u001b[1;34m()\u001b[0m\n\u001b[0;32m      5\u001b[0m \u001b[0mlogreg\u001b[0m \u001b[1;33m=\u001b[0m \u001b[0mlinear_model\u001b[0m\u001b[1;33m.\u001b[0m\u001b[0mLogisticRegression\u001b[0m\u001b[1;33m(\u001b[0m\u001b[0mC\u001b[0m\u001b[1;33m=\u001b[0m\u001b[1;36m1e5\u001b[0m\u001b[1;33m)\u001b[0m\u001b[1;33m\u001b[0m\u001b[0m\n\u001b[0;32m      6\u001b[0m \u001b[1;33m\u001b[0m\u001b[0m\n\u001b[1;32m----> 7\u001b[1;33m \u001b[0mlogreg\u001b[0m\u001b[1;33m.\u001b[0m\u001b[0mfit\u001b[0m\u001b[1;33m(\u001b[0m\u001b[0mx\u001b[0m\u001b[1;33m,\u001b[0m \u001b[0my\u001b[0m\u001b[1;33m)\u001b[0m\u001b[1;33m\u001b[0m\u001b[0m\n\u001b[0m",
        "\u001b[1;32mC:\\Users\\Home\\Anaconda\\lib\\site-packages\\sklearn\\svm\\base.pyc\u001b[0m in \u001b[0;36mfit\u001b[1;34m(self, X, y)\u001b[0m\n\u001b[0;32m    677\u001b[0m                              \" one.\")\n\u001b[0;32m    678\u001b[0m \u001b[1;33m\u001b[0m\u001b[0m\n\u001b[1;32m--> 679\u001b[1;33m         \u001b[0mX\u001b[0m \u001b[1;33m=\u001b[0m \u001b[0matleast2d_or_csr\u001b[0m\u001b[1;33m(\u001b[0m\u001b[0mX\u001b[0m\u001b[1;33m,\u001b[0m \u001b[0mdtype\u001b[0m\u001b[1;33m=\u001b[0m\u001b[0mnp\u001b[0m\u001b[1;33m.\u001b[0m\u001b[0mfloat64\u001b[0m\u001b[1;33m,\u001b[0m \u001b[0morder\u001b[0m\u001b[1;33m=\u001b[0m\u001b[1;34m\"C\"\u001b[0m\u001b[1;33m)\u001b[0m\u001b[1;33m\u001b[0m\u001b[0m\n\u001b[0m\u001b[0;32m    680\u001b[0m \u001b[1;33m\u001b[0m\u001b[0m\n\u001b[0;32m    681\u001b[0m         self.class_weight_ = compute_class_weight(self.class_weight,\n",
        "\u001b[1;32mC:\\Users\\Home\\Anaconda\\lib\\site-packages\\sklearn\\utils\\validation.pyc\u001b[0m in \u001b[0;36matleast2d_or_csr\u001b[1;34m(X, dtype, order, copy, force_all_finite)\u001b[0m\n\u001b[0;32m    163\u001b[0m     return _atleast2d_or_sparse(X, dtype, order, copy, sp.csr_matrix,\n\u001b[0;32m    164\u001b[0m                                 \u001b[1;34m\"tocsr\"\u001b[0m\u001b[1;33m,\u001b[0m \u001b[0msp\u001b[0m\u001b[1;33m.\u001b[0m\u001b[0misspmatrix_csr\u001b[0m\u001b[1;33m,\u001b[0m\u001b[1;33m\u001b[0m\u001b[0m\n\u001b[1;32m--> 165\u001b[1;33m                                 force_all_finite)\n\u001b[0m\u001b[0;32m    166\u001b[0m \u001b[1;33m\u001b[0m\u001b[0m\n\u001b[0;32m    167\u001b[0m \u001b[1;33m\u001b[0m\u001b[0m\n",
        "\u001b[1;32mC:\\Users\\Home\\Anaconda\\lib\\site-packages\\sklearn\\utils\\validation.pyc\u001b[0m in \u001b[0;36m_atleast2d_or_sparse\u001b[1;34m(X, dtype, order, copy, sparse_class, convmethod, check_same_type, force_all_finite)\u001b[0m\n\u001b[0;32m    140\u001b[0m     \u001b[1;32melse\u001b[0m\u001b[1;33m:\u001b[0m\u001b[1;33m\u001b[0m\u001b[0m\n\u001b[0;32m    141\u001b[0m         X = array2d(X, dtype=dtype, order=order, copy=copy,\n\u001b[1;32m--> 142\u001b[1;33m                     force_all_finite=force_all_finite)\n\u001b[0m\u001b[0;32m    143\u001b[0m     \u001b[1;32mreturn\u001b[0m \u001b[0mX\u001b[0m\u001b[1;33m\u001b[0m\u001b[0m\n\u001b[0;32m    144\u001b[0m \u001b[1;33m\u001b[0m\u001b[0m\n",
        "\u001b[1;32mC:\\Users\\Home\\Anaconda\\lib\\site-packages\\sklearn\\utils\\validation.pyc\u001b[0m in \u001b[0;36marray2d\u001b[1;34m(X, dtype, order, copy, force_all_finite)\u001b[0m\n\u001b[0;32m    118\u001b[0m         raise TypeError('A sparse matrix was passed, but dense data '\n\u001b[0;32m    119\u001b[0m                         'is required. Use X.toarray() to convert to dense.')\n\u001b[1;32m--> 120\u001b[1;33m     \u001b[0mX_2d\u001b[0m \u001b[1;33m=\u001b[0m \u001b[0mnp\u001b[0m\u001b[1;33m.\u001b[0m\u001b[0masarray\u001b[0m\u001b[1;33m(\u001b[0m\u001b[0mnp\u001b[0m\u001b[1;33m.\u001b[0m\u001b[0matleast_2d\u001b[0m\u001b[1;33m(\u001b[0m\u001b[0mX\u001b[0m\u001b[1;33m)\u001b[0m\u001b[1;33m,\u001b[0m \u001b[0mdtype\u001b[0m\u001b[1;33m=\u001b[0m\u001b[0mdtype\u001b[0m\u001b[1;33m,\u001b[0m \u001b[0morder\u001b[0m\u001b[1;33m=\u001b[0m\u001b[0morder\u001b[0m\u001b[1;33m)\u001b[0m\u001b[1;33m\u001b[0m\u001b[0m\n\u001b[0m\u001b[0;32m    121\u001b[0m     \u001b[1;32mif\u001b[0m \u001b[0mforce_all_finite\u001b[0m\u001b[1;33m:\u001b[0m\u001b[1;33m\u001b[0m\u001b[0m\n\u001b[0;32m    122\u001b[0m         \u001b[0m_assert_all_finite\u001b[0m\u001b[1;33m(\u001b[0m\u001b[0mX_2d\u001b[0m\u001b[1;33m)\u001b[0m\u001b[1;33m\u001b[0m\u001b[0m\n",
        "\u001b[1;32mC:\\Users\\Home\\Anaconda\\lib\\site-packages\\numpy\\core\\numeric.pyc\u001b[0m in \u001b[0;36masarray\u001b[1;34m(a, dtype, order)\u001b[0m\n\u001b[0;32m    460\u001b[0m \u001b[1;33m\u001b[0m\u001b[0m\n\u001b[0;32m    461\u001b[0m     \"\"\"\n\u001b[1;32m--> 462\u001b[1;33m     \u001b[1;32mreturn\u001b[0m \u001b[0marray\u001b[0m\u001b[1;33m(\u001b[0m\u001b[0ma\u001b[0m\u001b[1;33m,\u001b[0m \u001b[0mdtype\u001b[0m\u001b[1;33m,\u001b[0m \u001b[0mcopy\u001b[0m\u001b[1;33m=\u001b[0m\u001b[0mFalse\u001b[0m\u001b[1;33m,\u001b[0m \u001b[0morder\u001b[0m\u001b[1;33m=\u001b[0m\u001b[0morder\u001b[0m\u001b[1;33m)\u001b[0m\u001b[1;33m\u001b[0m\u001b[0m\n\u001b[0m\u001b[0;32m    463\u001b[0m \u001b[1;33m\u001b[0m\u001b[0m\n\u001b[0;32m    464\u001b[0m \u001b[1;32mdef\u001b[0m \u001b[0masanyarray\u001b[0m\u001b[1;33m(\u001b[0m\u001b[0ma\u001b[0m\u001b[1;33m,\u001b[0m \u001b[0mdtype\u001b[0m\u001b[1;33m=\u001b[0m\u001b[0mNone\u001b[0m\u001b[1;33m,\u001b[0m \u001b[0morder\u001b[0m\u001b[1;33m=\u001b[0m\u001b[0mNone\u001b[0m\u001b[1;33m)\u001b[0m\u001b[1;33m:\u001b[0m\u001b[1;33m\u001b[0m\u001b[0m\n",
        "\u001b[1;31mValueError\u001b[0m: could not convert string to float: Mr"
       ]
      }
     ],
     "prompt_number": 69
    },
    {
     "cell_type": "code",
     "collapsed": false,
     "input": [
      "help(linear_model.LogisticRegression())"
     ],
     "language": "python",
     "metadata": {},
     "outputs": [
      {
       "output_type": "stream",
       "stream": "stdout",
       "text": [
        "Help on LogisticRegression in module sklearn.linear_model.logistic object:\n",
        "\n",
        "class LogisticRegression(sklearn.svm.base.BaseLibLinear, sklearn.linear_model.base.LinearClassifierMixin, sklearn.feature_selection.from_model._LearntSelectorMixin, sklearn.linear_model.base.SparseCoefMixin)\n",
        " |  Logistic Regression (aka logit, MaxEnt) classifier.\n",
        " |  \n",
        " |  In the multiclass case, the training algorithm uses a one-vs.-all (OvA)\n",
        " |  scheme, rather than the \"true\" multinomial LR.\n",
        " |  \n",
        " |  This class implements L1 and L2 regularized logistic regression using the\n",
        " |  `liblinear` library. It can handle both dense and sparse input. Use\n",
        " |  C-ordered arrays or CSR matrices containing 64-bit floats for optimal\n",
        " |  performance; any other input format will be converted (and copied).\n",
        " |  \n",
        " |  Parameters\n",
        " |  ----------\n",
        " |  penalty : string, 'l1' or 'l2'\n",
        " |      Used to specify the norm used in the penalization.\n",
        " |  \n",
        " |  dual : boolean\n",
        " |      Dual or primal formulation. Dual formulation is only\n",
        " |      implemented for l2 penalty. Prefer dual=False when\n",
        " |      n_samples > n_features.\n",
        " |  \n",
        " |  C : float, optional (default=1.0)\n",
        " |      Inverse of regularization strength; must be a positive float.\n",
        " |      Like in support vector machines, smaller values specify stronger\n",
        " |      regularization.\n",
        " |  \n",
        " |  fit_intercept : bool, default: True\n",
        " |      Specifies if a constant (a.k.a. bias or intercept) should be\n",
        " |      added the decision function.\n",
        " |  \n",
        " |  intercept_scaling : float, default: 1\n",
        " |      when self.fit_intercept is True, instance vector x becomes\n",
        " |      [x, self.intercept_scaling],\n",
        " |      i.e. a \"synthetic\" feature with constant value equals to\n",
        " |      intercept_scaling is appended to the instance vector.\n",
        " |      The intercept becomes intercept_scaling * synthetic feature weight\n",
        " |      Note! the synthetic feature weight is subject to l1/l2 regularization\n",
        " |      as all other features.\n",
        " |      To lessen the effect of regularization on synthetic feature weight\n",
        " |      (and therefore on the intercept) intercept_scaling has to be increased\n",
        " |  \n",
        " |  class_weight : {dict, 'auto'}, optional\n",
        " |      Over-/undersamples the samples of each class according to the given\n",
        " |      weights. If not given, all classes are supposed to have weight one.\n",
        " |      The 'auto' mode selects weights inversely proportional to class\n",
        " |      frequencies in the training set.\n",
        " |  \n",
        " |  random_state: int seed, RandomState instance, or None (default)\n",
        " |      The seed of the pseudo random number generator to use when\n",
        " |      shuffling the data.\n",
        " |  \n",
        " |  tol: float, optional\n",
        " |      Tolerance for stopping criteria.\n",
        " |  \n",
        " |  Attributes\n",
        " |  ----------\n",
        " |  `coef_` : array, shape = [n_classes, n_features]\n",
        " |      Coefficient of the features in the decision function.\n",
        " |  \n",
        " |      `coef_` is readonly property derived from `raw_coef_` that         follows the internal memory layout of liblinear.\n",
        " |  \n",
        " |  `intercept_` : array, shape = [n_classes]\n",
        " |      Intercept (a.k.a. bias) added to the decision function.\n",
        " |      If `fit_intercept` is set to False, the intercept is set to zero.\n",
        " |  \n",
        " |  See also\n",
        " |  --------\n",
        " |  SGDClassifier: incrementally trained logistic regression (when given\n",
        " |      the parameter ``loss=\"log\"``).\n",
        " |  sklearn.svm.LinearSVC: learns SVM models using the same algorithm.\n",
        " |  \n",
        " |  Notes\n",
        " |  -----\n",
        " |  The underlying C implementation uses a random number generator to\n",
        " |  select features when fitting the model. It is thus not uncommon,\n",
        " |  to have slightly different results for the same input data. If\n",
        " |  that happens, try with a smaller tol parameter.\n",
        " |  \n",
        " |  References:\n",
        " |  \n",
        " |  LIBLINEAR -- A Library for Large Linear Classification\n",
        " |      http://www.csie.ntu.edu.tw/~cjlin/liblinear/\n",
        " |  \n",
        " |  Hsiang-Fu Yu, Fang-Lan Huang, Chih-Jen Lin (2011). Dual coordinate descent\n",
        " |      methods for logistic regression and maximum entropy models.\n",
        " |      Machine Learning 85(1-2):41-75.\n",
        " |      http://www.csie.ntu.edu.tw/~cjlin/papers/maxent_dual.pdf\n",
        " |  \n",
        " |  Method resolution order:\n",
        " |      LogisticRegression\n",
        " |      sklearn.svm.base.BaseLibLinear\n",
        " |      abc.NewBase\n",
        " |      sklearn.base.BaseEstimator\n",
        " |      sklearn.linear_model.base.LinearClassifierMixin\n",
        " |      sklearn.base.ClassifierMixin\n",
        " |      sklearn.feature_selection.from_model._LearntSelectorMixin\n",
        " |      sklearn.base.TransformerMixin\n",
        " |      sklearn.linear_model.base.SparseCoefMixin\n",
        " |      __builtin__.object\n",
        " |  \n",
        " |  Methods defined here:\n",
        " |  \n",
        " |  __init__(self, penalty='l2', dual=False, tol=0.0001, C=1.0, fit_intercept=True, intercept_scaling=1, class_weight=None, random_state=None)\n",
        " |  \n",
        " |  predict_log_proba(self, X)\n",
        " |      Log of probability estimates.\n",
        " |      \n",
        " |      The returned estimates for all classes are ordered by the\n",
        " |      label of classes.\n",
        " |      \n",
        " |      Parameters\n",
        " |      ----------\n",
        " |      X : array-like, shape = [n_samples, n_features]\n",
        " |      \n",
        " |      Returns\n",
        " |      -------\n",
        " |      T : array-like, shape = [n_samples, n_classes]\n",
        " |          Returns the log-probability of the sample for each class in the\n",
        " |          model, where classes are ordered as they are in ``self.classes_``.\n",
        " |  \n",
        " |  predict_proba(self, X)\n",
        " |      Probability estimates.\n",
        " |      \n",
        " |      The returned estimates for all classes are ordered by the\n",
        " |      label of classes.\n",
        " |      \n",
        " |      Parameters\n",
        " |      ----------\n",
        " |      X : array-like, shape = [n_samples, n_features]\n",
        " |      \n",
        " |      Returns\n",
        " |      -------\n",
        " |      T : array-like, shape = [n_samples, n_classes]\n",
        " |          Returns the probability of the sample for each class in the model,\n",
        " |          where classes are ordered as they are in ``self.classes_``.\n",
        " |  \n",
        " |  ----------------------------------------------------------------------\n",
        " |  Data and other attributes defined here:\n",
        " |  \n",
        " |  __abstractmethods__ = frozenset([])\n",
        " |  \n",
        " |  ----------------------------------------------------------------------\n",
        " |  Methods inherited from sklearn.svm.base.BaseLibLinear:\n",
        " |  \n",
        " |  fit(self, X, y)\n",
        " |      Fit the model according to the given training data.\n",
        " |      \n",
        " |      Parameters\n",
        " |      ----------\n",
        " |      X : {array-like, sparse matrix}, shape = [n_samples, n_features]\n",
        " |          Training vector, where n_samples in the number of samples and\n",
        " |          n_features is the number of features.\n",
        " |      \n",
        " |      y : array-like, shape = [n_samples]\n",
        " |          Target vector relative to X\n",
        " |      \n",
        " |      Returns\n",
        " |      -------\n",
        " |      self : object\n",
        " |          Returns self.\n",
        " |  \n",
        " |  ----------------------------------------------------------------------\n",
        " |  Data descriptors inherited from sklearn.svm.base.BaseLibLinear:\n",
        " |  \n",
        " |  classes_\n",
        " |  \n",
        " |  ----------------------------------------------------------------------\n",
        " |  Methods inherited from sklearn.base.BaseEstimator:\n",
        " |  \n",
        " |  __repr__(self)\n",
        " |  \n",
        " |  get_params(self, deep=True)\n",
        " |      Get parameters for this estimator.\n",
        " |      \n",
        " |      Parameters\n",
        " |      ----------\n",
        " |      deep: boolean, optional\n",
        " |          If True, will return the parameters for this estimator and\n",
        " |          contained subobjects that are estimators.\n",
        " |      \n",
        " |      Returns\n",
        " |      -------\n",
        " |      params : mapping of string to any\n",
        " |          Parameter names mapped to their values.\n",
        " |  \n",
        " |  set_params(self, **params)\n",
        " |      Set the parameters of this estimator.\n",
        " |      \n",
        " |      The method works on simple estimators as well as on nested objects\n",
        " |      (such as pipelines). The former have parameters of the form\n",
        " |      ``<component>__<parameter>`` so that it's possible to update each\n",
        " |      component of a nested object.\n",
        " |      \n",
        " |      Returns\n",
        " |      -------\n",
        " |      self\n",
        " |  \n",
        " |  ----------------------------------------------------------------------\n",
        " |  Data descriptors inherited from sklearn.base.BaseEstimator:\n",
        " |  \n",
        " |  __dict__\n",
        " |      dictionary for instance variables (if defined)\n",
        " |  \n",
        " |  __weakref__\n",
        " |      list of weak references to the object (if defined)\n",
        " |  \n",
        " |  ----------------------------------------------------------------------\n",
        " |  Methods inherited from sklearn.linear_model.base.LinearClassifierMixin:\n",
        " |  \n",
        " |  decision_function(self, X)\n",
        " |      Predict confidence scores for samples.\n",
        " |      \n",
        " |      The confidence score for a sample is the signed distance of that\n",
        " |      sample to the hyperplane.\n",
        " |      \n",
        " |      Parameters\n",
        " |      ----------\n",
        " |      X : {array-like, sparse matrix}, shape = (n_samples, n_features)\n",
        " |          Samples.\n",
        " |      \n",
        " |      Returns\n",
        " |      -------\n",
        " |      array, shape=(n_samples,) if n_classes == 2 else (n_samples, n_classes)\n",
        " |          Confidence scores per (sample, class) combination. In the binary\n",
        " |          case, confidence score for self.classes_[1] where >0 means this\n",
        " |          class would be predicted.\n",
        " |  \n",
        " |  predict(self, X)\n",
        " |      Predict class labels for samples in X.\n",
        " |      \n",
        " |      Parameters\n",
        " |      ----------\n",
        " |      X : {array-like, sparse matrix}, shape = [n_samples, n_features]\n",
        " |          Samples.\n",
        " |      \n",
        " |      Returns\n",
        " |      -------\n",
        " |      C : array, shape = [n_samples]\n",
        " |          Predicted class label per sample.\n",
        " |  \n",
        " |  ----------------------------------------------------------------------\n",
        " |  Methods inherited from sklearn.base.ClassifierMixin:\n",
        " |  \n",
        " |  score(self, X, y, sample_weight=None)\n",
        " |      Returns the mean accuracy on the given test data and labels.\n",
        " |      \n",
        " |      Parameters\n",
        " |      ----------\n",
        " |      X : array-like, shape = (n_samples, n_features)\n",
        " |          Test samples.\n",
        " |      \n",
        " |      y : array-like, shape = (n_samples,)\n",
        " |          True labels for X.\n",
        " |      \n",
        " |      sample_weight : array-like, shape = [n_samples], optional\n",
        " |          Sample weights.\n",
        " |      \n",
        " |      Returns\n",
        " |      -------\n",
        " |      score : float\n",
        " |          Mean accuracy of self.predict(X) wrt. y.\n",
        " |  \n",
        " |  ----------------------------------------------------------------------\n",
        " |  Methods inherited from sklearn.feature_selection.from_model._LearntSelectorMixin:\n",
        " |  \n",
        " |  transform(self, X, threshold=None)\n",
        " |      Reduce X to its most important features.\n",
        " |      \n",
        " |      Parameters\n",
        " |      ----------\n",
        " |      X : array or scipy sparse matrix of shape [n_samples, n_features]\n",
        " |          The input samples.\n",
        " |      \n",
        " |      threshold : string, float or None, optional (default=None)\n",
        " |          The threshold value to use for feature selection. Features whose\n",
        " |          importance is greater or equal are kept while the others are\n",
        " |          discarded. If \"median\" (resp. \"mean\"), then the threshold value is\n",
        " |          the median (resp. the mean) of the feature importances. A scaling\n",
        " |          factor (e.g., \"1.25*mean\") may also be used. If None and if\n",
        " |          available, the object attribute ``threshold`` is used. Otherwise,\n",
        " |          \"mean\" is used by default.\n",
        " |      \n",
        " |      Returns\n",
        " |      -------\n",
        " |      X_r : array of shape [n_samples, n_selected_features]\n",
        " |          The input samples with only the selected features.\n",
        " |  \n",
        " |  ----------------------------------------------------------------------\n",
        " |  Methods inherited from sklearn.base.TransformerMixin:\n",
        " |  \n",
        " |  fit_transform(self, X, y=None, **fit_params)\n",
        " |      Fit to data, then transform it.\n",
        " |      \n",
        " |      Fits transformer to X and y with optional parameters fit_params\n",
        " |      and returns a transformed version of X.\n",
        " |      \n",
        " |      Parameters\n",
        " |      ----------\n",
        " |      X : numpy array of shape [n_samples, n_features]\n",
        " |          Training set.\n",
        " |      \n",
        " |      y : numpy array of shape [n_samples]\n",
        " |          Target values.\n",
        " |      \n",
        " |      Returns\n",
        " |      -------\n",
        " |      X_new : numpy array of shape [n_samples, n_features_new]\n",
        " |          Transformed array.\n",
        " |  \n",
        " |  ----------------------------------------------------------------------\n",
        " |  Methods inherited from sklearn.linear_model.base.SparseCoefMixin:\n",
        " |  \n",
        " |  densify(self)\n",
        " |      Convert coefficient matrix to dense array format.\n",
        " |      \n",
        " |      Converts the ``coef_`` member (back) to a numpy.ndarray. This is the\n",
        " |      default format of ``coef_`` and is required for fitting, so calling\n",
        " |      this method is only required on models that have previously been\n",
        " |      sparsified; otherwise, it is a no-op.\n",
        " |      \n",
        " |      Returns\n",
        " |      -------\n",
        " |      self: estimator\n",
        " |  \n",
        " |  sparsify(self)\n",
        " |      Convert coefficient matrix to sparse format.\n",
        " |      \n",
        " |      Converts the ``coef_`` member to a scipy.sparse matrix, which for\n",
        " |      L1-regularized models can be much more memory- and storage-efficient\n",
        " |      than the usual numpy.ndarray representation.\n",
        " |      \n",
        " |      The ``intercept_`` member is not converted.\n",
        " |      \n",
        " |      Notes\n",
        " |      -----\n",
        " |      For non-sparse models, i.e. when there are not many zeros in ``coef_``,\n",
        " |      this may actually *increase* memory usage, so use this method with\n",
        " |      care. A rule of thumb is that the number of zero elements, which can\n",
        " |      be computed with ``(coef_ == 0).sum()``, must be more than 50% for this\n",
        " |      to provide significant benefits.\n",
        " |      \n",
        " |      After calling this method, further fitting with the partial_fit\n",
        " |      method (if any) will not work until you call densify.\n",
        " |      \n",
        " |      Returns\n",
        " |      -------\n",
        " |      self: estimator\n",
        "\n"
       ]
      }
     ],
     "prompt_number": 70
    },
    {
     "cell_type": "code",
     "collapsed": false,
     "input": [],
     "language": "python",
     "metadata": {},
     "outputs": []
    },
    {
     "cell_type": "code",
     "collapsed": false,
     "input": [],
     "language": "python",
     "metadata": {},
     "outputs": []
    },
    {
     "cell_type": "code",
     "collapsed": false,
     "input": [],
     "language": "python",
     "metadata": {},
     "outputs": []
    },
    {
     "cell_type": "code",
     "collapsed": false,
     "input": [],
     "language": "python",
     "metadata": {},
     "outputs": []
    },
    {
     "cell_type": "code",
     "collapsed": false,
     "input": [],
     "language": "python",
     "metadata": {},
     "outputs": []
    }
   ],
   "metadata": {}
  }
 ]
}